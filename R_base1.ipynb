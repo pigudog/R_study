{
 "cells": [
  {
   "cell_type": "markdown",
   "id": "4176ec5f-1f53-4613-9067-85d7fea25f9f",
   "metadata": {},
   "source": [
    "# Intro-base1\\\n",
    "    \n",
    "1. 赋值\n",
    "2. 简单的运算\n",
    "3. 在线帮助\n",
    "4. 简单的数据处理\n",
    "5. 二元关系\n",
    "6. R的数据结构\n",
    "7. 浏览对象信息\n",
    "8. 向量矩阵，数据框，列表，时间序列"
   ]
  },
  {
   "cell_type": "markdown",
   "id": "28f98903-41a1-4aa0-b30c-6f5c02cc3911",
   "metadata": {},
   "source": [
    "3种复制方式"
   ]
  },
  {
   "cell_type": "code",
   "execution_count": 2,
   "id": "8d4d5dfa-8aa2-4540-b947-6fc7ada5abdc",
   "metadata": {},
   "outputs": [
    {
     "data": {
      "text/html": [
       "10"
      ],
      "text/latex": [
       "10"
      ],
      "text/markdown": [
       "10"
      ],
      "text/plain": [
       "[1] 10"
      ]
     },
     "metadata": {},
     "output_type": "display_data"
    }
   ],
   "source": [
    "n = 10\n",
    "n"
   ]
  },
  {
   "cell_type": "code",
   "execution_count": 4,
   "id": "b93408f2-348c-47f4-8b45-04b124eaf7a8",
   "metadata": {},
   "outputs": [
    {
     "data": {
      "text/html": [
       "10"
      ],
      "text/latex": [
       "10"
      ],
      "text/markdown": [
       "10"
      ],
      "text/plain": [
       "[1] 10"
      ]
     },
     "metadata": {},
     "output_type": "display_data"
    }
   ],
   "source": [
    "n <- 10\n",
    "n"
   ]
  },
  {
   "cell_type": "code",
   "execution_count": 6,
   "id": "a8f23425-3fb3-4c80-8ddd-d207c4f6b268",
   "metadata": {},
   "outputs": [
    {
     "data": {
      "text/html": [
       "9"
      ],
      "text/latex": [
       "9"
      ],
      "text/markdown": [
       "9"
      ],
      "text/plain": [
       "[1] 9"
      ]
     },
     "metadata": {},
     "output_type": "display_data"
    }
   ],
   "source": [
    "# reverse\n",
    "9 -> n\n",
    "n"
   ]
  },
  {
   "cell_type": "code",
   "execution_count": 9,
   "id": "010ce452-6d5f-4e6e-8754-071a0405c841",
   "metadata": {},
   "outputs": [
    {
     "data": {
      "text/html": [
       "8"
      ],
      "text/latex": [
       "8"
      ],
      "text/markdown": [
       "8"
      ],
      "text/plain": [
       "[1] 8"
      ]
     },
     "metadata": {},
     "output_type": "display_data"
    }
   ],
   "source": [
    "assign('n',8)\n",
    "n"
   ]
  },
  {
   "cell_type": "markdown",
   "id": "da27be3a-a75a-41b1-9835-bffc9c58d418",
   "metadata": {},
   "source": [
    "R的运算符号：加减乘除、乘方、开放、指数"
   ]
  },
  {
   "cell_type": "code",
   "execution_count": 11,
   "id": "ca91b7ad-6374-45a6-b4b5-7d6d2367b61d",
   "metadata": {},
   "outputs": [
    {
     "data": {
      "text/html": [
       "11"
      ],
      "text/latex": [
       "11"
      ],
      "text/markdown": [
       "11"
      ],
      "text/plain": [
       "[1] 11"
      ]
     },
     "metadata": {},
     "output_type": "display_data"
    }
   ],
   "source": [
    "(( 10 + 2 ) * 5 - 2^4)/4"
   ]
  },
  {
   "cell_type": "code",
   "execution_count": 13,
   "id": "dc957054-7a40-4441-9f24-a15d838cd769",
   "metadata": {},
   "outputs": [
    {
     "data": {
      "text/html": [
       "1.73205080756888"
      ],
      "text/latex": [
       "1.73205080756888"
      ],
      "text/markdown": [
       "1.73205080756888"
      ],
      "text/plain": [
       "[1] 1.732051"
      ]
     },
     "metadata": {},
     "output_type": "display_data"
    }
   ],
   "source": [
    "sqrt(3)"
   ]
  },
  {
   "cell_type": "code",
   "execution_count": 14,
   "id": "c8faef8e-eb86-4d8a-a7a9-8c841ca6c17f",
   "metadata": {},
   "outputs": [
    {
     "data": {
      "text/html": [
       "7.38905609893065"
      ],
      "text/latex": [
       "7.38905609893065"
      ],
      "text/markdown": [
       "7.38905609893065"
      ],
      "text/plain": [
       "[1] 7.389056"
      ]
     },
     "metadata": {},
     "output_type": "display_data"
    }
   ],
   "source": [
    "exp(2)"
   ]
  },
  {
   "cell_type": "markdown",
   "id": "eb4e347d-b523-4cb4-bc2e-4cde68bea9d1",
   "metadata": {},
   "source": [
    "# 在线帮助\n",
    "\n",
    "R的基本知识：通过命令"
   ]
  },
  {
   "cell_type": "code",
   "execution_count": 17,
   "id": "3b13af54-2bed-4613-a764-e01bab883c0f",
   "metadata": {},
   "outputs": [],
   "source": [
    "# help.start() "
   ]
  },
  {
   "cell_type": "markdown",
   "id": "3d26c741-906a-41d3-8139-021f96396c71",
   "metadata": {},
   "source": [
    "R种的函数或关键字符"
   ]
  },
  {
   "cell_type": "code",
   "execution_count": 18,
   "id": "cac8c6a4-2d58-4e1d-b6db-cc2ea7792d9e",
   "metadata": {},
   "outputs": [
    {
     "data": {
      "text/html": [
       "No documentation for 'fun' in specified packages and libraries:\n",
       "you could try '??fun'"
      ],
      "text/latex": [
       "No documentation for 'fun' in specified packages and libraries:\n",
       "you could try '??fun'"
      ],
      "text/plain": [
       "No documentation for 'fun' in specified packages and libraries:\n",
       "you could try '??fun'"
      ]
     },
     "metadata": {},
     "output_type": "display_data"
    }
   ],
   "source": [
    "# reserch help of function\n",
    "help(fun)\n",
    "# or\n",
    "?fun"
   ]
  },
  {
   "cell_type": "code",
   "execution_count": 19,
   "id": "75b4250b-c93b-4e9b-acbf-0ec51a13ad72",
   "metadata": {},
   "outputs": [],
   "source": [
    "??fun"
   ]
  },
  {
   "cell_type": "code",
   "execution_count": 20,
   "id": "5efd4613-0890-46a7-8743-b68fdbe9ecbe",
   "metadata": {},
   "outputs": [
    {
     "data": {
      "text/html": [
       "\n",
       "<table style=\"width: 100%;\"><tr><td>char {pillar}</td><td style=\"text-align: right;\">R Documentation</td></tr></table>\n",
       "\n",
       "<h2>Format a character vector in a tibble</h2>\n",
       "\n",
       "<h3>Description</h3>\n",
       "\n",
       "<p>These functions are reexported as <code>tibble::char()</code> and <code>tibble::set_char_opts()</code>.\n",
       "</p>\n",
       "\n",
       "\n",
       "<h3>Usage</h3>\n",
       "\n",
       "<pre><code class='language-R'>char(\n",
       "  x,\n",
       "  ...,\n",
       "  min_chars = NULL,\n",
       "  shorten = c(\"back\", \"front\", \"mid\", \"abbreviate\")\n",
       ")\n",
       "\n",
       "set_char_opts(\n",
       "  x,\n",
       "  ...,\n",
       "  min_chars = NULL,\n",
       "  shorten = c(\"back\", \"front\", \"mid\", \"abbreviate\")\n",
       ")\n",
       "</code></pre>\n",
       "\n",
       "<hr /><div style=\"text-align: center;\">[Package <em>pillar</em> version 1.8.1 ]</div>\n",
       "</div>"
      ],
      "text/latex": [
       "\\inputencoding{utf8}\n",
       "\\HeaderA{char}{Format a character vector in a tibble}{char}\n",
       "\\aliasA{set\\_char\\_opts}{char}{set.Rul.char.Rul.opts}\n",
       "\\keyword{internal}{char}\n",
       "%\n",
       "\\begin{Description}\\relax\n",
       "These functions are reexported as \\code{\\LinkA{tibble::char()}{tibble::char()}} and \\code{\\LinkA{tibble::set\\_char\\_opts()}{tibble::set.Rul.char.Rul.opts()}}.\n",
       "\\end{Description}\n",
       "%\n",
       "\\begin{Usage}\n",
       "\\begin{verbatim}\n",
       "char(\n",
       "  x,\n",
       "  ...,\n",
       "  min_chars = NULL,\n",
       "  shorten = c(\"back\", \"front\", \"mid\", \"abbreviate\")\n",
       ")\n",
       "\n",
       "set_char_opts(\n",
       "  x,\n",
       "  ...,\n",
       "  min_chars = NULL,\n",
       "  shorten = c(\"back\", \"front\", \"mid\", \"abbreviate\")\n",
       ")\n",
       "\\end{verbatim}\n",
       "\\end{Usage}"
      ],
      "text/plain": [
       "char                  package:pillar                   R Documentation\n",
       "\n",
       "_\bF_\bo_\br_\bm_\ba_\bt _\ba _\bc_\bh_\ba_\br_\ba_\bc_\bt_\be_\br _\bv_\be_\bc_\bt_\bo_\br _\bi_\bn _\ba _\bt_\bi_\bb_\bb_\bl_\be\n",
       "\n",
       "_\bD_\be_\bs_\bc_\br_\bi_\bp_\bt_\bi_\bo_\bn:\n",
       "\n",
       "     These functions are reexported as 'tibble::char()' and\n",
       "     'tibble::set_char_opts()'.\n",
       "\n",
       "_\bU_\bs_\ba_\bg_\be:\n",
       "\n",
       "     char(\n",
       "       x,\n",
       "       ...,\n",
       "       min_chars = NULL,\n",
       "       shorten = c(\"back\", \"front\", \"mid\", \"abbreviate\")\n",
       "     )\n",
       "     \n",
       "     set_char_opts(\n",
       "       x,\n",
       "       ...,\n",
       "       min_chars = NULL,\n",
       "       shorten = c(\"back\", \"front\", \"mid\", \"abbreviate\")\n",
       "     )\n",
       "     "
      ]
     },
     "metadata": {},
     "output_type": "display_data"
    }
   ],
   "source": [
    "help(\"char\") "
   ]
  },
  {
   "cell_type": "code",
   "execution_count": 2,
   "id": "684a7085-34f9-47e0-b995-f17e22edeb9a",
   "metadata": {},
   "outputs": [
    {
     "ename": "ERROR",
     "evalue": "Error in help(\"bs\", try.all.package = True): object 'True' not found\n",
     "output_type": "error",
     "traceback": [
      "Error in help(\"bs\", try.all.package = True): object 'True' not found\nTraceback:\n",
      "1. help(\"bs\", try.all.package = True)"
     ]
    }
   ],
   "source": [
    "help(\"bs\",try.all.package=True)\n",
    "# 注意true在R中可能并不适用"
   ]
  },
  {
   "cell_type": "code",
   "execution_count": 5,
   "id": "186c7d3d-bd99-486a-815f-75273a768e7c",
   "metadata": {},
   "outputs": [
    {
     "data": {
      "text/html": [
       "\n",
       "<table style=\"width: 100%;\"><tr><td>bs {splines}</td><td style=\"text-align: right;\">R Documentation</td></tr></table>\n",
       "\n",
       "<h2>B-Spline Basis for Polynomial Splines</h2>\n",
       "\n",
       "<h3>Description</h3>\n",
       "\n",
       "<p>Generate the B-spline basis matrix for a polynomial spline.\n",
       "</p>\n",
       "\n",
       "\n",
       "<h3>Usage</h3>\n",
       "\n",
       "<pre><code class='language-R'>bs(x, df = NULL, knots = NULL, degree = 3, intercept = FALSE,\n",
       "   Boundary.knots = range(x))\n",
       "</code></pre>\n",
       "\n",
       "\n",
       "<h3>Arguments</h3>\n",
       "\n",
       "<table>\n",
       "<tr style=\"vertical-align: top;\"><td><code>x</code></td>\n",
       "<td>\n",
       "<p>the predictor variable.  Missing values are allowed.</p>\n",
       "</td></tr>\n",
       "<tr style=\"vertical-align: top;\"><td><code>df</code></td>\n",
       "<td>\n",
       "<p>degrees of freedom; one can specify <code>df</code> rather than\n",
       "<code>knots</code>; <code>bs()</code> then chooses <code>df-degree</code> (minus one\n",
       "if there is an intercept) knots at suitable quantiles of <code>x</code>\n",
       "(which will ignore missing values).  The default, <code>NULL</code>,\n",
       "takes the number of inner knots as <code>length(knots)</code>.  If that is\n",
       "zero as per default, that corresponds to <code>df = degree - intercept</code>.</p>\n",
       "</td></tr>\n",
       "<tr style=\"vertical-align: top;\"><td><code>knots</code></td>\n",
       "<td>\n",
       "<p>the <em>internal</em> breakpoints that define the\n",
       "spline.  The default is <code>NULL</code>, which results in a basis for\n",
       "ordinary polynomial regression.  Typical values are the mean or\n",
       "median for one knot, quantiles for more knots.  See also\n",
       "<code>Boundary.knots</code>.</p>\n",
       "</td></tr>\n",
       "<tr style=\"vertical-align: top;\"><td><code>degree</code></td>\n",
       "<td>\n",
       "<p>degree of the piecewise polynomial&mdash;default is <code>3</code> for\n",
       "cubic splines.</p>\n",
       "</td></tr>\n",
       "<tr style=\"vertical-align: top;\"><td><code>intercept</code></td>\n",
       "<td>\n",
       "<p>if <code>TRUE</code>, an intercept is included in the\n",
       "basis; default is <code>FALSE</code>.</p>\n",
       "</td></tr>\n",
       "<tr style=\"vertical-align: top;\"><td><code>Boundary.knots</code></td>\n",
       "<td>\n",
       "<p>boundary points at which to anchor the B-spline\n",
       "basis (default the range of the non-<code>NA</code> data).  If both\n",
       "<code>knots</code> and <code>Boundary.knots</code> are supplied, the basis\n",
       "parameters do not depend on <code>x</code>.  Data can extend beyond\n",
       "<code>Boundary.knots</code>.</p>\n",
       "</td></tr>\n",
       "</table>\n",
       "\n",
       "\n",
       "<h3>Details</h3>\n",
       "\n",
       "<p><code>bs</code> is based on the function <code>splineDesign</code>.\n",
       "It generates a basis matrix for\n",
       "representing the family of piecewise polynomials with the specified\n",
       "interior knots and degree, evaluated at the values of <code>x</code>.  A\n",
       "primary use is in modeling formulas to directly specify a piecewise\n",
       "polynomial term in a model.\n",
       "</p>\n",
       "<p>When <code>Boundary.knots</code> are set <em>inside</em> <code>range(x)</code>,\n",
       "<code>bs()</code> now uses a &lsquo;pivot&rsquo; inside the respective boundary\n",
       "knot which is important for derivative evaluation.  In <span style=\"font-family: Courier New, Courier; color: #666666;\"><b>R</b></span> versions\n",
       "<code class=\"reqn\">\\le</code> 3.2.2, the boundary knot itself had been used as\n",
       "pivot, which lead to somewhat wrong extrapolations.\n",
       "</p>\n",
       "\n",
       "\n",
       "<h3>Value</h3>\n",
       "\n",
       "<p>A matrix of dimension <code>c(length(x), df)</code>, where either <code>df</code>\n",
       "was supplied or if <code>knots</code> were supplied, <code>df =\n",
       "  length(knots) + degree</code> plus one if there is an intercept.  Attributes\n",
       "are returned that correspond to the arguments to <code>bs</code>, and\n",
       "explicitly give the <code>knots</code>, <code>Boundary.knots</code> etc for use by\n",
       "<code>predict.bs()</code>.\n",
       "</p>\n",
       "\n",
       "\n",
       "<h3>Author(s)</h3>\n",
       "\n",
       "<p>Douglas Bates and Bill Venables.  Tweaks by R Core, and a patch\n",
       "fixing extrapolation &ldquo;outside&rdquo; <code>Boundary.knots</code> by Trevor\n",
       "Hastie.\n",
       "</p>\n",
       "\n",
       "\n",
       "<h3>References</h3>\n",
       "\n",
       "<p>Hastie, T. J. (1992)\n",
       "Generalized additive models.\n",
       "Chapter 7 of <em>Statistical Models in S</em>\n",
       "eds J. M. Chambers and T. J. Hastie, Wadsworth &amp; Brooks/Cole.\n",
       "</p>\n",
       "\n",
       "\n",
       "<h3>See Also</h3>\n",
       "\n",
       "<p><code>ns</code>, <code>poly</code>, <code>smooth.spline</code>,\n",
       "<code>predict.bs</code>, <code>SafePrediction</code>\n",
       "</p>\n",
       "\n",
       "\n",
       "<h3>Examples</h3>\n",
       "\n",
       "<pre><code class='language-R'>require(stats); require(graphics)\n",
       "bs(women$height, df = 5)\n",
       "summary(fm1 &lt;- lm(weight ~ bs(height, df = 5), data = women))\n",
       "\n",
       "## example of safe prediction\n",
       "plot(women, xlab = \"Height (in)\", ylab = \"Weight (lb)\")\n",
       "ht &lt;- seq(57, 73, length.out = 200)\n",
       "lines(ht, predict(fm1, data.frame(height = ht)))\n",
       "</code></pre>\n",
       "\n",
       "<hr /><div style=\"text-align: center;\">[Package <em>splines</em> version 4.2.1 ]</div>\n",
       "</div>"
      ],
      "text/latex": [
       "\\inputencoding{utf8}\n",
       "\\HeaderA{bs}{B-Spline Basis for Polynomial Splines}{bs}\n",
       "\\keyword{smooth}{bs}\n",
       "%\n",
       "\\begin{Description}\\relax\n",
       "Generate the B-spline basis matrix for a polynomial spline.\n",
       "\\end{Description}\n",
       "%\n",
       "\\begin{Usage}\n",
       "\\begin{verbatim}\n",
       "bs(x, df = NULL, knots = NULL, degree = 3, intercept = FALSE,\n",
       "   Boundary.knots = range(x))\n",
       "\\end{verbatim}\n",
       "\\end{Usage}\n",
       "%\n",
       "\\begin{Arguments}\n",
       "\\begin{ldescription}\n",
       "\\item[\\code{x}] the predictor variable.  Missing values are allowed.\n",
       "\\item[\\code{df}] degrees of freedom; one can specify \\code{df} rather than\n",
       "\\code{knots}; \\code{bs()} then chooses \\code{df-degree} (minus one\n",
       "if there is an intercept) knots at suitable quantiles of \\code{x}\n",
       "(which will ignore missing values).  The default, \\code{NULL},\n",
       "takes the number of inner knots as \\code{length(knots)}.  If that is\n",
       "zero as per default, that corresponds to \\code{df = degree - intercept}.\n",
       "\\item[\\code{knots}] the \\emph{internal} breakpoints that define the\n",
       "spline.  The default is \\code{NULL}, which results in a basis for\n",
       "ordinary polynomial regression.  Typical values are the mean or\n",
       "median for one knot, quantiles for more knots.  See also\n",
       "\\code{Boundary.knots}.\n",
       "\\item[\\code{degree}] degree of the piecewise polynomial---default is \\code{3} for\n",
       "cubic splines.\n",
       "\\item[\\code{intercept}] if \\code{TRUE}, an intercept is included in the\n",
       "basis; default is \\code{FALSE}.\n",
       "\\item[\\code{Boundary.knots}] boundary points at which to anchor the B-spline\n",
       "basis (default the range of the non-\\code{\\LinkA{NA}{NA}} data).  If both\n",
       "\\code{knots} and \\code{Boundary.knots} are supplied, the basis\n",
       "parameters do not depend on \\code{x}.  Data can extend beyond\n",
       "\\code{Boundary.knots}.\n",
       "\\end{ldescription}\n",
       "\\end{Arguments}\n",
       "%\n",
       "\\begin{Details}\\relax\n",
       "\\code{bs} is based on the function \\code{\\LinkA{splineDesign}{splineDesign}}.\n",
       "It generates a basis matrix for\n",
       "representing the family of piecewise polynomials with the specified\n",
       "interior knots and degree, evaluated at the values of \\code{x}.  A\n",
       "primary use is in modeling formulas to directly specify a piecewise\n",
       "polynomial term in a model.\n",
       "\n",
       "When \\code{Boundary.knots} are set \\emph{inside} \\code{range(x)},\n",
       "\\code{bs()} now uses a `pivot' inside the respective boundary\n",
       "knot which is important for derivative evaluation.  In \\R{} versions\n",
       "\\eqn{\\le}{} 3.2.2, the boundary knot itself had been used as\n",
       "pivot, which lead to somewhat wrong extrapolations.\n",
       "\\end{Details}\n",
       "%\n",
       "\\begin{Value}\n",
       "A matrix of dimension \\code{c(length(x), df)}, where either \\code{df}\n",
       "was supplied or if \\code{knots} were supplied, \\code{df =\n",
       "  length(knots) + degree} plus one if there is an intercept.  Attributes\n",
       "are returned that correspond to the arguments to \\code{bs}, and\n",
       "explicitly give the \\code{knots}, \\code{Boundary.knots} etc for use by\n",
       "\\code{predict.bs()}.\n",
       "\\end{Value}\n",
       "%\n",
       "\\begin{Author}\\relax\n",
       "Douglas Bates and Bill Venables.  Tweaks by R Core, and a patch\n",
       "fixing extrapolation ``outside'' \\code{Boundary.knots} by Trevor\n",
       "Hastie.\n",
       "\\end{Author}\n",
       "%\n",
       "\\begin{References}\\relax\n",
       "Hastie, T. J. (1992)\n",
       "Generalized additive models.\n",
       "Chapter 7 of \\emph{Statistical Models in S}\n",
       "eds J. M. Chambers and T. J. Hastie, Wadsworth \\& Brooks/Cole.\n",
       "\\end{References}\n",
       "%\n",
       "\\begin{SeeAlso}\\relax\n",
       "\\code{\\LinkA{ns}{ns}}, \\code{\\LinkA{poly}{poly}}, \\code{\\LinkA{smooth.spline}{smooth.spline}},\n",
       "\\code{\\LinkA{predict.bs}{predict.bs}}, \\code{\\LinkA{SafePrediction}{SafePrediction}}\n",
       "\\end{SeeAlso}\n",
       "%\n",
       "\\begin{Examples}\n",
       "\\begin{ExampleCode}\n",
       "require(stats); require(graphics)\n",
       "bs(women$height, df = 5)\n",
       "summary(fm1 <- lm(weight ~ bs(height, df = 5), data = women))\n",
       "\n",
       "## example of safe prediction\n",
       "plot(women, xlab = \"Height (in)\", ylab = \"Weight (lb)\")\n",
       "ht <- seq(57, 73, length.out = 200)\n",
       "lines(ht, predict(fm1, data.frame(height = ht)))\n",
       "\\end{ExampleCode}\n",
       "\\end{Examples}"
      ],
      "text/plain": [
       "bs                   package:splines                   R Documentation\n",
       "\n",
       "_\bB-_\bS_\bp_\bl_\bi_\bn_\be _\bB_\ba_\bs_\bi_\bs _\bf_\bo_\br _\bP_\bo_\bl_\by_\bn_\bo_\bm_\bi_\ba_\bl _\bS_\bp_\bl_\bi_\bn_\be_\bs\n",
       "\n",
       "_\bD_\be_\bs_\bc_\br_\bi_\bp_\bt_\bi_\bo_\bn:\n",
       "\n",
       "     Generate the B-spline basis matrix for a polynomial spline.\n",
       "\n",
       "_\bU_\bs_\ba_\bg_\be:\n",
       "\n",
       "     bs(x, df = NULL, knots = NULL, degree = 3, intercept = FALSE,\n",
       "        Boundary.knots = range(x))\n",
       "     \n",
       "_\bA_\br_\bg_\bu_\bm_\be_\bn_\bt_\bs:\n",
       "\n",
       "       x: the predictor variable.  Missing values are allowed.\n",
       "\n",
       "      df: degrees of freedom; one can specify 'df' rather than 'knots';\n",
       "          'bs()' then chooses 'df-degree' (minus one if there is an\n",
       "          intercept) knots at suitable quantiles of 'x' (which will\n",
       "          ignore missing values).  The default, 'NULL', takes the\n",
       "          number of inner knots as 'length(knots)'.  If that is zero as\n",
       "          per default, that corresponds to 'df = degree - intercept'.\n",
       "\n",
       "   knots: the _internal_ breakpoints that define the spline.  The\n",
       "          default is 'NULL', which results in a basis for ordinary\n",
       "          polynomial regression.  Typical values are the mean or median\n",
       "          for one knot, quantiles for more knots.  See also\n",
       "          'Boundary.knots'.\n",
       "\n",
       "  degree: degree of the piecewise polynomial-default is '3' for cubic\n",
       "          splines.\n",
       "\n",
       "intercept: if 'TRUE', an intercept is included in the basis; default is\n",
       "          'FALSE'.\n",
       "\n",
       "Boundary.knots: boundary points at which to anchor the B-spline basis\n",
       "          (default the range of the non-'NA' data).  If both 'knots'\n",
       "          and 'Boundary.knots' are supplied, the basis parameters do\n",
       "          not depend on 'x'.  Data can extend beyond 'Boundary.knots'.\n",
       "\n",
       "_\bD_\be_\bt_\ba_\bi_\bl_\bs:\n",
       "\n",
       "     'bs' is based on the function 'splineDesign'.  It generates a\n",
       "     basis matrix for representing the family of piecewise polynomials\n",
       "     with the specified interior knots and degree, evaluated at the\n",
       "     values of 'x'.  A primary use is in modeling formulas to directly\n",
       "     specify a piecewise polynomial term in a model.\n",
       "\n",
       "     When 'Boundary.knots' are set _inside_ 'range(x)', 'bs()' now uses\n",
       "     a 'pivot' inside the respective boundary knot which is important\n",
       "     for derivative evaluation.  In R versions <= 3.2.2, the boundary\n",
       "     knot itself had been used as pivot, which lead to somewhat wrong\n",
       "     extrapolations.\n",
       "\n",
       "_\bV_\ba_\bl_\bu_\be:\n",
       "\n",
       "     A matrix of dimension 'c(length(x), df)', where either 'df' was\n",
       "     supplied or if 'knots' were supplied, 'df = length(knots) +\n",
       "     degree' plus one if there is an intercept.  Attributes are\n",
       "     returned that correspond to the arguments to 'bs', and explicitly\n",
       "     give the 'knots', 'Boundary.knots' etc for use by 'predict.bs()'.\n",
       "\n",
       "_\bA_\bu_\bt_\bh_\bo_\br(_\bs):\n",
       "\n",
       "     Douglas Bates and Bill Venables.  Tweaks by R Core, and a patch\n",
       "     fixing extrapolation \"outside\" 'Boundary.knots' by Trevor Hastie.\n",
       "\n",
       "_\bR_\be_\bf_\be_\br_\be_\bn_\bc_\be_\bs:\n",
       "\n",
       "     Hastie, T. J. (1992) Generalized additive models.  Chapter 7 of\n",
       "     _Statistical Models in S_ eds J. M. Chambers and T. J. Hastie,\n",
       "     Wadsworth & Brooks/Cole.\n",
       "\n",
       "_\bS_\be_\be _\bA_\bl_\bs_\bo:\n",
       "\n",
       "     'ns', 'poly', 'smooth.spline', 'predict.bs', 'SafePrediction'\n",
       "\n",
       "_\bE_\bx_\ba_\bm_\bp_\bl_\be_\bs:\n",
       "\n",
       "     require(stats); require(graphics)\n",
       "     bs(women$height, df = 5)\n",
       "     summary(fm1 <- lm(weight ~ bs(height, df = 5), data = women))\n",
       "     \n",
       "     ## example of safe prediction\n",
       "     plot(women, xlab = \"Height (in)\", ylab = \"Weight (lb)\")\n",
       "     ht <- seq(57, 73, length.out = 200)\n",
       "     lines(ht, predict(fm1, data.frame(height = ht)))\n",
       "     "
      ]
     },
     "metadata": {},
     "output_type": "display_data"
    }
   ],
   "source": [
    "help(\"bs\",try.all.package=TRUE) # 尝试在所有包中搜索\n",
    "help(\"bs\",package=\"splines\")    # 尝试在某个包里搜索\n",
    "# 默认函数help（）智慧在被载入内存的程序保重搜索"
   ]
  },
  {
   "cell_type": "code",
   "execution_count": 8,
   "id": "fc32c74c-ea17-4d1c-a946-0dfb80c4694a",
   "metadata": {},
   "outputs": [
    {
     "data": {
      "text/html": [
       "<style>\n",
       ".list-inline {list-style: none; margin:0; padding: 0}\n",
       ".list-inline>li {display: inline-block}\n",
       ".list-inline>li:not(:last-child)::after {content: \"\\00b7\"; padding: 0 .5ex}\n",
       "</style>\n",
       "<ol class=list-inline><li>'.Defunct'</li><li>'.untracedFunction'</li><li>'activeBindingFunction'</li><li>'all.equal.function'</li><li>'approxfun'</li><li>'as.function'</li><li>'as.function.default'</li><li>'as.list.function'</li><li>'as.stepfun'</li><li>'existsFunction'</li><li>'findFunction'</li><li>'function'</li><li>'functionBody'</li><li>'functionBody&lt;-'</li><li>'getFunction'</li><li>'is.function'</li><li>'is.stepfun'</li><li>'match.fun'</li><li>'plot.function'</li><li>'plot.stepfun'</li><li>'print.function'</li><li>'splinefun'</li><li>'splinefunH'</li><li>'stepfun'</li><li>'substituteFunctionArgs'</li><li>'summary.stepfun'</li><li>'sys.function'</li></ol>\n"
      ],
      "text/latex": [
       "\\begin{enumerate*}\n",
       "\\item '.Defunct'\n",
       "\\item '.untracedFunction'\n",
       "\\item 'activeBindingFunction'\n",
       "\\item 'all.equal.function'\n",
       "\\item 'approxfun'\n",
       "\\item 'as.function'\n",
       "\\item 'as.function.default'\n",
       "\\item 'as.list.function'\n",
       "\\item 'as.stepfun'\n",
       "\\item 'existsFunction'\n",
       "\\item 'findFunction'\n",
       "\\item 'function'\n",
       "\\item 'functionBody'\n",
       "\\item 'functionBody<-'\n",
       "\\item 'getFunction'\n",
       "\\item 'is.function'\n",
       "\\item 'is.stepfun'\n",
       "\\item 'match.fun'\n",
       "\\item 'plot.function'\n",
       "\\item 'plot.stepfun'\n",
       "\\item 'print.function'\n",
       "\\item 'splinefun'\n",
       "\\item 'splinefunH'\n",
       "\\item 'stepfun'\n",
       "\\item 'substituteFunctionArgs'\n",
       "\\item 'summary.stepfun'\n",
       "\\item 'sys.function'\n",
       "\\end{enumerate*}\n"
      ],
      "text/markdown": [
       "1. '.Defunct'\n",
       "2. '.untracedFunction'\n",
       "3. 'activeBindingFunction'\n",
       "4. 'all.equal.function'\n",
       "5. 'approxfun'\n",
       "6. 'as.function'\n",
       "7. 'as.function.default'\n",
       "8. 'as.list.function'\n",
       "9. 'as.stepfun'\n",
       "10. 'existsFunction'\n",
       "11. 'findFunction'\n",
       "12. 'function'\n",
       "13. 'functionBody'\n",
       "14. 'functionBody&lt;-'\n",
       "15. 'getFunction'\n",
       "16. 'is.function'\n",
       "17. 'is.stepfun'\n",
       "18. 'match.fun'\n",
       "19. 'plot.function'\n",
       "20. 'plot.stepfun'\n",
       "21. 'print.function'\n",
       "22. 'splinefun'\n",
       "23. 'splinefunH'\n",
       "24. 'stepfun'\n",
       "25. 'substituteFunctionArgs'\n",
       "26. 'summary.stepfun'\n",
       "27. 'sys.function'\n",
       "\n",
       "\n"
      ],
      "text/plain": [
       " [1] \".Defunct\"               \".untracedFunction\"      \"activeBindingFunction\" \n",
       " [4] \"all.equal.function\"     \"approxfun\"              \"as.function\"           \n",
       " [7] \"as.function.default\"    \"as.list.function\"       \"as.stepfun\"            \n",
       "[10] \"existsFunction\"         \"findFunction\"           \"function\"              \n",
       "[13] \"functionBody\"           \"functionBody<-\"         \"getFunction\"           \n",
       "[16] \"is.function\"            \"is.stepfun\"             \"match.fun\"             \n",
       "[19] \"plot.function\"          \"plot.stepfun\"           \"print.function\"        \n",
       "[22] \"splinefun\"              \"splinefunH\"             \"stepfun\"               \n",
       "[25] \"substituteFunctionArgs\" \"summary.stepfun\"        \"sys.function\"          "
      ]
     },
     "metadata": {},
     "output_type": "display_data"
    }
   ],
   "source": [
    "# 找出所有名字中含有指定字符串“fun”的函数，只会在被载入内存中的程序包中进行搜索\n",
    "# apropos(fun)  # fun不是完整函数名是会报错\n",
    "apropos(\"fun\")"
   ]
  },
  {
   "cell_type": "code",
   "execution_count": 9,
   "id": "fb5c020e-369f-4bdc-9f39-f96a23471493",
   "metadata": {},
   "outputs": [
    {
     "name": "stderr",
     "output_type": "stream",
     "text": [
      "starting httpd help server ...\n",
      " done\n",
      "\n"
     ]
    }
   ],
   "source": [
    "help.search(\"char\") # 列出所有在帮助页面含有字符“char”的函数，比上一个函数apropos更广"
   ]
  },
  {
   "cell_type": "code",
   "execution_count": 15,
   "id": "217512e5-4178-4779-a6d6-0c19adfb82e7",
   "metadata": {},
   "outputs": [
    {
     "data": {
      "text/html": [],
      "text/latex": [],
      "text/markdown": [],
      "text/plain": [
       "character(0)"
      ]
     },
     "metadata": {},
     "output_type": "display_data"
    }
   ],
   "source": [
    "# 寻找\"fun\"函数所在的程序包\n",
    "find(\"fun\")"
   ]
  },
  {
   "cell_type": "code",
   "execution_count": 20,
   "id": "cffedd8c-adb5-44f2-a1c5-8ac12f81f7ac",
   "metadata": {},
   "outputs": [
    {
     "ename": "ERROR",
     "evalue": "Error in args(\"fun\"): could not find function \"fun\"\n",
     "output_type": "error",
     "traceback": [
      "Error in args(\"fun\"): could not find function \"fun\"\nTraceback:\n",
      "1. args(\"fun\")"
     ]
    }
   ],
   "source": [
    "# 得到fun函数的自变量列表\n",
    "args(\"fun\")"
   ]
  },
  {
   "cell_type": "markdown",
   "id": "65f04199-fc83-4f55-b459-3fb6272fad6f",
   "metadata": {},
   "source": [
    "# 一个简单的R会话"
   ]
  },
  {
   "cell_type": "markdown",
   "id": "d3004493-1ec0-4c07-aad2-f9a3fd457da2",
   "metadata": {},
   "source": [
    "使用R 内嵌的数据集mtcars"
   ]
  },
  {
   "cell_type": "code",
   "execution_count": 30,
   "id": "2b720909-5a90-4d5c-8699-029fac4140d2",
   "metadata": {},
   "outputs": [
    {
     "data": {
      "text/html": [
       "\n",
       "<table style=\"width: 100%;\"><tr><td>mtcars {datasets}</td><td style=\"text-align: right;\">R Documentation</td></tr></table>\n",
       "\n",
       "<h2>Motor Trend Car Road Tests</h2>\n",
       "\n",
       "<h3>Description</h3>\n",
       "\n",
       "<p>The data was extracted from the 1974 <em>Motor Trend</em> US magazine,\n",
       "and comprises fuel consumption and 10 aspects of\n",
       "automobile design and performance for 32 automobiles (1973&ndash;74\n",
       "models).\n",
       "</p>\n",
       "\n",
       "\n",
       "<h3>Usage</h3>\n",
       "\n",
       "<pre><code class='language-R'>mtcars</code></pre>\n",
       "\n",
       "\n",
       "<h3>Format</h3>\n",
       "\n",
       "<p>A data frame with 32 observations on 11 (numeric) variables.\n",
       "</p>\n",
       "\n",
       "<table>\n",
       "<tr>\n",
       " <td style=\"text-align: right;\">\n",
       "    [, 1] </td><td style=\"text-align: left;\"> mpg  </td><td style=\"text-align: left;\"> Miles/(US) gallon </td>\n",
       "</tr>\n",
       "<tr>\n",
       " <td style=\"text-align: right;\">\n",
       "    [, 2] </td><td style=\"text-align: left;\"> cyl  </td><td style=\"text-align: left;\"> Number of cylinders </td>\n",
       "</tr>\n",
       "<tr>\n",
       " <td style=\"text-align: right;\">\n",
       "    [, 3] </td><td style=\"text-align: left;\"> disp </td><td style=\"text-align: left;\"> Displacement (cu.in.) </td>\n",
       "</tr>\n",
       "<tr>\n",
       " <td style=\"text-align: right;\">\n",
       "    [, 4] </td><td style=\"text-align: left;\"> hp   </td><td style=\"text-align: left;\"> Gross horsepower </td>\n",
       "</tr>\n",
       "<tr>\n",
       " <td style=\"text-align: right;\">\n",
       "    [, 5] </td><td style=\"text-align: left;\"> drat </td><td style=\"text-align: left;\"> Rear axle ratio </td>\n",
       "</tr>\n",
       "<tr>\n",
       " <td style=\"text-align: right;\">\n",
       "    [, 6] </td><td style=\"text-align: left;\"> wt   </td><td style=\"text-align: left;\"> Weight (1000 lbs) </td>\n",
       "</tr>\n",
       "<tr>\n",
       " <td style=\"text-align: right;\">\n",
       "    [, 7] </td><td style=\"text-align: left;\"> qsec </td><td style=\"text-align: left;\"> 1/4 mile time </td>\n",
       "</tr>\n",
       "<tr>\n",
       " <td style=\"text-align: right;\">\n",
       "    [, 8] </td><td style=\"text-align: left;\"> vs   </td><td style=\"text-align: left;\"> Engine (0 = V-shaped, 1 = straight) </td>\n",
       "</tr>\n",
       "<tr>\n",
       " <td style=\"text-align: right;\">\n",
       "    [, 9] </td><td style=\"text-align: left;\"> am   </td><td style=\"text-align: left;\"> Transmission (0 = automatic, 1 = manual) </td>\n",
       "</tr>\n",
       "<tr>\n",
       " <td style=\"text-align: right;\">\n",
       "    [,10] </td><td style=\"text-align: left;\"> gear </td><td style=\"text-align: left;\"> Number of forward gears </td>\n",
       "</tr>\n",
       "<tr>\n",
       " <td style=\"text-align: right;\">\n",
       "    [,11] </td><td style=\"text-align: left;\"> carb </td><td style=\"text-align: left;\"> Number of carburetors\n",
       "  </td>\n",
       "</tr>\n",
       "\n",
       "</table>\n",
       "\n",
       "\n",
       "\n",
       "<h3>Note</h3>\n",
       "\n",
       "<p>Henderson and Velleman (1981) comment in a footnote to Table 1:\n",
       "&lsquo;Hocking [original transcriber]'s noncrucial coding of the\n",
       "Mazda's rotary engine as a straight six-cylinder engine and the\n",
       "Porsche's flat engine as a V engine, as well as the inclusion of the\n",
       "diesel Mercedes 240D, have been retained to enable direct comparisons\n",
       "to be made with previous analyses.&rsquo;\n",
       "</p>\n",
       "\n",
       "\n",
       "<h3>Source</h3>\n",
       "\n",
       "<p>Henderson and Velleman (1981),\n",
       "Building multiple regression models interactively.\n",
       "<em>Biometrics</em>, <b>37</b>, 391&ndash;411.\n",
       "</p>\n",
       "\n",
       "\n",
       "<h3>Examples</h3>\n",
       "\n",
       "<pre><code class='language-R'>require(graphics)\n",
       "pairs(mtcars, main = \"mtcars data\", gap = 1/4)\n",
       "coplot(mpg ~ disp | as.factor(cyl), data = mtcars,\n",
       "       panel = panel.smooth, rows = 1)\n",
       "## possibly more meaningful, e.g., for summary() or bivariate plots:\n",
       "mtcars2 &lt;- within(mtcars, {\n",
       "   vs &lt;- factor(vs, labels = c(\"V\", \"S\"))\n",
       "   am &lt;- factor(am, labels = c(\"automatic\", \"manual\"))\n",
       "   cyl  &lt;- ordered(cyl)\n",
       "   gear &lt;- ordered(gear)\n",
       "   carb &lt;- ordered(carb)\n",
       "})\n",
       "summary(mtcars2)\n",
       "</code></pre>\n",
       "\n",
       "<hr /><div style=\"text-align: center;\">[Package <em>datasets</em> version 4.2.1 ]</div>\n",
       "</div>"
      ],
      "text/latex": [
       "\\inputencoding{utf8}\n",
       "\\HeaderA{mtcars}{Motor Trend Car Road Tests}{mtcars}\n",
       "\\keyword{datasets}{mtcars}\n",
       "%\n",
       "\\begin{Description}\\relax\n",
       "The data was extracted from the 1974 \\emph{Motor Trend} US magazine,\n",
       "and comprises fuel consumption and 10 aspects of\n",
       "automobile design and performance for 32 automobiles (1973--74\n",
       "models).\n",
       "\\end{Description}\n",
       "%\n",
       "\\begin{Usage}\n",
       "\\begin{verbatim}\n",
       "mtcars\n",
       "\\end{verbatim}\n",
       "\\end{Usage}\n",
       "%\n",
       "\\begin{Format}\n",
       "A data frame with 32 observations on 11 (numeric) variables.\n",
       "\n",
       "\\Tabular{rll}{\n",
       "[, 1] & mpg  & Miles/(US) gallon \\\\{}\n",
       "[, 2] & cyl  & Number of cylinders \\\\{}\n",
       "[, 3] & disp & Displacement (cu.in.) \\\\{}\n",
       "[, 4] & hp   & Gross horsepower \\\\{}\n",
       "[, 5] & drat & Rear axle ratio \\\\{}\n",
       "[, 6] & wt   & Weight (1000 lbs) \\\\{}\n",
       "[, 7] & qsec & 1/4 mile time \\\\{}\n",
       "[, 8] & vs   & Engine (0 = V-shaped, 1 = straight) \\\\{}\n",
       "[, 9] & am   & Transmission (0 = automatic, 1 = manual) \\\\{}\n",
       "[,10] & gear & Number of forward gears \\\\{}\n",
       "[,11] & carb & Number of carburetors\n",
       "}\n",
       "\\end{Format}\n",
       "%\n",
       "\\begin{Note}\\relax\n",
       "Henderson and Velleman (1981) comment in a footnote to Table 1:\n",
       "`Hocking [original transcriber]'s noncrucial coding of the\n",
       "Mazda's rotary engine as a straight six-cylinder engine and the\n",
       "Porsche's flat engine as a V engine, as well as the inclusion of the\n",
       "diesel Mercedes 240D, have been retained to enable direct comparisons\n",
       "to be made with previous analyses.'\n",
       "\\end{Note}\n",
       "%\n",
       "\\begin{Source}\\relax\n",
       "Henderson and Velleman (1981),\n",
       "Building multiple regression models interactively.\n",
       "\\emph{Biometrics}, \\bold{37}, 391--411.\n",
       "\\end{Source}\n",
       "%\n",
       "\\begin{Examples}\n",
       "\\begin{ExampleCode}\n",
       "require(graphics)\n",
       "pairs(mtcars, main = \"mtcars data\", gap = 1/4)\n",
       "coplot(mpg ~ disp | as.factor(cyl), data = mtcars,\n",
       "       panel = panel.smooth, rows = 1)\n",
       "## possibly more meaningful, e.g., for summary() or bivariate plots:\n",
       "mtcars2 <- within(mtcars, {\n",
       "   vs <- factor(vs, labels = c(\"V\", \"S\"))\n",
       "   am <- factor(am, labels = c(\"automatic\", \"manual\"))\n",
       "   cyl  <- ordered(cyl)\n",
       "   gear <- ordered(gear)\n",
       "   carb <- ordered(carb)\n",
       "})\n",
       "summary(mtcars2)\n",
       "\\end{ExampleCode}\n",
       "\\end{Examples}"
      ],
      "text/plain": [
       "mtcars                package:datasets                 R Documentation\n",
       "\n",
       "_\bM_\bo_\bt_\bo_\br _\bT_\br_\be_\bn_\bd _\bC_\ba_\br _\bR_\bo_\ba_\bd _\bT_\be_\bs_\bt_\bs\n",
       "\n",
       "_\bD_\be_\bs_\bc_\br_\bi_\bp_\bt_\bi_\bo_\bn:\n",
       "\n",
       "     The data was extracted from the 1974 _Motor Trend_ US magazine,\n",
       "     and comprises fuel consumption and 10 aspects of automobile design\n",
       "     and performance for 32 automobiles (1973-74 models).\n",
       "\n",
       "_\bU_\bs_\ba_\bg_\be:\n",
       "\n",
       "     mtcars\n",
       "     \n",
       "_\bF_\bo_\br_\bm_\ba_\bt:\n",
       "\n",
       "     A data frame with 32 observations on 11 (numeric) variables.\n",
       "\n",
       "       [, 1]  mpg   Miles/(US) gallon                        \n",
       "       [, 2]  cyl   Number of cylinders                      \n",
       "       [, 3]  disp  Displacement (cu.in.)                    \n",
       "       [, 4]  hp    Gross horsepower                         \n",
       "       [, 5]  drat  Rear axle ratio                          \n",
       "       [, 6]  wt    Weight (1000 lbs)                        \n",
       "       [, 7]  qsec  1/4 mile time                            \n",
       "       [, 8]  vs    Engine (0 = V-shaped, 1 = straight)      \n",
       "       [, 9]  am    Transmission (0 = automatic, 1 = manual) \n",
       "       [,10]  gear  Number of forward gears                  \n",
       "       [,11]  carb  Number of carburetors                    \n",
       "      \n",
       "_\bN_\bo_\bt_\be:\n",
       "\n",
       "     Henderson and Velleman (1981) comment in a footnote to Table 1:\n",
       "     'Hocking [original transcriber]'s noncrucial coding of the Mazda's\n",
       "     rotary engine as a straight six-cylinder engine and the Porsche's\n",
       "     flat engine as a V engine, as well as the inclusion of the diesel\n",
       "     Mercedes 240D, have been retained to enable direct comparisons to\n",
       "     be made with previous analyses.'\n",
       "\n",
       "_\bS_\bo_\bu_\br_\bc_\be:\n",
       "\n",
       "     Henderson and Velleman (1981), Building multiple regression models\n",
       "     interactively.  _Biometrics_, *37*, 391-411.\n",
       "\n",
       "_\bE_\bx_\ba_\bm_\bp_\bl_\be_\bs:\n",
       "\n",
       "     require(graphics)\n",
       "     pairs(mtcars, main = \"mtcars data\", gap = 1/4)\n",
       "     coplot(mpg ~ disp | as.factor(cyl), data = mtcars,\n",
       "            panel = panel.smooth, rows = 1)\n",
       "     ## possibly more meaningful, e.g., for summary() or bivariate plots:\n",
       "     mtcars2 <- within(mtcars, {\n",
       "        vs <- factor(vs, labels = c(\"V\", \"S\"))\n",
       "        am <- factor(am, labels = c(\"automatic\", \"manual\"))\n",
       "        cyl  <- ordered(cyl)\n",
       "        gear <- ordered(gear)\n",
       "        carb <- ordered(carb)\n",
       "     })\n",
       "     summary(mtcars2)\n",
       "     "
      ]
     },
     "metadata": {},
     "output_type": "display_data"
    }
   ],
   "source": [
    "# 数据的描述\n",
    "?mtcars"
   ]
  },
  {
   "cell_type": "code",
   "execution_count": 31,
   "id": "0db7b1da-3553-47af-b0da-fe02097bab7f",
   "metadata": {},
   "outputs": [
    {
     "data": {
      "text/html": [
       "<table class=\"dataframe\">\n",
       "<caption>A data.frame: 32 × 11</caption>\n",
       "<thead>\n",
       "\t<tr><th></th><th scope=col>mpg</th><th scope=col>cyl</th><th scope=col>disp</th><th scope=col>hp</th><th scope=col>drat</th><th scope=col>wt</th><th scope=col>qsec</th><th scope=col>vs</th><th scope=col>am</th><th scope=col>gear</th><th scope=col>carb</th></tr>\n",
       "\t<tr><th></th><th scope=col>&lt;dbl&gt;</th><th scope=col>&lt;dbl&gt;</th><th scope=col>&lt;dbl&gt;</th><th scope=col>&lt;dbl&gt;</th><th scope=col>&lt;dbl&gt;</th><th scope=col>&lt;dbl&gt;</th><th scope=col>&lt;dbl&gt;</th><th scope=col>&lt;dbl&gt;</th><th scope=col>&lt;dbl&gt;</th><th scope=col>&lt;dbl&gt;</th><th scope=col>&lt;dbl&gt;</th></tr>\n",
       "</thead>\n",
       "<tbody>\n",
       "\t<tr><th scope=row>Mazda RX4</th><td>21.0</td><td>6</td><td>160.0</td><td>110</td><td>3.90</td><td>2.620</td><td>16.46</td><td>0</td><td>1</td><td>4</td><td>4</td></tr>\n",
       "\t<tr><th scope=row>Mazda RX4 Wag</th><td>21.0</td><td>6</td><td>160.0</td><td>110</td><td>3.90</td><td>2.875</td><td>17.02</td><td>0</td><td>1</td><td>4</td><td>4</td></tr>\n",
       "\t<tr><th scope=row>Datsun 710</th><td>22.8</td><td>4</td><td>108.0</td><td> 93</td><td>3.85</td><td>2.320</td><td>18.61</td><td>1</td><td>1</td><td>4</td><td>1</td></tr>\n",
       "\t<tr><th scope=row>Hornet 4 Drive</th><td>21.4</td><td>6</td><td>258.0</td><td>110</td><td>3.08</td><td>3.215</td><td>19.44</td><td>1</td><td>0</td><td>3</td><td>1</td></tr>\n",
       "\t<tr><th scope=row>Hornet Sportabout</th><td>18.7</td><td>8</td><td>360.0</td><td>175</td><td>3.15</td><td>3.440</td><td>17.02</td><td>0</td><td>0</td><td>3</td><td>2</td></tr>\n",
       "\t<tr><th scope=row>Valiant</th><td>18.1</td><td>6</td><td>225.0</td><td>105</td><td>2.76</td><td>3.460</td><td>20.22</td><td>1</td><td>0</td><td>3</td><td>1</td></tr>\n",
       "\t<tr><th scope=row>Duster 360</th><td>14.3</td><td>8</td><td>360.0</td><td>245</td><td>3.21</td><td>3.570</td><td>15.84</td><td>0</td><td>0</td><td>3</td><td>4</td></tr>\n",
       "\t<tr><th scope=row>Merc 240D</th><td>24.4</td><td>4</td><td>146.7</td><td> 62</td><td>3.69</td><td>3.190</td><td>20.00</td><td>1</td><td>0</td><td>4</td><td>2</td></tr>\n",
       "\t<tr><th scope=row>Merc 230</th><td>22.8</td><td>4</td><td>140.8</td><td> 95</td><td>3.92</td><td>3.150</td><td>22.90</td><td>1</td><td>0</td><td>4</td><td>2</td></tr>\n",
       "\t<tr><th scope=row>Merc 280</th><td>19.2</td><td>6</td><td>167.6</td><td>123</td><td>3.92</td><td>3.440</td><td>18.30</td><td>1</td><td>0</td><td>4</td><td>4</td></tr>\n",
       "\t<tr><th scope=row>Merc 280C</th><td>17.8</td><td>6</td><td>167.6</td><td>123</td><td>3.92</td><td>3.440</td><td>18.90</td><td>1</td><td>0</td><td>4</td><td>4</td></tr>\n",
       "\t<tr><th scope=row>Merc 450SE</th><td>16.4</td><td>8</td><td>275.8</td><td>180</td><td>3.07</td><td>4.070</td><td>17.40</td><td>0</td><td>0</td><td>3</td><td>3</td></tr>\n",
       "\t<tr><th scope=row>Merc 450SL</th><td>17.3</td><td>8</td><td>275.8</td><td>180</td><td>3.07</td><td>3.730</td><td>17.60</td><td>0</td><td>0</td><td>3</td><td>3</td></tr>\n",
       "\t<tr><th scope=row>Merc 450SLC</th><td>15.2</td><td>8</td><td>275.8</td><td>180</td><td>3.07</td><td>3.780</td><td>18.00</td><td>0</td><td>0</td><td>3</td><td>3</td></tr>\n",
       "\t<tr><th scope=row>Cadillac Fleetwood</th><td>10.4</td><td>8</td><td>472.0</td><td>205</td><td>2.93</td><td>5.250</td><td>17.98</td><td>0</td><td>0</td><td>3</td><td>4</td></tr>\n",
       "\t<tr><th scope=row>Lincoln Continental</th><td>10.4</td><td>8</td><td>460.0</td><td>215</td><td>3.00</td><td>5.424</td><td>17.82</td><td>0</td><td>0</td><td>3</td><td>4</td></tr>\n",
       "\t<tr><th scope=row>Chrysler Imperial</th><td>14.7</td><td>8</td><td>440.0</td><td>230</td><td>3.23</td><td>5.345</td><td>17.42</td><td>0</td><td>0</td><td>3</td><td>4</td></tr>\n",
       "\t<tr><th scope=row>Fiat 128</th><td>32.4</td><td>4</td><td> 78.7</td><td> 66</td><td>4.08</td><td>2.200</td><td>19.47</td><td>1</td><td>1</td><td>4</td><td>1</td></tr>\n",
       "\t<tr><th scope=row>Honda Civic</th><td>30.4</td><td>4</td><td> 75.7</td><td> 52</td><td>4.93</td><td>1.615</td><td>18.52</td><td>1</td><td>1</td><td>4</td><td>2</td></tr>\n",
       "\t<tr><th scope=row>Toyota Corolla</th><td>33.9</td><td>4</td><td> 71.1</td><td> 65</td><td>4.22</td><td>1.835</td><td>19.90</td><td>1</td><td>1</td><td>4</td><td>1</td></tr>\n",
       "\t<tr><th scope=row>Toyota Corona</th><td>21.5</td><td>4</td><td>120.1</td><td> 97</td><td>3.70</td><td>2.465</td><td>20.01</td><td>1</td><td>0</td><td>3</td><td>1</td></tr>\n",
       "\t<tr><th scope=row>Dodge Challenger</th><td>15.5</td><td>8</td><td>318.0</td><td>150</td><td>2.76</td><td>3.520</td><td>16.87</td><td>0</td><td>0</td><td>3</td><td>2</td></tr>\n",
       "\t<tr><th scope=row>AMC Javelin</th><td>15.2</td><td>8</td><td>304.0</td><td>150</td><td>3.15</td><td>3.435</td><td>17.30</td><td>0</td><td>0</td><td>3</td><td>2</td></tr>\n",
       "\t<tr><th scope=row>Camaro Z28</th><td>13.3</td><td>8</td><td>350.0</td><td>245</td><td>3.73</td><td>3.840</td><td>15.41</td><td>0</td><td>0</td><td>3</td><td>4</td></tr>\n",
       "\t<tr><th scope=row>Pontiac Firebird</th><td>19.2</td><td>8</td><td>400.0</td><td>175</td><td>3.08</td><td>3.845</td><td>17.05</td><td>0</td><td>0</td><td>3</td><td>2</td></tr>\n",
       "\t<tr><th scope=row>Fiat X1-9</th><td>27.3</td><td>4</td><td> 79.0</td><td> 66</td><td>4.08</td><td>1.935</td><td>18.90</td><td>1</td><td>1</td><td>4</td><td>1</td></tr>\n",
       "\t<tr><th scope=row>Porsche 914-2</th><td>26.0</td><td>4</td><td>120.3</td><td> 91</td><td>4.43</td><td>2.140</td><td>16.70</td><td>0</td><td>1</td><td>5</td><td>2</td></tr>\n",
       "\t<tr><th scope=row>Lotus Europa</th><td>30.4</td><td>4</td><td> 95.1</td><td>113</td><td>3.77</td><td>1.513</td><td>16.90</td><td>1</td><td>1</td><td>5</td><td>2</td></tr>\n",
       "\t<tr><th scope=row>Ford Pantera L</th><td>15.8</td><td>8</td><td>351.0</td><td>264</td><td>4.22</td><td>3.170</td><td>14.50</td><td>0</td><td>1</td><td>5</td><td>4</td></tr>\n",
       "\t<tr><th scope=row>Ferrari Dino</th><td>19.7</td><td>6</td><td>145.0</td><td>175</td><td>3.62</td><td>2.770</td><td>15.50</td><td>0</td><td>1</td><td>5</td><td>6</td></tr>\n",
       "\t<tr><th scope=row>Maserati Bora</th><td>15.0</td><td>8</td><td>301.0</td><td>335</td><td>3.54</td><td>3.570</td><td>14.60</td><td>0</td><td>1</td><td>5</td><td>8</td></tr>\n",
       "\t<tr><th scope=row>Volvo 142E</th><td>21.4</td><td>4</td><td>121.0</td><td>109</td><td>4.11</td><td>2.780</td><td>18.60</td><td>1</td><td>1</td><td>4</td><td>2</td></tr>\n",
       "</tbody>\n",
       "</table>\n"
      ],
      "text/latex": [
       "A data.frame: 32 × 11\n",
       "\\begin{tabular}{r|lllllllllll}\n",
       "  & mpg & cyl & disp & hp & drat & wt & qsec & vs & am & gear & carb\\\\\n",
       "  & <dbl> & <dbl> & <dbl> & <dbl> & <dbl> & <dbl> & <dbl> & <dbl> & <dbl> & <dbl> & <dbl>\\\\\n",
       "\\hline\n",
       "\tMazda RX4 & 21.0 & 6 & 160.0 & 110 & 3.90 & 2.620 & 16.46 & 0 & 1 & 4 & 4\\\\\n",
       "\tMazda RX4 Wag & 21.0 & 6 & 160.0 & 110 & 3.90 & 2.875 & 17.02 & 0 & 1 & 4 & 4\\\\\n",
       "\tDatsun 710 & 22.8 & 4 & 108.0 &  93 & 3.85 & 2.320 & 18.61 & 1 & 1 & 4 & 1\\\\\n",
       "\tHornet 4 Drive & 21.4 & 6 & 258.0 & 110 & 3.08 & 3.215 & 19.44 & 1 & 0 & 3 & 1\\\\\n",
       "\tHornet Sportabout & 18.7 & 8 & 360.0 & 175 & 3.15 & 3.440 & 17.02 & 0 & 0 & 3 & 2\\\\\n",
       "\tValiant & 18.1 & 6 & 225.0 & 105 & 2.76 & 3.460 & 20.22 & 1 & 0 & 3 & 1\\\\\n",
       "\tDuster 360 & 14.3 & 8 & 360.0 & 245 & 3.21 & 3.570 & 15.84 & 0 & 0 & 3 & 4\\\\\n",
       "\tMerc 240D & 24.4 & 4 & 146.7 &  62 & 3.69 & 3.190 & 20.00 & 1 & 0 & 4 & 2\\\\\n",
       "\tMerc 230 & 22.8 & 4 & 140.8 &  95 & 3.92 & 3.150 & 22.90 & 1 & 0 & 4 & 2\\\\\n",
       "\tMerc 280 & 19.2 & 6 & 167.6 & 123 & 3.92 & 3.440 & 18.30 & 1 & 0 & 4 & 4\\\\\n",
       "\tMerc 280C & 17.8 & 6 & 167.6 & 123 & 3.92 & 3.440 & 18.90 & 1 & 0 & 4 & 4\\\\\n",
       "\tMerc 450SE & 16.4 & 8 & 275.8 & 180 & 3.07 & 4.070 & 17.40 & 0 & 0 & 3 & 3\\\\\n",
       "\tMerc 450SL & 17.3 & 8 & 275.8 & 180 & 3.07 & 3.730 & 17.60 & 0 & 0 & 3 & 3\\\\\n",
       "\tMerc 450SLC & 15.2 & 8 & 275.8 & 180 & 3.07 & 3.780 & 18.00 & 0 & 0 & 3 & 3\\\\\n",
       "\tCadillac Fleetwood & 10.4 & 8 & 472.0 & 205 & 2.93 & 5.250 & 17.98 & 0 & 0 & 3 & 4\\\\\n",
       "\tLincoln Continental & 10.4 & 8 & 460.0 & 215 & 3.00 & 5.424 & 17.82 & 0 & 0 & 3 & 4\\\\\n",
       "\tChrysler Imperial & 14.7 & 8 & 440.0 & 230 & 3.23 & 5.345 & 17.42 & 0 & 0 & 3 & 4\\\\\n",
       "\tFiat 128 & 32.4 & 4 &  78.7 &  66 & 4.08 & 2.200 & 19.47 & 1 & 1 & 4 & 1\\\\\n",
       "\tHonda Civic & 30.4 & 4 &  75.7 &  52 & 4.93 & 1.615 & 18.52 & 1 & 1 & 4 & 2\\\\\n",
       "\tToyota Corolla & 33.9 & 4 &  71.1 &  65 & 4.22 & 1.835 & 19.90 & 1 & 1 & 4 & 1\\\\\n",
       "\tToyota Corona & 21.5 & 4 & 120.1 &  97 & 3.70 & 2.465 & 20.01 & 1 & 0 & 3 & 1\\\\\n",
       "\tDodge Challenger & 15.5 & 8 & 318.0 & 150 & 2.76 & 3.520 & 16.87 & 0 & 0 & 3 & 2\\\\\n",
       "\tAMC Javelin & 15.2 & 8 & 304.0 & 150 & 3.15 & 3.435 & 17.30 & 0 & 0 & 3 & 2\\\\\n",
       "\tCamaro Z28 & 13.3 & 8 & 350.0 & 245 & 3.73 & 3.840 & 15.41 & 0 & 0 & 3 & 4\\\\\n",
       "\tPontiac Firebird & 19.2 & 8 & 400.0 & 175 & 3.08 & 3.845 & 17.05 & 0 & 0 & 3 & 2\\\\\n",
       "\tFiat X1-9 & 27.3 & 4 &  79.0 &  66 & 4.08 & 1.935 & 18.90 & 1 & 1 & 4 & 1\\\\\n",
       "\tPorsche 914-2 & 26.0 & 4 & 120.3 &  91 & 4.43 & 2.140 & 16.70 & 0 & 1 & 5 & 2\\\\\n",
       "\tLotus Europa & 30.4 & 4 &  95.1 & 113 & 3.77 & 1.513 & 16.90 & 1 & 1 & 5 & 2\\\\\n",
       "\tFord Pantera L & 15.8 & 8 & 351.0 & 264 & 4.22 & 3.170 & 14.50 & 0 & 1 & 5 & 4\\\\\n",
       "\tFerrari Dino & 19.7 & 6 & 145.0 & 175 & 3.62 & 2.770 & 15.50 & 0 & 1 & 5 & 6\\\\\n",
       "\tMaserati Bora & 15.0 & 8 & 301.0 & 335 & 3.54 & 3.570 & 14.60 & 0 & 1 & 5 & 8\\\\\n",
       "\tVolvo 142E & 21.4 & 4 & 121.0 & 109 & 4.11 & 2.780 & 18.60 & 1 & 1 & 4 & 2\\\\\n",
       "\\end{tabular}\n"
      ],
      "text/markdown": [
       "\n",
       "A data.frame: 32 × 11\n",
       "\n",
       "| <!--/--> | mpg &lt;dbl&gt; | cyl &lt;dbl&gt; | disp &lt;dbl&gt; | hp &lt;dbl&gt; | drat &lt;dbl&gt; | wt &lt;dbl&gt; | qsec &lt;dbl&gt; | vs &lt;dbl&gt; | am &lt;dbl&gt; | gear &lt;dbl&gt; | carb &lt;dbl&gt; |\n",
       "|---|---|---|---|---|---|---|---|---|---|---|---|\n",
       "| Mazda RX4 | 21.0 | 6 | 160.0 | 110 | 3.90 | 2.620 | 16.46 | 0 | 1 | 4 | 4 |\n",
       "| Mazda RX4 Wag | 21.0 | 6 | 160.0 | 110 | 3.90 | 2.875 | 17.02 | 0 | 1 | 4 | 4 |\n",
       "| Datsun 710 | 22.8 | 4 | 108.0 |  93 | 3.85 | 2.320 | 18.61 | 1 | 1 | 4 | 1 |\n",
       "| Hornet 4 Drive | 21.4 | 6 | 258.0 | 110 | 3.08 | 3.215 | 19.44 | 1 | 0 | 3 | 1 |\n",
       "| Hornet Sportabout | 18.7 | 8 | 360.0 | 175 | 3.15 | 3.440 | 17.02 | 0 | 0 | 3 | 2 |\n",
       "| Valiant | 18.1 | 6 | 225.0 | 105 | 2.76 | 3.460 | 20.22 | 1 | 0 | 3 | 1 |\n",
       "| Duster 360 | 14.3 | 8 | 360.0 | 245 | 3.21 | 3.570 | 15.84 | 0 | 0 | 3 | 4 |\n",
       "| Merc 240D | 24.4 | 4 | 146.7 |  62 | 3.69 | 3.190 | 20.00 | 1 | 0 | 4 | 2 |\n",
       "| Merc 230 | 22.8 | 4 | 140.8 |  95 | 3.92 | 3.150 | 22.90 | 1 | 0 | 4 | 2 |\n",
       "| Merc 280 | 19.2 | 6 | 167.6 | 123 | 3.92 | 3.440 | 18.30 | 1 | 0 | 4 | 4 |\n",
       "| Merc 280C | 17.8 | 6 | 167.6 | 123 | 3.92 | 3.440 | 18.90 | 1 | 0 | 4 | 4 |\n",
       "| Merc 450SE | 16.4 | 8 | 275.8 | 180 | 3.07 | 4.070 | 17.40 | 0 | 0 | 3 | 3 |\n",
       "| Merc 450SL | 17.3 | 8 | 275.8 | 180 | 3.07 | 3.730 | 17.60 | 0 | 0 | 3 | 3 |\n",
       "| Merc 450SLC | 15.2 | 8 | 275.8 | 180 | 3.07 | 3.780 | 18.00 | 0 | 0 | 3 | 3 |\n",
       "| Cadillac Fleetwood | 10.4 | 8 | 472.0 | 205 | 2.93 | 5.250 | 17.98 | 0 | 0 | 3 | 4 |\n",
       "| Lincoln Continental | 10.4 | 8 | 460.0 | 215 | 3.00 | 5.424 | 17.82 | 0 | 0 | 3 | 4 |\n",
       "| Chrysler Imperial | 14.7 | 8 | 440.0 | 230 | 3.23 | 5.345 | 17.42 | 0 | 0 | 3 | 4 |\n",
       "| Fiat 128 | 32.4 | 4 |  78.7 |  66 | 4.08 | 2.200 | 19.47 | 1 | 1 | 4 | 1 |\n",
       "| Honda Civic | 30.4 | 4 |  75.7 |  52 | 4.93 | 1.615 | 18.52 | 1 | 1 | 4 | 2 |\n",
       "| Toyota Corolla | 33.9 | 4 |  71.1 |  65 | 4.22 | 1.835 | 19.90 | 1 | 1 | 4 | 1 |\n",
       "| Toyota Corona | 21.5 | 4 | 120.1 |  97 | 3.70 | 2.465 | 20.01 | 1 | 0 | 3 | 1 |\n",
       "| Dodge Challenger | 15.5 | 8 | 318.0 | 150 | 2.76 | 3.520 | 16.87 | 0 | 0 | 3 | 2 |\n",
       "| AMC Javelin | 15.2 | 8 | 304.0 | 150 | 3.15 | 3.435 | 17.30 | 0 | 0 | 3 | 2 |\n",
       "| Camaro Z28 | 13.3 | 8 | 350.0 | 245 | 3.73 | 3.840 | 15.41 | 0 | 0 | 3 | 4 |\n",
       "| Pontiac Firebird | 19.2 | 8 | 400.0 | 175 | 3.08 | 3.845 | 17.05 | 0 | 0 | 3 | 2 |\n",
       "| Fiat X1-9 | 27.3 | 4 |  79.0 |  66 | 4.08 | 1.935 | 18.90 | 1 | 1 | 4 | 1 |\n",
       "| Porsche 914-2 | 26.0 | 4 | 120.3 |  91 | 4.43 | 2.140 | 16.70 | 0 | 1 | 5 | 2 |\n",
       "| Lotus Europa | 30.4 | 4 |  95.1 | 113 | 3.77 | 1.513 | 16.90 | 1 | 1 | 5 | 2 |\n",
       "| Ford Pantera L | 15.8 | 8 | 351.0 | 264 | 4.22 | 3.170 | 14.50 | 0 | 1 | 5 | 4 |\n",
       "| Ferrari Dino | 19.7 | 6 | 145.0 | 175 | 3.62 | 2.770 | 15.50 | 0 | 1 | 5 | 6 |\n",
       "| Maserati Bora | 15.0 | 8 | 301.0 | 335 | 3.54 | 3.570 | 14.60 | 0 | 1 | 5 | 8 |\n",
       "| Volvo 142E | 21.4 | 4 | 121.0 | 109 | 4.11 | 2.780 | 18.60 | 1 | 1 | 4 | 2 |\n",
       "\n"
      ],
      "text/plain": [
       "                    mpg  cyl disp  hp  drat wt    qsec  vs am gear carb\n",
       "Mazda RX4           21.0 6   160.0 110 3.90 2.620 16.46 0  1  4    4   \n",
       "Mazda RX4 Wag       21.0 6   160.0 110 3.90 2.875 17.02 0  1  4    4   \n",
       "Datsun 710          22.8 4   108.0  93 3.85 2.320 18.61 1  1  4    1   \n",
       "Hornet 4 Drive      21.4 6   258.0 110 3.08 3.215 19.44 1  0  3    1   \n",
       "Hornet Sportabout   18.7 8   360.0 175 3.15 3.440 17.02 0  0  3    2   \n",
       "Valiant             18.1 6   225.0 105 2.76 3.460 20.22 1  0  3    1   \n",
       "Duster 360          14.3 8   360.0 245 3.21 3.570 15.84 0  0  3    4   \n",
       "Merc 240D           24.4 4   146.7  62 3.69 3.190 20.00 1  0  4    2   \n",
       "Merc 230            22.8 4   140.8  95 3.92 3.150 22.90 1  0  4    2   \n",
       "Merc 280            19.2 6   167.6 123 3.92 3.440 18.30 1  0  4    4   \n",
       "Merc 280C           17.8 6   167.6 123 3.92 3.440 18.90 1  0  4    4   \n",
       "Merc 450SE          16.4 8   275.8 180 3.07 4.070 17.40 0  0  3    3   \n",
       "Merc 450SL          17.3 8   275.8 180 3.07 3.730 17.60 0  0  3    3   \n",
       "Merc 450SLC         15.2 8   275.8 180 3.07 3.780 18.00 0  0  3    3   \n",
       "Cadillac Fleetwood  10.4 8   472.0 205 2.93 5.250 17.98 0  0  3    4   \n",
       "Lincoln Continental 10.4 8   460.0 215 3.00 5.424 17.82 0  0  3    4   \n",
       "Chrysler Imperial   14.7 8   440.0 230 3.23 5.345 17.42 0  0  3    4   \n",
       "Fiat 128            32.4 4    78.7  66 4.08 2.200 19.47 1  1  4    1   \n",
       "Honda Civic         30.4 4    75.7  52 4.93 1.615 18.52 1  1  4    2   \n",
       "Toyota Corolla      33.9 4    71.1  65 4.22 1.835 19.90 1  1  4    1   \n",
       "Toyota Corona       21.5 4   120.1  97 3.70 2.465 20.01 1  0  3    1   \n",
       "Dodge Challenger    15.5 8   318.0 150 2.76 3.520 16.87 0  0  3    2   \n",
       "AMC Javelin         15.2 8   304.0 150 3.15 3.435 17.30 0  0  3    2   \n",
       "Camaro Z28          13.3 8   350.0 245 3.73 3.840 15.41 0  0  3    4   \n",
       "Pontiac Firebird    19.2 8   400.0 175 3.08 3.845 17.05 0  0  3    2   \n",
       "Fiat X1-9           27.3 4    79.0  66 4.08 1.935 18.90 1  1  4    1   \n",
       "Porsche 914-2       26.0 4   120.3  91 4.43 2.140 16.70 0  1  5    2   \n",
       "Lotus Europa        30.4 4    95.1 113 3.77 1.513 16.90 1  1  5    2   \n",
       "Ford Pantera L      15.8 8   351.0 264 4.22 3.170 14.50 0  1  5    4   \n",
       "Ferrari Dino        19.7 6   145.0 175 3.62 2.770 15.50 0  1  5    6   \n",
       "Maserati Bora       15.0 8   301.0 335 3.54 3.570 14.60 0  1  5    8   \n",
       "Volvo 142E          21.4 4   121.0 109 4.11 2.780 18.60 1  1  4    2   "
      ]
     },
     "metadata": {},
     "output_type": "display_data"
    }
   ],
   "source": [
    "# 数据的浏览\n",
    "mtcars"
   ]
  },
  {
   "cell_type": "code",
   "execution_count": 34,
   "id": "2fbd969f-190f-44a2-b9b2-425797f9d0b1",
   "metadata": {},
   "outputs": [
    {
     "data": {
      "text/html": [
       "<table class=\"dataframe\">\n",
       "<caption>A data.frame: 6 × 11</caption>\n",
       "<thead>\n",
       "\t<tr><th></th><th scope=col>mpg</th><th scope=col>cyl</th><th scope=col>disp</th><th scope=col>hp</th><th scope=col>drat</th><th scope=col>wt</th><th scope=col>qsec</th><th scope=col>vs</th><th scope=col>am</th><th scope=col>gear</th><th scope=col>carb</th></tr>\n",
       "\t<tr><th></th><th scope=col>&lt;dbl&gt;</th><th scope=col>&lt;dbl&gt;</th><th scope=col>&lt;dbl&gt;</th><th scope=col>&lt;dbl&gt;</th><th scope=col>&lt;dbl&gt;</th><th scope=col>&lt;dbl&gt;</th><th scope=col>&lt;dbl&gt;</th><th scope=col>&lt;dbl&gt;</th><th scope=col>&lt;dbl&gt;</th><th scope=col>&lt;dbl&gt;</th><th scope=col>&lt;dbl&gt;</th></tr>\n",
       "</thead>\n",
       "<tbody>\n",
       "\t<tr><th scope=row>Mazda RX4</th><td>21.0</td><td>6</td><td>160</td><td>110</td><td>3.90</td><td>2.620</td><td>16.46</td><td>0</td><td>1</td><td>4</td><td>4</td></tr>\n",
       "\t<tr><th scope=row>Mazda RX4 Wag</th><td>21.0</td><td>6</td><td>160</td><td>110</td><td>3.90</td><td>2.875</td><td>17.02</td><td>0</td><td>1</td><td>4</td><td>4</td></tr>\n",
       "\t<tr><th scope=row>Datsun 710</th><td>22.8</td><td>4</td><td>108</td><td> 93</td><td>3.85</td><td>2.320</td><td>18.61</td><td>1</td><td>1</td><td>4</td><td>1</td></tr>\n",
       "\t<tr><th scope=row>Hornet 4 Drive</th><td>21.4</td><td>6</td><td>258</td><td>110</td><td>3.08</td><td>3.215</td><td>19.44</td><td>1</td><td>0</td><td>3</td><td>1</td></tr>\n",
       "\t<tr><th scope=row>Hornet Sportabout</th><td>18.7</td><td>8</td><td>360</td><td>175</td><td>3.15</td><td>3.440</td><td>17.02</td><td>0</td><td>0</td><td>3</td><td>2</td></tr>\n",
       "\t<tr><th scope=row>Valiant</th><td>18.1</td><td>6</td><td>225</td><td>105</td><td>2.76</td><td>3.460</td><td>20.22</td><td>1</td><td>0</td><td>3</td><td>1</td></tr>\n",
       "</tbody>\n",
       "</table>\n"
      ],
      "text/latex": [
       "A data.frame: 6 × 11\n",
       "\\begin{tabular}{r|lllllllllll}\n",
       "  & mpg & cyl & disp & hp & drat & wt & qsec & vs & am & gear & carb\\\\\n",
       "  & <dbl> & <dbl> & <dbl> & <dbl> & <dbl> & <dbl> & <dbl> & <dbl> & <dbl> & <dbl> & <dbl>\\\\\n",
       "\\hline\n",
       "\tMazda RX4 & 21.0 & 6 & 160 & 110 & 3.90 & 2.620 & 16.46 & 0 & 1 & 4 & 4\\\\\n",
       "\tMazda RX4 Wag & 21.0 & 6 & 160 & 110 & 3.90 & 2.875 & 17.02 & 0 & 1 & 4 & 4\\\\\n",
       "\tDatsun 710 & 22.8 & 4 & 108 &  93 & 3.85 & 2.320 & 18.61 & 1 & 1 & 4 & 1\\\\\n",
       "\tHornet 4 Drive & 21.4 & 6 & 258 & 110 & 3.08 & 3.215 & 19.44 & 1 & 0 & 3 & 1\\\\\n",
       "\tHornet Sportabout & 18.7 & 8 & 360 & 175 & 3.15 & 3.440 & 17.02 & 0 & 0 & 3 & 2\\\\\n",
       "\tValiant & 18.1 & 6 & 225 & 105 & 2.76 & 3.460 & 20.22 & 1 & 0 & 3 & 1\\\\\n",
       "\\end{tabular}\n"
      ],
      "text/markdown": [
       "\n",
       "A data.frame: 6 × 11\n",
       "\n",
       "| <!--/--> | mpg &lt;dbl&gt; | cyl &lt;dbl&gt; | disp &lt;dbl&gt; | hp &lt;dbl&gt; | drat &lt;dbl&gt; | wt &lt;dbl&gt; | qsec &lt;dbl&gt; | vs &lt;dbl&gt; | am &lt;dbl&gt; | gear &lt;dbl&gt; | carb &lt;dbl&gt; |\n",
       "|---|---|---|---|---|---|---|---|---|---|---|---|\n",
       "| Mazda RX4 | 21.0 | 6 | 160 | 110 | 3.90 | 2.620 | 16.46 | 0 | 1 | 4 | 4 |\n",
       "| Mazda RX4 Wag | 21.0 | 6 | 160 | 110 | 3.90 | 2.875 | 17.02 | 0 | 1 | 4 | 4 |\n",
       "| Datsun 710 | 22.8 | 4 | 108 |  93 | 3.85 | 2.320 | 18.61 | 1 | 1 | 4 | 1 |\n",
       "| Hornet 4 Drive | 21.4 | 6 | 258 | 110 | 3.08 | 3.215 | 19.44 | 1 | 0 | 3 | 1 |\n",
       "| Hornet Sportabout | 18.7 | 8 | 360 | 175 | 3.15 | 3.440 | 17.02 | 0 | 0 | 3 | 2 |\n",
       "| Valiant | 18.1 | 6 | 225 | 105 | 2.76 | 3.460 | 20.22 | 1 | 0 | 3 | 1 |\n",
       "\n"
      ],
      "text/plain": [
       "                  mpg  cyl disp hp  drat wt    qsec  vs am gear carb\n",
       "Mazda RX4         21.0 6   160  110 3.90 2.620 16.46 0  1  4    4   \n",
       "Mazda RX4 Wag     21.0 6   160  110 3.90 2.875 17.02 0  1  4    4   \n",
       "Datsun 710        22.8 4   108   93 3.85 2.320 18.61 1  1  4    1   \n",
       "Hornet 4 Drive    21.4 6   258  110 3.08 3.215 19.44 1  0  3    1   \n",
       "Hornet Sportabout 18.7 8   360  175 3.15 3.440 17.02 0  0  3    2   \n",
       "Valiant           18.1 6   225  105 2.76 3.460 20.22 1  0  3    1   "
      ]
     },
     "metadata": {},
     "output_type": "display_data"
    }
   ],
   "source": [
    "head(mtcars) # 全部6个观测值"
   ]
  },
  {
   "cell_type": "code",
   "execution_count": 36,
   "id": "fd20b697-a2f5-4c5a-9393-7fdf6bd9beab",
   "metadata": {},
   "outputs": [
    {
     "data": {
      "text/html": [
       "<table class=\"dataframe\">\n",
       "<caption>A data.frame: 6 × 11</caption>\n",
       "<thead>\n",
       "\t<tr><th></th><th scope=col>mpg</th><th scope=col>cyl</th><th scope=col>disp</th><th scope=col>hp</th><th scope=col>drat</th><th scope=col>wt</th><th scope=col>qsec</th><th scope=col>vs</th><th scope=col>am</th><th scope=col>gear</th><th scope=col>carb</th></tr>\n",
       "\t<tr><th></th><th scope=col>&lt;dbl&gt;</th><th scope=col>&lt;dbl&gt;</th><th scope=col>&lt;dbl&gt;</th><th scope=col>&lt;dbl&gt;</th><th scope=col>&lt;dbl&gt;</th><th scope=col>&lt;dbl&gt;</th><th scope=col>&lt;dbl&gt;</th><th scope=col>&lt;dbl&gt;</th><th scope=col>&lt;dbl&gt;</th><th scope=col>&lt;dbl&gt;</th><th scope=col>&lt;dbl&gt;</th></tr>\n",
       "</thead>\n",
       "<tbody>\n",
       "\t<tr><th scope=row>Porsche 914-2</th><td>26.0</td><td>4</td><td>120.3</td><td> 91</td><td>4.43</td><td>2.140</td><td>16.7</td><td>0</td><td>1</td><td>5</td><td>2</td></tr>\n",
       "\t<tr><th scope=row>Lotus Europa</th><td>30.4</td><td>4</td><td> 95.1</td><td>113</td><td>3.77</td><td>1.513</td><td>16.9</td><td>1</td><td>1</td><td>5</td><td>2</td></tr>\n",
       "\t<tr><th scope=row>Ford Pantera L</th><td>15.8</td><td>8</td><td>351.0</td><td>264</td><td>4.22</td><td>3.170</td><td>14.5</td><td>0</td><td>1</td><td>5</td><td>4</td></tr>\n",
       "\t<tr><th scope=row>Ferrari Dino</th><td>19.7</td><td>6</td><td>145.0</td><td>175</td><td>3.62</td><td>2.770</td><td>15.5</td><td>0</td><td>1</td><td>5</td><td>6</td></tr>\n",
       "\t<tr><th scope=row>Maserati Bora</th><td>15.0</td><td>8</td><td>301.0</td><td>335</td><td>3.54</td><td>3.570</td><td>14.6</td><td>0</td><td>1</td><td>5</td><td>8</td></tr>\n",
       "\t<tr><th scope=row>Volvo 142E</th><td>21.4</td><td>4</td><td>121.0</td><td>109</td><td>4.11</td><td>2.780</td><td>18.6</td><td>1</td><td>1</td><td>4</td><td>2</td></tr>\n",
       "</tbody>\n",
       "</table>\n"
      ],
      "text/latex": [
       "A data.frame: 6 × 11\n",
       "\\begin{tabular}{r|lllllllllll}\n",
       "  & mpg & cyl & disp & hp & drat & wt & qsec & vs & am & gear & carb\\\\\n",
       "  & <dbl> & <dbl> & <dbl> & <dbl> & <dbl> & <dbl> & <dbl> & <dbl> & <dbl> & <dbl> & <dbl>\\\\\n",
       "\\hline\n",
       "\tPorsche 914-2 & 26.0 & 4 & 120.3 &  91 & 4.43 & 2.140 & 16.7 & 0 & 1 & 5 & 2\\\\\n",
       "\tLotus Europa & 30.4 & 4 &  95.1 & 113 & 3.77 & 1.513 & 16.9 & 1 & 1 & 5 & 2\\\\\n",
       "\tFord Pantera L & 15.8 & 8 & 351.0 & 264 & 4.22 & 3.170 & 14.5 & 0 & 1 & 5 & 4\\\\\n",
       "\tFerrari Dino & 19.7 & 6 & 145.0 & 175 & 3.62 & 2.770 & 15.5 & 0 & 1 & 5 & 6\\\\\n",
       "\tMaserati Bora & 15.0 & 8 & 301.0 & 335 & 3.54 & 3.570 & 14.6 & 0 & 1 & 5 & 8\\\\\n",
       "\tVolvo 142E & 21.4 & 4 & 121.0 & 109 & 4.11 & 2.780 & 18.6 & 1 & 1 & 4 & 2\\\\\n",
       "\\end{tabular}\n"
      ],
      "text/markdown": [
       "\n",
       "A data.frame: 6 × 11\n",
       "\n",
       "| <!--/--> | mpg &lt;dbl&gt; | cyl &lt;dbl&gt; | disp &lt;dbl&gt; | hp &lt;dbl&gt; | drat &lt;dbl&gt; | wt &lt;dbl&gt; | qsec &lt;dbl&gt; | vs &lt;dbl&gt; | am &lt;dbl&gt; | gear &lt;dbl&gt; | carb &lt;dbl&gt; |\n",
       "|---|---|---|---|---|---|---|---|---|---|---|---|\n",
       "| Porsche 914-2 | 26.0 | 4 | 120.3 |  91 | 4.43 | 2.140 | 16.7 | 0 | 1 | 5 | 2 |\n",
       "| Lotus Europa | 30.4 | 4 |  95.1 | 113 | 3.77 | 1.513 | 16.9 | 1 | 1 | 5 | 2 |\n",
       "| Ford Pantera L | 15.8 | 8 | 351.0 | 264 | 4.22 | 3.170 | 14.5 | 0 | 1 | 5 | 4 |\n",
       "| Ferrari Dino | 19.7 | 6 | 145.0 | 175 | 3.62 | 2.770 | 15.5 | 0 | 1 | 5 | 6 |\n",
       "| Maserati Bora | 15.0 | 8 | 301.0 | 335 | 3.54 | 3.570 | 14.6 | 0 | 1 | 5 | 8 |\n",
       "| Volvo 142E | 21.4 | 4 | 121.0 | 109 | 4.11 | 2.780 | 18.6 | 1 | 1 | 4 | 2 |\n",
       "\n"
      ],
      "text/plain": [
       "               mpg  cyl disp  hp  drat wt    qsec vs am gear carb\n",
       "Porsche 914-2  26.0 4   120.3  91 4.43 2.140 16.7 0  1  5    2   \n",
       "Lotus Europa   30.4 4    95.1 113 3.77 1.513 16.9 1  1  5    2   \n",
       "Ford Pantera L 15.8 8   351.0 264 4.22 3.170 14.5 0  1  5    4   \n",
       "Ferrari Dino   19.7 6   145.0 175 3.62 2.770 15.5 0  1  5    6   \n",
       "Maserati Bora  15.0 8   301.0 335 3.54 3.570 14.6 0  1  5    8   \n",
       "Volvo 142E     21.4 4   121.0 109 4.11 2.780 18.6 1  1  4    2   "
      ]
     },
     "metadata": {},
     "output_type": "display_data"
    }
   ],
   "source": [
    "tail(mtcars) # 后6个观测值"
   ]
  },
  {
   "cell_type": "code",
   "execution_count": 38,
   "id": "5b0b3cf3-a001-481a-a355-c487a733688b",
   "metadata": {},
   "outputs": [
    {
     "data": {
      "text/html": [
       "<style>\n",
       ".list-inline {list-style: none; margin:0; padding: 0}\n",
       ".list-inline>li {display: inline-block}\n",
       ".list-inline>li:not(:last-child)::after {content: \"\\00b7\"; padding: 0 .5ex}\n",
       "</style>\n",
       "<ol class=list-inline><li>'mpg'</li><li>'cyl'</li><li>'disp'</li><li>'hp'</li><li>'drat'</li><li>'wt'</li><li>'qsec'</li><li>'vs'</li><li>'am'</li><li>'gear'</li><li>'carb'</li></ol>\n"
      ],
      "text/latex": [
       "\\begin{enumerate*}\n",
       "\\item 'mpg'\n",
       "\\item 'cyl'\n",
       "\\item 'disp'\n",
       "\\item 'hp'\n",
       "\\item 'drat'\n",
       "\\item 'wt'\n",
       "\\item 'qsec'\n",
       "\\item 'vs'\n",
       "\\item 'am'\n",
       "\\item 'gear'\n",
       "\\item 'carb'\n",
       "\\end{enumerate*}\n"
      ],
      "text/markdown": [
       "1. 'mpg'\n",
       "2. 'cyl'\n",
       "3. 'disp'\n",
       "4. 'hp'\n",
       "5. 'drat'\n",
       "6. 'wt'\n",
       "7. 'qsec'\n",
       "8. 'vs'\n",
       "9. 'am'\n",
       "10. 'gear'\n",
       "11. 'carb'\n",
       "\n",
       "\n"
      ],
      "text/plain": [
       " [1] \"mpg\"  \"cyl\"  \"disp\" \"hp\"   \"drat\" \"wt\"   \"qsec\" \"vs\"   \"am\"   \"gear\"\n",
       "[11] \"carb\""
      ]
     },
     "metadata": {},
     "output_type": "display_data"
    }
   ],
   "source": [
    "names(mtcars) # 显示变量名"
   ]
  },
  {
   "cell_type": "code",
   "execution_count": 40,
   "id": "61fff201-7656-488f-8472-699076369739",
   "metadata": {},
   "outputs": [],
   "source": [
    "# 数据的编辑\n",
    "data.entry(mtcars) # 通过R的数据编辑器打开数据集，除了浏览外还可以进行观测值修改"
   ]
  },
  {
   "cell_type": "code",
   "execution_count": 42,
   "id": "4fda4484-9614-4f2c-a4b7-9c3c70f4d089",
   "metadata": {},
   "outputs": [
    {
     "ename": "ERROR",
     "evalue": "Error in edit(mtcars): 'edit()' not yet supported in the Jupyter R kernel\n",
     "output_type": "error",
     "traceback": [
      "Error in edit(mtcars): 'edit()' not yet supported in the Jupyter R kernel\nTraceback:\n",
      "1. edit(mtcars)",
      "2. stop(sQuote(\"edit()\"), \" not yet supported in the Jupyter R kernel\")"
     ]
    }
   ],
   "source": [
    "MTcars <- edit(mtcars) # 同时可以进行边界和修改，将结果赋给另一个变量，而数据集不变，但是如果想改变原来的的值，将结果赋给输入同名变量"
   ]
  },
  {
   "cell_type": "code",
   "execution_count": 44,
   "id": "1f267378-a3ce-4c4c-8718-ff597ae5a095",
   "metadata": {},
   "outputs": [],
   "source": [
    "fix(mtcars) # 可对数据集进行直接修改\n",
    "# 等价于 mtcars=edit(mtcars),直接打开了记事本"
   ]
  },
  {
   "cell_type": "code",
   "execution_count": 53,
   "id": "810b52ab-8c59-4127-a7bb-b66d3e6164c7",
   "metadata": {},
   "outputs": [
    {
     "name": "stderr",
     "output_type": "stream",
     "text": [
      "The following objects are masked from mtcars (pos = 3):\n",
      "\n",
      "    am, carb, cyl, disp, drat, gear, hp, mpg, qsec, vs, wt\n",
      "\n",
      "\n",
      "The following objects are masked from mtcars (pos = 4):\n",
      "\n",
      "    am, carb, cyl, disp, drat, gear, hp, mpg, qsec, vs, wt\n",
      "\n",
      "\n",
      "The following objects are masked from mtcars (pos = 5):\n",
      "\n",
      "    am, carb, cyl, disp, drat, gear, hp, mpg, qsec, vs, wt\n",
      "\n",
      "\n",
      "The following objects are masked from mtcars (pos = 6):\n",
      "\n",
      "    am, carb, cyl, disp, drat, gear, hp, mpg, qsec, vs, wt\n",
      "\n",
      "\n",
      "The following objects are masked from mtcars (pos = 7):\n",
      "\n",
      "    am, carb, cyl, disp, drat, gear, hp, mpg, qsec, vs, wt\n",
      "\n",
      "\n",
      "The following objects are masked from mtcars (pos = 8):\n",
      "\n",
      "    am, carb, cyl, disp, drat, gear, hp, mpg, qsec, vs, wt\n",
      "\n",
      "\n"
     ]
    },
    {
     "data": {
      "text/html": [
       "<style>\n",
       ".list-inline {list-style: none; margin:0; padding: 0}\n",
       ".list-inline>li {display: inline-block}\n",
       ".list-inline>li:not(:last-child)::after {content: \"\\00b7\"; padding: 0 .5ex}\n",
       "</style>\n",
       "<ol class=list-inline><li>6</li><li>6</li><li>4</li><li>6</li><li>8</li><li>6</li><li>8</li><li>4</li><li>4</li><li>6</li><li>6</li><li>8</li><li>8</li><li>8</li><li>8</li><li>8</li><li>8</li><li>4</li><li>4</li><li>4</li><li>4</li><li>8</li><li>8</li><li>8</li><li>8</li><li>4</li><li>4</li><li>4</li><li>8</li><li>6</li><li>8</li><li>4</li></ol>\n"
      ],
      "text/latex": [
       "\\begin{enumerate*}\n",
       "\\item 6\n",
       "\\item 6\n",
       "\\item 4\n",
       "\\item 6\n",
       "\\item 8\n",
       "\\item 6\n",
       "\\item 8\n",
       "\\item 4\n",
       "\\item 4\n",
       "\\item 6\n",
       "\\item 6\n",
       "\\item 8\n",
       "\\item 8\n",
       "\\item 8\n",
       "\\item 8\n",
       "\\item 8\n",
       "\\item 8\n",
       "\\item 4\n",
       "\\item 4\n",
       "\\item 4\n",
       "\\item 4\n",
       "\\item 8\n",
       "\\item 8\n",
       "\\item 8\n",
       "\\item 8\n",
       "\\item 4\n",
       "\\item 4\n",
       "\\item 4\n",
       "\\item 8\n",
       "\\item 6\n",
       "\\item 8\n",
       "\\item 4\n",
       "\\end{enumerate*}\n"
      ],
      "text/markdown": [
       "1. 6\n",
       "2. 6\n",
       "3. 4\n",
       "4. 6\n",
       "5. 8\n",
       "6. 6\n",
       "7. 8\n",
       "8. 4\n",
       "9. 4\n",
       "10. 6\n",
       "11. 6\n",
       "12. 8\n",
       "13. 8\n",
       "14. 8\n",
       "15. 8\n",
       "16. 8\n",
       "17. 8\n",
       "18. 4\n",
       "19. 4\n",
       "20. 4\n",
       "21. 4\n",
       "22. 8\n",
       "23. 8\n",
       "24. 8\n",
       "25. 8\n",
       "26. 4\n",
       "27. 4\n",
       "28. 4\n",
       "29. 8\n",
       "30. 6\n",
       "31. 8\n",
       "32. 4\n",
       "\n",
       "\n"
      ],
      "text/plain": [
       " [1] 6 6 4 6 8 6 8 4 4 6 6 8 8 8 8 8 8 4 4 4 4 8 8 8 8 4 4 4 8 6 8 4"
      ]
     },
     "metadata": {},
     "output_type": "display_data"
    }
   ],
   "source": [
    "# 激活数据库\n",
    "attach(mtcars) # 激活后可对于变量直接操作\n",
    "cyl# 进行了多次调用后"
   ]
  },
  {
   "cell_type": "code",
   "execution_count": 49,
   "id": "55dead5b-cf5d-46de-89d7-26582e84717e",
   "metadata": {},
   "outputs": [
    {
     "data": {
      "text/plain": [
       "cyl\n",
       " 4  6  8 \n",
       "11  7 14 "
      ]
     },
     "metadata": {},
     "output_type": "display_data"
    }
   ],
   "source": [
    "# 属性数据的分析，变量cyl为属性变量\n",
    "table(cyl)"
   ]
  },
  {
   "cell_type": "code",
   "execution_count": 55,
   "id": "bd6eaa0c-6680-4511-828e-e161f90aa6df",
   "metadata": {},
   "outputs": [
    {
     "data": {
      "image/png": "[encoded data removed]",
      "text/plain": [
       "plot without title"
      ]
     },
     "metadata": {
      "image/png": {
       "height": 420,
       "width": 420
      }
     },
     "output_type": "display_data"
    }
   ],
   "source": [
    "# 绘制频数直方图\n",
    "barplot(table(cyl))"
   ]
  },
  {
   "cell_type": "code",
   "execution_count": 57,
   "id": "397d1b33-591c-4428-bee1-4e3224b57e40",
   "metadata": {},
   "outputs": [
    {
     "data": {
      "image/png": "[encoded data removed]",
      "text/plain": [
       "plot without title"
      ]
     },
     "metadata": {
      "image/png": {
       "height": 420,
       "width": 420
      }
     },
     "output_type": "display_data"
    }
   ],
   "source": [
    "barplot(cyl) # 在此不适用，函数仅适用于数值型变量，画出来的就不是频数直方图"
   ]
  },
  {
   "cell_type": "markdown",
   "id": "31b3d3af-4fd5-4c40-9e39-436d8480d731",
   "metadata": {},
   "source": [
    "# 数值型数据的分析"
   ]
  },
  {
   "cell_type": "code",
   "execution_count": 61,
   "id": "0de2d8f9-86d1-4982-b3ae-a9a958df2af3",
   "metadata": {},
   "outputs": [
    {
     "data": {
      "text/html": [
       "<style>\n",
       ".list-inline {list-style: none; margin:0; padding: 0}\n",
       ".list-inline>li {display: inline-block}\n",
       ".list-inline>li:not(:last-child)::after {content: \"\\00b7\"; padding: 0 .5ex}\n",
       "</style>\n",
       "<ol class=list-inline><li>21</li><li>21</li><li>22.8</li><li>21.4</li><li>18.7</li><li>18.1</li><li>14.3</li><li>24.4</li><li>22.8</li><li>19.2</li><li>17.8</li><li>16.4</li><li>17.3</li><li>15.2</li><li>10.4</li><li>10.4</li><li>14.7</li><li>32.4</li><li>30.4</li><li>33.9</li><li>21.5</li><li>15.5</li><li>15.2</li><li>13.3</li><li>19.2</li><li>27.3</li><li>26</li><li>30.4</li><li>15.8</li><li>19.7</li><li>15</li><li>21.4</li></ol>\n"
      ],
      "text/latex": [
       "\\begin{enumerate*}\n",
       "\\item 21\n",
       "\\item 21\n",
       "\\item 22.8\n",
       "\\item 21.4\n",
       "\\item 18.7\n",
       "\\item 18.1\n",
       "\\item 14.3\n",
       "\\item 24.4\n",
       "\\item 22.8\n",
       "\\item 19.2\n",
       "\\item 17.8\n",
       "\\item 16.4\n",
       "\\item 17.3\n",
       "\\item 15.2\n",
       "\\item 10.4\n",
       "\\item 10.4\n",
       "\\item 14.7\n",
       "\\item 32.4\n",
       "\\item 30.4\n",
       "\\item 33.9\n",
       "\\item 21.5\n",
       "\\item 15.5\n",
       "\\item 15.2\n",
       "\\item 13.3\n",
       "\\item 19.2\n",
       "\\item 27.3\n",
       "\\item 26\n",
       "\\item 30.4\n",
       "\\item 15.8\n",
       "\\item 19.7\n",
       "\\item 15\n",
       "\\item 21.4\n",
       "\\end{enumerate*}\n"
      ],
      "text/markdown": [
       "1. 21\n",
       "2. 21\n",
       "3. 22.8\n",
       "4. 21.4\n",
       "5. 18.7\n",
       "6. 18.1\n",
       "7. 14.3\n",
       "8. 24.4\n",
       "9. 22.8\n",
       "10. 19.2\n",
       "11. 17.8\n",
       "12. 16.4\n",
       "13. 17.3\n",
       "14. 15.2\n",
       "15. 10.4\n",
       "16. 10.4\n",
       "17. 14.7\n",
       "18. 32.4\n",
       "19. 30.4\n",
       "20. 33.9\n",
       "21. 21.5\n",
       "22. 15.5\n",
       "23. 15.2\n",
       "24. 13.3\n",
       "25. 19.2\n",
       "26. 27.3\n",
       "27. 26\n",
       "28. 30.4\n",
       "29. 15.8\n",
       "30. 19.7\n",
       "31. 15\n",
       "32. 21.4\n",
       "\n",
       "\n"
      ],
      "text/plain": [
       " [1] 21.0 21.0 22.8 21.4 18.7 18.1 14.3 24.4 22.8 19.2 17.8 16.4 17.3 15.2 10.4\n",
       "[16] 10.4 14.7 32.4 30.4 33.9 21.5 15.5 15.2 13.3 19.2 27.3 26.0 30.4 15.8 19.7\n",
       "[31] 15.0 21.4"
      ]
     },
     "metadata": {},
     "output_type": "display_data"
    }
   ],
   "source": [
    "mpg"
   ]
  },
  {
   "cell_type": "code",
   "execution_count": 59,
   "id": "e09703b7-f064-472f-882a-c26ca40c0d65",
   "metadata": {},
   "outputs": [
    {
     "name": "stdout",
     "output_type": "stream",
     "text": [
      "\n",
      "  The decimal point is at the |\n",
      "\n",
      "  10 | 44\n",
      "  12 | 3\n",
      "  14 | 3702258\n",
      "  16 | 438\n",
      "  18 | 17227\n",
      "  20 | 00445\n",
      "  22 | 88\n",
      "  24 | 4\n",
      "  26 | 03\n",
      "  28 | \n",
      "  30 | 44\n",
      "  32 | 49\n",
      "\n"
     ]
    }
   ],
   "source": [
    "# 画茎叶图\n",
    "stem(mpg)"
   ]
  },
  {
   "cell_type": "code",
   "execution_count": 63,
   "id": "034ba207-1804-4cbd-a4ec-99d6ffd54f33",
   "metadata": {},
   "outputs": [
    {
     "data": {
      "image/png": "[encoded data removed]",
      "text/plain": [
       "Plot with title \"Histogram of mpg\""
      ]
     },
     "metadata": {
      "image/png": {
       "height": 420,
       "width": 420
      }
     },
     "output_type": "display_data"
    }
   ],
   "source": [
    "# 画直方图\n",
    "hist(mpg)"
   ]
  },
  {
   "cell_type": "code",
   "execution_count": 65,
   "id": "5a03d1eb-0969-4901-bbf9-fbbbdfd91221",
   "metadata": {},
   "outputs": [
    {
     "data": {
      "image/png": "[encoded data removed]",
      "text/plain": [
       "plot without title"
      ]
     },
     "metadata": {
      "image/png": {
       "height": 420,
       "width": 420
      }
     },
     "output_type": "display_data"
    }
   ],
   "source": [
    "# 画箱线图\n",
    "boxplot(mpg)"
   ]
  },
  {
   "cell_type": "code",
   "execution_count": 67,
   "id": "f5861bb1-fccb-4a49-b4f0-584ae96ef54c",
   "metadata": {},
   "outputs": [
    {
     "data": {
      "text/html": [
       "20.090625"
      ],
      "text/latex": [
       "20.090625"
      ],
      "text/markdown": [
       "20.090625"
      ],
      "text/plain": [
       "[1] 20.09062"
      ]
     },
     "metadata": {},
     "output_type": "display_data"
    }
   ],
   "source": [
    "# 计算平均值\n",
    "mean(mpg)"
   ]
  },
  {
   "cell_type": "code",
   "execution_count": 70,
   "id": "07798564-13f1-4ac9-a257-85c0728c4563",
   "metadata": {},
   "outputs": [
    {
     "data": {
      "text/html": [
       "19.6961538461538"
      ],
      "text/latex": [
       "19.6961538461538"
      ],
      "text/markdown": [
       "19.6961538461538"
      ],
      "text/plain": [
       "[1] 19.69615"
      ]
     },
     "metadata": {},
     "output_type": "display_data"
    }
   ],
   "source": [
    "# 计算截取10%的平均值\n",
    "mean(mpg,trim=.1)"
   ]
  },
  {
   "cell_type": "code",
   "execution_count": 71,
   "id": "5904bd97-6403-4be3-a382-1047f32bf686",
   "metadata": {},
   "outputs": [
    {
     "data": {
      "text/html": [
       "6.1875"
      ],
      "text/latex": [
       "6.1875"
      ],
      "text/markdown": [
       "6.1875"
      ],
      "text/plain": [
       "[1] 6.1875"
      ]
     },
     "metadata": {},
     "output_type": "display_data"
    }
   ],
   "source": [
    "mean(cyl)"
   ]
  },
  {
   "cell_type": "code",
   "execution_count": 73,
   "id": "06f1f8d2-80a2-4c23-b3cd-154e3bce3da9",
   "metadata": {},
   "outputs": [
    {
     "data": {
      "text/html": [
       "<style>\n",
       ".dl-inline {width: auto; margin:0; padding: 0}\n",
       ".dl-inline>dt, .dl-inline>dd {float: none; width: auto; display: inline-block}\n",
       ".dl-inline>dt::after {content: \":\\0020\"; padding-right: .5ex}\n",
       ".dl-inline>dt:not(:first-of-type) {padding-left: .5ex}\n",
       "</style><dl class=dl-inline><dt>4</dt><dd>26.6636363636364</dd><dt>6</dt><dd>19.7428571428571</dd><dt>8</dt><dd>15.1</dd></dl>\n"
      ],
      "text/latex": [
       "\\begin{description*}\n",
       "\\item[4] 26.6636363636364\n",
       "\\item[6] 19.7428571428571\n",
       "\\item[8] 15.1\n",
       "\\end{description*}\n"
      ],
      "text/markdown": [
       "4\n",
       ":   26.66363636363646\n",
       ":   19.74285714285718\n",
       ":   15.1\n",
       "\n"
      ],
      "text/plain": [
       "       4        6        8 \n",
       "26.66364 19.74286 15.10000 "
      ]
     },
     "metadata": {},
     "output_type": "display_data"
    }
   ],
   "source": [
    "# 按分组变量cyl计算mpg的分组平均值\n",
    "# 对应于不同的cyl：Number of cylinders，我们去查看mpg:Miles/(US) gallon\n",
    "tapply(mpg,cyl,mean)"
   ]
  },
  {
   "cell_type": "code",
   "execution_count": 75,
   "id": "dbb9417f-1d19-45c4-82e0-07950bb892d5",
   "metadata": {},
   "outputs": [
    {
     "data": {
      "text/html": [
       "7.375"
      ],
      "text/latex": [
       "7.375"
      ],
      "text/markdown": [
       "7.375"
      ],
      "text/plain": [
       "[1] 7.375"
      ]
     },
     "metadata": {},
     "output_type": "display_data"
    }
   ],
   "source": [
    "# 计算四分位数的极差\n",
    "# 四分位数极差：IQR=Q3-Q1\n",
    "IQR(mpg)"
   ]
  },
  {
   "cell_type": "code",
   "execution_count": 77,
   "id": "c300c42f-36cd-439c-9174-b55135b91fd0",
   "metadata": {},
   "outputs": [
    {
     "data": {
      "text/html": [
       "<style>\n",
       ".dl-inline {width: auto; margin:0; padding: 0}\n",
       ".dl-inline>dt, .dl-inline>dd {float: none; width: auto; display: inline-block}\n",
       ".dl-inline>dt::after {content: \":\\0020\"; padding-right: .5ex}\n",
       ".dl-inline>dt:not(:first-of-type) {padding-left: .5ex}\n",
       "</style><dl class=dl-inline><dt>0%</dt><dd>10.4</dd><dt>25%</dt><dd>15.425</dd><dt>50%</dt><dd>19.2</dd><dt>75%</dt><dd>22.8</dd><dt>100%</dt><dd>33.9</dd></dl>\n"
      ],
      "text/latex": [
       "\\begin{description*}\n",
       "\\item[0\\textbackslash{}\\%] 10.4\n",
       "\\item[25\\textbackslash{}\\%] 15.425\n",
       "\\item[50\\textbackslash{}\\%] 19.2\n",
       "\\item[75\\textbackslash{}\\%] 22.8\n",
       "\\item[100\\textbackslash{}\\%] 33.9\n",
       "\\end{description*}\n"
      ],
      "text/markdown": [
       "0%\n",
       ":   10.425%\n",
       ":   15.42550%\n",
       ":   19.275%\n",
       ":   22.8100%\n",
       ":   33.9\n",
       "\n"
      ],
      "text/plain": [
       "    0%    25%    50%    75%   100% \n",
       "10.400 15.425 19.200 22.800 33.900 "
      ]
     },
     "metadata": {},
     "output_type": "display_data"
    }
   ],
   "source": [
    "# 计算样本常用的分位数：极小、极大、中位数和两个四分位数\n",
    "quantile(mpg)"
   ]
  },
  {
   "cell_type": "code",
   "execution_count": 79,
   "id": "00c03a8f-e926-4242-9c4f-280809947107",
   "metadata": {},
   "outputs": [
    {
     "data": {
      "text/html": [
       "<style>\n",
       ".list-inline {list-style: none; margin:0; padding: 0}\n",
       ".list-inline>li {display: inline-block}\n",
       ".list-inline>li:not(:last-child)::after {content: \"\\00b7\"; padding: 0 .5ex}\n",
       "</style>\n",
       "<ol class=list-inline><li>10.4</li><li>15.35</li><li>19.2</li><li>22.8</li><li>33.9</li></ol>\n"
      ],
      "text/latex": [
       "\\begin{enumerate*}\n",
       "\\item 10.4\n",
       "\\item 15.35\n",
       "\\item 19.2\n",
       "\\item 22.8\n",
       "\\item 33.9\n",
       "\\end{enumerate*}\n"
      ],
      "text/markdown": [
       "1. 10.4\n",
       "2. 15.35\n",
       "3. 19.2\n",
       "4. 22.8\n",
       "5. 33.9\n",
       "\n",
       "\n"
      ],
      "text/plain": [
       "[1] 10.40 15.35 19.20 22.80 33.90"
      ]
     },
     "metadata": {},
     "output_type": "display_data"
    }
   ],
   "source": [
    "# or \n",
    "fivenum(mpg)"
   ]
  },
  {
   "cell_type": "code",
   "execution_count": 84,
   "id": "18f65efe-a88f-463b-a1ee-ee4c0a105904",
   "metadata": {},
   "outputs": [
    {
     "data": {
      "text/html": [
       "<style>\n",
       ".dl-inline {width: auto; margin:0; padding: 0}\n",
       ".dl-inline>dt, .dl-inline>dd {float: none; width: auto; display: inline-block}\n",
       ".dl-inline>dt::after {content: \":\\0020\"; padding-right: .5ex}\n",
       ".dl-inline>dt:not(:first-of-type) {padding-left: .5ex}\n",
       "</style><dl class=dl-inline><dt>0.1%</dt><dd>10.4</dd><dt>0.5%</dt><dd>10.4</dd><dt>99.5%</dt><dd>33.6675</dd></dl>\n"
      ],
      "text/latex": [
       "\\begin{description*}\n",
       "\\item[0.1\\textbackslash{}\\%] 10.4\n",
       "\\item[0.5\\textbackslash{}\\%] 10.4\n",
       "\\item[99.5\\textbackslash{}\\%] 33.6675\n",
       "\\end{description*}\n"
      ],
      "text/markdown": [
       "0.1%\n",
       ":   10.40.5%\n",
       ":   10.499.5%\n",
       ":   33.6675\n",
       "\n"
      ],
      "text/plain": [
       "   0.1%    0.5%   99.5% \n",
       "10.4000 10.4000 33.6675 "
      ]
     },
     "metadata": {},
     "output_type": "display_data"
    }
   ],
   "source": [
    "# 计算由向量prob给定的各概率处的样本分位数\n",
    "# quantile(mpg, probs)\n",
    "quantile(mpg, probs = c(.1, .5, 99.5)/100)"
   ]
  },
  {
   "cell_type": "code",
   "execution_count": 86,
   "id": "d911d3aa-e580-4937-9647-c3d8056e7ff5",
   "metadata": {},
   "outputs": [
    {
     "data": {
      "text/plain": [
       "   Min. 1st Qu.  Median    Mean 3rd Qu.    Max. \n",
       "  10.40   15.43   19.20   20.09   22.80   33.90 "
      ]
     },
     "metadata": {},
     "output_type": "display_data"
    }
   ],
   "source": [
    "# 计算常用的描述性统计量\n",
    "# 最小值、第一四分位数、中位数、平均数、第三分位数和最大值\n",
    "summary(mpg)"
   ]
  },
  {
   "cell_type": "code",
   "execution_count": 88,
   "id": "d63c1e3d-25e1-415c-94eb-eaacfb35b24f",
   "metadata": {},
   "outputs": [
    {
     "data": {
      "text/html": [
       "6.0269480520891"
      ],
      "text/latex": [
       "6.0269480520891"
      ],
      "text/markdown": [
       "6.0269480520891"
      ],
      "text/plain": [
       "[1] 6.026948"
      ]
     },
     "metadata": {},
     "output_type": "display_data"
    }
   ],
   "source": [
    "# 计算标准差\n",
    "sd(mpg)"
   ]
  },
  {
   "cell_type": "code",
   "execution_count": 90,
   "id": "19837d8a-f064-49ee-a8dc-725a9892ccff",
   "metadata": {},
   "outputs": [
    {
     "data": {
      "text/html": [
       "36.3241028225806"
      ],
      "text/latex": [
       "36.3241028225806"
      ],
      "text/markdown": [
       "36.3241028225806"
      ],
      "text/plain": [
       "[1] 36.3241"
      ]
     },
     "metadata": {},
     "output_type": "display_data"
    }
   ],
   "source": [
    "# 方差\n",
    "var(mpg)"
   ]
  },
  {
   "cell_type": "code",
   "execution_count": 94,
   "id": "fcc076f7-eb7a-416b-b737-98061adca9b5",
   "metadata": {},
   "outputs": [
    {
     "data": {
      "text/html": [
       "5.41149"
      ],
      "text/latex": [
       "5.41149"
      ],
      "text/markdown": [
       "5.41149"
      ],
      "text/plain": [
       "[1] 5.41149"
      ]
     },
     "metadata": {},
     "output_type": "display_data"
    }
   ],
   "source": [
    "# 计算中位绝对离差\n",
    "mad(mpg)\n",
    "# MAD定义为数据点到中位数的绝对偏差的中位数\n",
    "# MAD=median(∣Xi−median(X)∣)"
   ]
  },
  {
   "cell_type": "markdown",
   "id": "6c4d510d-2e29-47bc-88e5-395464315cf4",
   "metadata": {},
   "source": [
    "# 选择二元关系"
   ]
  },
  {
   "cell_type": "code",
   "execution_count": 95,
   "id": "5160d954-665c-4295-aebc-2ba1df70b4ee",
   "metadata": {},
   "outputs": [
    {
     "data": {
      "image/png": "[encoded data removed]",
      "text/plain": [
       "plot without title"
      ]
     },
     "metadata": {
      "image/png": {
       "height": 420,
       "width": 420
      }
     },
     "output_type": "display_data"
    }
   ],
   "source": [
    "\n",
    "# 散点图\n",
    "plot(cyl,mpg)"
   ]
  },
  {
   "cell_type": "code",
   "execution_count": 96,
   "id": "774f4a68-efeb-46d9-937f-8b21d191cc1f",
   "metadata": {},
   "outputs": [
    {
     "data": {
      "image/png": "[encoded data removed]",
      "text/plain": [
       "plot without title"
      ]
     },
     "metadata": {
      "image/png": {
       "height": 420,
       "width": 420
      }
     },
     "output_type": "display_data"
    }
   ],
   "source": [
    "# hp:Gross horsepower \n",
    "plot(hp, mpg, pch=cyl)\n",
    "legend(250, 30, pch=c(4,6,8),\n",
    "      legend=c(\"4 cylinders\", \"6 cylinders\", \"8 cylinders\"))"
   ]
  },
  {
   "cell_type": "code",
   "execution_count": 98,
   "id": "86bac4f9-1830-4b19-aaa1-bc2117e5c909",
   "metadata": {},
   "outputs": [
    {
     "data": {
      "text/plain": [
       "\n",
       "Call:\n",
       "lm(formula = cyl ~ mpg)\n",
       "\n",
       "Coefficients:\n",
       "(Intercept)          mpg  \n",
       "    11.2607      -0.2525  \n"
      ]
     },
     "metadata": {},
     "output_type": "display_data"
    }
   ],
   "source": [
    "# 拟合线性回归\n",
    "z <- lm(cyl ~ mpg)\n",
    "z"
   ]
  },
  {
   "cell_type": "code",
   "execution_count": 101,
   "id": "196758a5-9f27-4e83-9610-648eecb03dee",
   "metadata": {},
   "outputs": [
    {
     "data": {
      "text/html": [
       "-0.852161959426613"
      ],
      "text/latex": [
       "-0.852161959426613"
      ],
      "text/markdown": [
       "-0.852161959426613"
      ],
      "text/plain": [
       "[1] -0.852162"
      ]
     },
     "metadata": {},
     "output_type": "display_data"
    }
   ],
   "source": [
    "# 相关系数\n",
    "cor(cyl, mpg)"
   ]
  },
  {
   "cell_type": "code",
   "execution_count": 103,
   "id": "ab11cd62-c765-43c3-b093-1cb571f639da",
   "metadata": {},
   "outputs": [
    {
     "data": {
      "image/png": "[encoded data removed]",
      "text/plain": [
       "plot without title"
      ]
     },
     "metadata": {
      "image/png": {
       "height": 420,
       "width": 420
      }
     },
     "output_type": "display_data"
    },
    {
     "data": {
      "image/png": "[encoded data removed]",
      "text/plain": [
       "Plot with title \"Histogram of lm.resids\""
      ]
     },
     "metadata": {
      "image/png": {
       "height": 420,
       "width": 420
      }
     },
     "output_type": "display_data"
    },
    {
     "data": {
      "image/png": "[encoded data removed]",
      "text/plain": [
       "Plot with title \"Normal Q-Q Plot\""
      ]
     },
     "metadata": {
      "image/png": {
       "height": 420,
       "width": 420
      }
     },
     "output_type": "display_data"
    }
   ],
   "source": [
    "# 残差分析\n",
    "lm.res = lm(cyl ~ mpg)  # 将回归分析的结果作为对象\n",
    "                        # 保存到 lm.res \n",
    "lm.resids = resid(lm.res) # 提取残差向量\n",
    "plot(lm.resids)           # 考察残差的散点图\n",
    "hist(lm.resids)           # 考察残差的直方图\n",
    "qqnorm(lm.resids)         # 残差的QQ图是否落在直线上？"
   ]
  },
  {
   "cell_type": "code",
   "execution_count": 105,
   "id": "2d0d568f-9ba1-4b5a-a9cf-6ecfb7eb3dd1",
   "metadata": {},
   "outputs": [],
   "source": [
    "# 结束分析并退出\n",
    "detach(mtcars)\n",
    "# q()"
   ]
  },
  {
   "cell_type": "markdown",
   "id": "8dcacbf2-7e0a-4c67-b3c6-856820a4bc52",
   "metadata": {},
   "source": [
    "# R的数据结构\n",
    "\n",
    "所有的对象都有两个内在属性：类型和长度。\n",
    "\n",
    "类型是对象元素的基本类型，共有4种：\n",
    "\n",
    "    数值型\n",
    "        整型\n",
    "        单精度实型\n",
    "        双精度实型\n",
    "    字符型\n",
    "    复数型\n",
    "    逻辑型 （FALSE、TRUE、NA）\n",
    "\n",
    "对象的类型和长度可分别使用mode()与length()函数得到。\n"
   ]
  },
  {
   "cell_type": "code",
   "execution_count": 108,
   "id": "c57a3d19-820f-4309-b7f6-a95215c988ce",
   "metadata": {},
   "outputs": [
    {
     "data": {
      "text/html": [
       "'numeric'"
      ],
      "text/latex": [
       "'numeric'"
      ],
      "text/markdown": [
       "'numeric'"
      ],
      "text/plain": [
       "[1] \"numeric\""
      ]
     },
     "metadata": {},
     "output_type": "display_data"
    }
   ],
   "source": [
    "x=100\n",
    "mode(x)"
   ]
  },
  {
   "cell_type": "code",
   "execution_count": 110,
   "id": "502aa8a7-ae2a-4454-a8f2-6d5d4199345c",
   "metadata": {},
   "outputs": [
    {
     "data": {
      "text/html": [
       "1"
      ],
      "text/latex": [
       "1"
      ],
      "text/markdown": [
       "1"
      ],
      "text/plain": [
       "[1] 1"
      ]
     },
     "metadata": {},
     "output_type": "display_data"
    }
   ],
   "source": [
    "length(x)"
   ]
  },
  {
   "cell_type": "code",
   "execution_count": 112,
   "id": "4a618d8d-c266-4e3e-9a4e-b80a25722ce1",
   "metadata": {},
   "outputs": [],
   "source": [
    "A = \"Gomphotherium\"; compar = TRUE; z = 1i"
   ]
  },
  {
   "cell_type": "code",
   "execution_count": 114,
   "id": "1582242b-55d3-4f4b-b3b3-cc7100a0ca9f",
   "metadata": {},
   "outputs": [
    {
     "data": {
      "text/html": [
       "'character'"
      ],
      "text/latex": [
       "'character'"
      ],
      "text/markdown": [
       "'character'"
      ],
      "text/plain": [
       "[1] \"character\""
      ]
     },
     "metadata": {},
     "output_type": "display_data"
    },
    {
     "data": {
      "text/html": [
       "'logical'"
      ],
      "text/latex": [
       "'logical'"
      ],
      "text/markdown": [
       "'logical'"
      ],
      "text/plain": [
       "[1] \"logical\""
      ]
     },
     "metadata": {},
     "output_type": "display_data"
    },
    {
     "data": {
      "text/html": [
       "'complex'"
      ],
      "text/latex": [
       "'complex'"
      ],
      "text/markdown": [
       "'complex'"
      ],
      "text/plain": [
       "[1] \"complex\""
      ]
     },
     "metadata": {},
     "output_type": "display_data"
    }
   ],
   "source": [
    "mode(A);mode(compar);mode(z)"
   ]
  },
  {
   "cell_type": "markdown",
   "id": "c9e2ce42-06c0-42d7-b4d9-1129ce1bbd20",
   "metadata": {},
   "source": [
    "无论什么类型的数据，缺失总是用NA（Not Available）来表示；很大的数值则可用指数形式表示。\n",
    "\n",
    "无穷大： Inf"
   ]
  },
  {
   "cell_type": "code",
   "execution_count": 117,
   "id": "baa78bf0-e76c-4ac1-91f4-f68e5c406d61",
   "metadata": {},
   "outputs": [
    {
     "data": {
      "text/html": [
       "Inf"
      ],
      "text/latex": [
       "Inf"
      ],
      "text/markdown": [
       "Inf"
      ],
      "text/plain": [
       "[1] Inf"
      ]
     },
     "metadata": {},
     "output_type": "display_data"
    }
   ],
   "source": [
    "x = 5/0\n",
    "x"
   ]
  },
  {
   "cell_type": "code",
   "execution_count": 118,
   "id": "1f26c159-6177-46d7-8f76-f03d522a9792",
   "metadata": {},
   "outputs": [
    {
     "data": {
      "text/html": [
       "Inf"
      ],
      "text/latex": [
       "Inf"
      ],
      "text/markdown": [
       "Inf"
      ],
      "text/plain": [
       "[1] Inf"
      ]
     },
     "metadata": {},
     "output_type": "display_data"
    }
   ],
   "source": [
    "exp(x)"
   ]
  },
  {
   "cell_type": "code",
   "execution_count": 119,
   "id": "f717322d-761d-4925-b7ad-cd23925b83b8",
   "metadata": {},
   "outputs": [
    {
     "data": {
      "text/html": [
       "0"
      ],
      "text/latex": [
       "0"
      ],
      "text/markdown": [
       "0"
      ],
      "text/plain": [
       "[1] 0"
      ]
     },
     "metadata": {},
     "output_type": "display_data"
    }
   ],
   "source": [
    "exp(-x)"
   ]
  },
  {
   "cell_type": "code",
   "execution_count": 121,
   "id": "334c9ab2-a955-4e1c-adaf-8c7dc875466c",
   "metadata": {},
   "outputs": [
    {
     "data": {
      "text/html": [
       "NaN"
      ],
      "text/latex": [
       "NaN"
      ],
      "text/markdown": [
       "NaN"
      ],
      "text/plain": [
       "[1] NaN"
      ]
     },
     "metadata": {},
     "output_type": "display_data"
    }
   ],
   "source": [
    "Inf-Inf"
   ]
  },
  {
   "cell_type": "code",
   "execution_count": 122,
   "id": "a75d7159-e63a-4ca7-b0e5-91f8cf360e3f",
   "metadata": {},
   "outputs": [
    {
     "data": {
      "text/html": [
       "NaN"
      ],
      "text/latex": [
       "NaN"
      ],
      "text/markdown": [
       "NaN"
      ],
      "text/plain": [
       "[1] NaN"
      ]
     },
     "metadata": {},
     "output_type": "display_data"
    }
   ],
   "source": [
    "0/0"
   ]
  },
  {
   "cell_type": "code",
   "execution_count": 123,
   "id": "e6f3229b-ca2e-42e6-b2d1-93c195437202",
   "metadata": {},
   "outputs": [
    {
     "name": "stderr",
     "output_type": "stream",
     "text": [
      "Warning message in sqrt(-17):\n",
      "\"NaNs produced\"\n"
     ]
    },
    {
     "data": {
      "text/html": [
       "NaN"
      ],
      "text/latex": [
       "NaN"
      ],
      "text/markdown": [
       "NaN"
      ],
      "text/plain": [
       "[1] NaN"
      ]
     },
     "metadata": {},
     "output_type": "display_data"
    }
   ],
   "source": [
    "sqrt(-17)"
   ]
  },
  {
   "cell_type": "code",
   "execution_count": 124,
   "id": "565fe988-0409-4eba-8339-99e4ddd8a99e",
   "metadata": {},
   "outputs": [
    {
     "data": {
      "text/html": [
       "0+4.12310562561766i"
      ],
      "text/latex": [
       "0+4.12310562561766i"
      ],
      "text/markdown": [
       "0+4.12310562561766i"
      ],
      "text/plain": [
       "[1] 0+4.123106i"
      ]
     },
     "metadata": {},
     "output_type": "display_data"
    }
   ],
   "source": [
    "sqrt(-17 + 0i) # 按照复数进行运算"
   ]
  },
  {
   "cell_type": "markdown",
   "id": "ed7a83cd-0891-405a-a521-826e3d96d361",
   "metadata": {},
   "source": [
    "# 浏览对象信息\n",
    "\n",
    "ls()函数显示所有在内存中的对象，ls.str()显示所有对象的详细信息\n",
    "\n",
    "删除对象使用rm()\n",
    "\n",
    "    rm(x)删除对象x\n",
    "    rm(x, y)删除对象x,y\n",
    "    rm(list=ls())删除内存中所有对象\n",
    "    rm(list=ls(pat=\"^m\")) 删除对象以字母m开头的对象\n"
   ]
  },
  {
   "cell_type": "code",
   "execution_count": 125,
   "id": "669c874b-035f-43e8-84e6-b0ffd298dc0d",
   "metadata": {},
   "outputs": [
    {
     "data": {
      "text/html": [
       "<style>\n",
       ".list-inline {list-style: none; margin:0; padding: 0}\n",
       ".list-inline>li {display: inline-block}\n",
       ".list-inline>li:not(:last-child)::after {content: \"\\00b7\"; padding: 0 .5ex}\n",
       "</style>\n",
       "<ol class=list-inline><li>'A'</li><li>'compar'</li><li>'lm.res'</li><li>'lm.resids'</li><li>'mtcars'</li><li>'x'</li><li>'z'</li></ol>\n"
      ],
      "text/latex": [
       "\\begin{enumerate*}\n",
       "\\item 'A'\n",
       "\\item 'compar'\n",
       "\\item 'lm.res'\n",
       "\\item 'lm.resids'\n",
       "\\item 'mtcars'\n",
       "\\item 'x'\n",
       "\\item 'z'\n",
       "\\end{enumerate*}\n"
      ],
      "text/markdown": [
       "1. 'A'\n",
       "2. 'compar'\n",
       "3. 'lm.res'\n",
       "4. 'lm.resids'\n",
       "5. 'mtcars'\n",
       "6. 'x'\n",
       "7. 'z'\n",
       "\n",
       "\n"
      ],
      "text/plain": [
       "[1] \"A\"         \"compar\"    \"lm.res\"    \"lm.resids\" \"mtcars\"    \"x\"        \n",
       "[7] \"z\"        "
      ]
     },
     "metadata": {},
     "output_type": "display_data"
    }
   ],
   "source": [
    "ls()"
   ]
  },
  {
   "cell_type": "markdown",
   "id": "3bf8d136-b84f-499a-86a7-420dec71d1c7",
   "metadata": {},
   "source": [
    "# 下面具体介绍各向量、矩阵、数据框、列表和时间序列的构成方法\n",
    "## 向量的建立\n",
    "建立数值向量\n",
    "\n",
    "    seq()或“:” ——向量有简单规律\n",
    "    rep() —— 向量有复杂规律\n",
    "    c() —— 向量没有什么规律\n",
    "    scan() —— 通过键盘逐个输入\n",
    "\n"
   ]
  },
  {
   "cell_type": "code",
   "execution_count": 127,
   "id": "72df0434-32ea-4662-821d-49b9fdc3af78",
   "metadata": {},
   "outputs": [
    {
     "data": {
      "text/html": [
       "<style>\n",
       ".list-inline {list-style: none; margin:0; padding: 0}\n",
       ".list-inline>li {display: inline-block}\n",
       ".list-inline>li:not(:last-child)::after {content: \"\\00b7\"; padding: 0 .5ex}\n",
       "</style>\n",
       "<ol class=list-inline><li>1</li><li>2</li><li>3</li><li>4</li><li>5</li><li>6</li><li>7</li><li>8</li><li>9</li><li>10</li></ol>\n"
      ],
      "text/latex": [
       "\\begin{enumerate*}\n",
       "\\item 1\n",
       "\\item 2\n",
       "\\item 3\n",
       "\\item 4\n",
       "\\item 5\n",
       "\\item 6\n",
       "\\item 7\n",
       "\\item 8\n",
       "\\item 9\n",
       "\\item 10\n",
       "\\end{enumerate*}\n"
      ],
      "text/markdown": [
       "1. 1\n",
       "2. 2\n",
       "3. 3\n",
       "4. 4\n",
       "5. 5\n",
       "6. 6\n",
       "7. 7\n",
       "8. 8\n",
       "9. 9\n",
       "10. 10\n",
       "\n",
       "\n"
      ],
      "text/plain": [
       " [1]  1  2  3  4  5  6  7  8  9 10"
      ]
     },
     "metadata": {},
     "output_type": "display_data"
    }
   ],
   "source": [
    "# 例子\n",
    "1:10"
   ]
  },
  {
   "cell_type": "code",
   "execution_count": 128,
   "id": "6c23560e-7b39-4108-8640-6f33497ff635",
   "metadata": {},
   "outputs": [
    {
     "data": {
      "text/html": [
       "<style>\n",
       ".list-inline {list-style: none; margin:0; padding: 0}\n",
       ".list-inline>li {display: inline-block}\n",
       ".list-inline>li:not(:last-child)::after {content: \"\\00b7\"; padding: 0 .5ex}\n",
       "</style>\n",
       "<ol class=list-inline><li>0</li><li>1</li><li>2</li><li>3</li><li>4</li><li>5</li><li>6</li><li>7</li><li>8</li><li>9</li></ol>\n"
      ],
      "text/latex": [
       "\\begin{enumerate*}\n",
       "\\item 0\n",
       "\\item 1\n",
       "\\item 2\n",
       "\\item 3\n",
       "\\item 4\n",
       "\\item 5\n",
       "\\item 6\n",
       "\\item 7\n",
       "\\item 8\n",
       "\\item 9\n",
       "\\end{enumerate*}\n"
      ],
      "text/markdown": [
       "1. 0\n",
       "2. 1\n",
       "3. 2\n",
       "4. 3\n",
       "5. 4\n",
       "6. 5\n",
       "7. 6\n",
       "8. 7\n",
       "9. 8\n",
       "10. 9\n",
       "\n",
       "\n"
      ],
      "text/plain": [
       " [1] 0 1 2 3 4 5 6 7 8 9"
      ]
     },
     "metadata": {},
     "output_type": "display_data"
    }
   ],
   "source": [
    "1:10-1"
   ]
  },
  {
   "cell_type": "code",
   "execution_count": 130,
   "id": "c96eb4d5-dd9c-4d07-8032-203f60eb165f",
   "metadata": {},
   "outputs": [
    {
     "data": {
      "text/html": [
       "<style>\n",
       ".list-inline {list-style: none; margin:0; padding: 0}\n",
       ".list-inline>li {display: inline-block}\n",
       ".list-inline>li:not(:last-child)::after {content: \"\\00b7\"; padding: 0 .5ex}\n",
       "</style>\n",
       "<ol class=list-inline><li>1</li><li>2</li><li>3</li><li>4</li><li>5</li><li>6</li><li>7</li><li>8</li><li>9</li></ol>\n"
      ],
      "text/latex": [
       "\\begin{enumerate*}\n",
       "\\item 1\n",
       "\\item 2\n",
       "\\item 3\n",
       "\\item 4\n",
       "\\item 5\n",
       "\\item 6\n",
       "\\item 7\n",
       "\\item 8\n",
       "\\item 9\n",
       "\\end{enumerate*}\n"
      ],
      "text/markdown": [
       "1. 1\n",
       "2. 2\n",
       "3. 3\n",
       "4. 4\n",
       "5. 5\n",
       "6. 6\n",
       "7. 7\n",
       "8. 8\n",
       "9. 9\n",
       "\n",
       "\n"
      ],
      "text/plain": [
       "[1] 1 2 3 4 5 6 7 8 9"
      ]
     },
     "metadata": {},
     "output_type": "display_data"
    }
   ],
   "source": [
    "1:(10-1)"
   ]
  },
  {
   "cell_type": "code",
   "execution_count": 131,
   "id": "d731592e-6282-4b41-9c5c-87d0c4ecfc0a",
   "metadata": {},
   "outputs": [
    {
     "data": {
      "text/html": [
       "<style>\n",
       ".list-inline {list-style: none; margin:0; padding: 0}\n",
       ".list-inline>li {display: inline-block}\n",
       ".list-inline>li:not(:last-child)::after {content: \"\\00b7\"; padding: 0 .5ex}\n",
       "</style>\n",
       "<ol class=list-inline><li>1</li><li>1.5</li><li>2</li><li>2.5</li><li>3</li><li>3.5</li><li>4</li><li>4.5</li><li>5</li></ol>\n"
      ],
      "text/latex": [
       "\\begin{enumerate*}\n",
       "\\item 1\n",
       "\\item 1.5\n",
       "\\item 2\n",
       "\\item 2.5\n",
       "\\item 3\n",
       "\\item 3.5\n",
       "\\item 4\n",
       "\\item 4.5\n",
       "\\item 5\n",
       "\\end{enumerate*}\n"
      ],
      "text/markdown": [
       "1. 1\n",
       "2. 1.5\n",
       "3. 2\n",
       "4. 2.5\n",
       "5. 3\n",
       "6. 3.5\n",
       "7. 4\n",
       "8. 4.5\n",
       "9. 5\n",
       "\n",
       "\n"
      ],
      "text/plain": [
       "[1] 1.0 1.5 2.0 2.5 3.0 3.5 4.0 4.5 5.0"
      ]
     },
     "metadata": {},
     "output_type": "display_data"
    }
   ],
   "source": [
    "z = seq(1, 5, by=0.5)\n",
    "z"
   ]
  },
  {
   "cell_type": "code",
   "execution_count": 132,
   "id": "41ad4036-5b6d-479a-939a-8b2c09bd4d05",
   "metadata": {},
   "outputs": [
    {
     "data": {
      "text/html": [
       "<style>\n",
       ".list-inline {list-style: none; margin:0; padding: 0}\n",
       ".list-inline>li {display: inline-block}\n",
       ".list-inline>li:not(:last-child)::after {content: \"\\00b7\"; padding: 0 .5ex}\n",
       "</style>\n",
       "<ol class=list-inline><li>1</li><li>1.9</li><li>2.8</li><li>3.7</li><li>4.6</li><li>5.5</li><li>6.4</li><li>7.3</li><li>8.2</li><li>9.1</li><li>10</li></ol>\n"
      ],
      "text/latex": [
       "\\begin{enumerate*}\n",
       "\\item 1\n",
       "\\item 1.9\n",
       "\\item 2.8\n",
       "\\item 3.7\n",
       "\\item 4.6\n",
       "\\item 5.5\n",
       "\\item 6.4\n",
       "\\item 7.3\n",
       "\\item 8.2\n",
       "\\item 9.1\n",
       "\\item 10\n",
       "\\end{enumerate*}\n"
      ],
      "text/markdown": [
       "1. 1\n",
       "2. 1.9\n",
       "3. 2.8\n",
       "4. 3.7\n",
       "5. 4.6\n",
       "6. 5.5\n",
       "7. 6.4\n",
       "8. 7.3\n",
       "9. 8.2\n",
       "10. 9.1\n",
       "11. 10\n",
       "\n",
       "\n"
      ],
      "text/plain": [
       " [1]  1.0  1.9  2.8  3.7  4.6  5.5  6.4  7.3  8.2  9.1 10.0"
      ]
     },
     "metadata": {},
     "output_type": "display_data"
    }
   ],
   "source": [
    "z = seq(1, 10, length=11)\n",
    "z"
   ]
  },
  {
   "cell_type": "code",
   "execution_count": 135,
   "id": "09a0be6f-c73e-4e53-a141-3959cba0bd6d",
   "metadata": {},
   "outputs": [
    {
     "data": {
      "text/html": [
       "<style>\n",
       ".list-inline {list-style: none; margin:0; padding: 0}\n",
       ".list-inline>li {display: inline-block}\n",
       ".list-inline>li:not(:last-child)::after {content: \"\\00b7\"; padding: 0 .5ex}\n",
       "</style>\n",
       "<ol class=list-inline><li>2</li><li>3</li><li>4</li><li>5</li><li>2</li><li>3</li><li>4</li><li>5</li></ol>\n"
      ],
      "text/latex": [
       "\\begin{enumerate*}\n",
       "\\item 2\n",
       "\\item 3\n",
       "\\item 4\n",
       "\\item 5\n",
       "\\item 2\n",
       "\\item 3\n",
       "\\item 4\n",
       "\\item 5\n",
       "\\end{enumerate*}\n"
      ],
      "text/markdown": [
       "1. 2\n",
       "2. 3\n",
       "3. 4\n",
       "4. 5\n",
       "5. 2\n",
       "6. 3\n",
       "7. 4\n",
       "8. 5\n",
       "\n",
       "\n"
      ],
      "text/plain": [
       "[1] 2 3 4 5 2 3 4 5"
      ]
     },
     "metadata": {},
     "output_type": "display_data"
    }
   ],
   "source": [
    "z = rep(2:5, 2)\n",
    "z"
   ]
  },
  {
   "cell_type": "code",
   "execution_count": 136,
   "id": "8c1768c6-90d2-470c-b487-1d94636a4316",
   "metadata": {},
   "outputs": [
    {
     "data": {
      "text/html": [
       "<style>\n",
       ".list-inline {list-style: none; margin:0; padding: 0}\n",
       ".list-inline>li {display: inline-block}\n",
       ".list-inline>li:not(:last-child)::after {content: \"\\00b7\"; padding: 0 .5ex}\n",
       "</style>\n",
       "<ol class=list-inline><li>2</li><li>2</li><li>2</li><li>2</li></ol>\n"
      ],
      "text/latex": [
       "\\begin{enumerate*}\n",
       "\\item 2\n",
       "\\item 2\n",
       "\\item 2\n",
       "\\item 2\n",
       "\\end{enumerate*}\n"
      ],
      "text/markdown": [
       "1. 2\n",
       "2. 2\n",
       "3. 2\n",
       "4. 2\n",
       "\n",
       "\n"
      ],
      "text/plain": [
       "[1] 2 2 2 2"
      ]
     },
     "metadata": {},
     "output_type": "display_data"
    }
   ],
   "source": [
    "rep(2,4)"
   ]
  },
  {
   "cell_type": "code",
   "execution_count": 138,
   "id": "4ee90a9c-5897-4ac4-aea1-3b370d3063c6",
   "metadata": {},
   "outputs": [
    {
     "ename": "ERROR",
     "evalue": "Error in rep(2:5, rep(2, 2)): invalid 'times' argument\n",
     "output_type": "error",
     "traceback": [
      "Error in rep(2:5, rep(2, 2)): invalid 'times' argument\nTraceback:\n"
     ]
    }
   ],
   "source": [
    "z = rep(2:5, rep(2,2))"
   ]
  },
  {
   "cell_type": "code",
   "execution_count": 140,
   "id": "a387add2-cde5-499c-97b6-ccaa8328fb29",
   "metadata": {},
   "outputs": [
    {
     "data": {
      "text/html": [
       "<style>\n",
       ".list-inline {list-style: none; margin:0; padding: 0}\n",
       ".list-inline>li {display: inline-block}\n",
       ".list-inline>li:not(:last-child)::after {content: \"\\00b7\"; padding: 0 .5ex}\n",
       "</style>\n",
       "<ol class=list-inline><li>2</li><li>2</li><li>3</li><li>3</li><li>4</li><li>4</li><li>5</li><li>5</li></ol>\n"
      ],
      "text/latex": [
       "\\begin{enumerate*}\n",
       "\\item 2\n",
       "\\item 2\n",
       "\\item 3\n",
       "\\item 3\n",
       "\\item 4\n",
       "\\item 4\n",
       "\\item 5\n",
       "\\item 5\n",
       "\\end{enumerate*}\n"
      ],
      "text/markdown": [
       "1. 2\n",
       "2. 2\n",
       "3. 3\n",
       "4. 3\n",
       "5. 4\n",
       "6. 4\n",
       "7. 5\n",
       "8. 5\n",
       "\n",
       "\n"
      ],
      "text/plain": [
       "[1] 2 2 3 3 4 4 5 5"
      ]
     },
     "metadata": {},
     "output_type": "display_data"
    }
   ],
   "source": [
    "z = rep(2:5, rep(2,4))\n",
    "z"
   ]
  },
  {
   "cell_type": "code",
   "execution_count": 141,
   "id": "5aafd5cf-5482-40de-a80c-91b96c88ac61",
   "metadata": {},
   "outputs": [
    {
     "data": {
      "text/html": [
       "<style>\n",
       ".list-inline {list-style: none; margin:0; padding: 0}\n",
       ".list-inline>li {display: inline-block}\n",
       ".list-inline>li:not(:last-child)::after {content: \"\\00b7\"; padding: 0 .5ex}\n",
       "</style>\n",
       "<ol class=list-inline><li>2</li><li>4</li></ol>\n"
      ],
      "text/latex": [
       "\\begin{enumerate*}\n",
       "\\item 2\n",
       "\\item 4\n",
       "\\end{enumerate*}\n"
      ],
      "text/markdown": [
       "1. 2\n",
       "2. 4\n",
       "\n",
       "\n"
      ],
      "text/plain": [
       "[1] 2 4"
      ]
     },
     "metadata": {},
     "output_type": "display_data"
    }
   ],
   "source": [
    "c(2,4)"
   ]
  },
  {
   "cell_type": "code",
   "execution_count": 143,
   "id": "73fa1231-f087-4c26-9920-e1b013c4bd29",
   "metadata": {},
   "outputs": [
    {
     "data": {
      "text/html": [
       "<style>\n",
       ".list-inline {list-style: none; margin:0; padding: 0}\n",
       ".list-inline>li {display: inline-block}\n",
       ".list-inline>li:not(:last-child)::after {content: \"\\00b7\"; padding: 0 .5ex}\n",
       "</style>\n",
       "<ol class=list-inline><li>3</li><li>3</li><li>5</li><li>5</li><li>5</li><li>5</li></ol>\n"
      ],
      "text/latex": [
       "\\begin{enumerate*}\n",
       "\\item 3\n",
       "\\item 3\n",
       "\\item 5\n",
       "\\item 5\n",
       "\\item 5\n",
       "\\item 5\n",
       "\\end{enumerate*}\n"
      ],
      "text/markdown": [
       "1. 3\n",
       "2. 3\n",
       "3. 5\n",
       "4. 5\n",
       "5. 5\n",
       "6. 5\n",
       "\n",
       "\n"
      ],
      "text/plain": [
       "[1] 3 3 5 5 5 5"
      ]
     },
     "metadata": {},
     "output_type": "display_data"
    }
   ],
   "source": [
    "z = rep(c(3,5), c(2,4))\n",
    "z"
   ]
  },
  {
   "cell_type": "code",
   "execution_count": 144,
   "id": "e420e961-27ad-4982-ba70-42ebb9cd7fb8",
   "metadata": {},
   "outputs": [],
   "source": [
    "# z = scan()"
   ]
  },
  {
   "cell_type": "code",
   "execution_count": 145,
   "id": "45eaef5d-19b0-4116-a972-472f86337b61",
   "metadata": {},
   "outputs": [
    {
     "data": {
      "text/html": [
       "<style>\n",
       ".list-inline {list-style: none; margin:0; padding: 0}\n",
       ".list-inline>li {display: inline-block}\n",
       ".list-inline>li:not(:last-child)::after {content: \"\\00b7\"; padding: 0 .5ex}\n",
       "</style>\n",
       "<ol class=list-inline><li>1</li><li>2</li><li>3</li><li>1</li><li>2</li><li>3</li><li>4</li><li>1</li><li>2</li><li>3</li><li>4</li><li>5</li></ol>\n"
      ],
      "text/latex": [
       "\\begin{enumerate*}\n",
       "\\item 1\n",
       "\\item 2\n",
       "\\item 3\n",
       "\\item 1\n",
       "\\item 2\n",
       "\\item 3\n",
       "\\item 4\n",
       "\\item 1\n",
       "\\item 2\n",
       "\\item 3\n",
       "\\item 4\n",
       "\\item 5\n",
       "\\end{enumerate*}\n"
      ],
      "text/markdown": [
       "1. 1\n",
       "2. 2\n",
       "3. 3\n",
       "4. 1\n",
       "5. 2\n",
       "6. 3\n",
       "7. 4\n",
       "8. 1\n",
       "9. 2\n",
       "10. 3\n",
       "11. 4\n",
       "12. 5\n",
       "\n",
       "\n"
      ],
      "text/plain": [
       " [1] 1 2 3 1 2 3 4 1 2 3 4 5"
      ]
     },
     "metadata": {},
     "output_type": "display_data"
    }
   ],
   "source": [
    "z = sequence(3:5)\n",
    "z"
   ]
  },
  {
   "cell_type": "code",
   "execution_count": 146,
   "id": "7be44eae-25b0-4022-800d-1b2968e2b20e",
   "metadata": {},
   "outputs": [],
   "source": [
    "z = sequence(c(10, 5)) # 等价 c(seq(1,10), seq(1,5))"
   ]
  },
  {
   "cell_type": "markdown",
   "id": "48e97eb1-1807-477f-9851-445f37e02b82",
   "metadata": {},
   "source": [
    "### 字符向量的建立"
   ]
  },
  {
   "cell_type": "code",
   "execution_count": 149,
   "id": "b115d4ef-6f9e-4423-992e-c9c9d408a8b1",
   "metadata": {},
   "outputs": [
    {
     "data": {
      "text/html": [
       "<style>\n",
       ".list-inline {list-style: none; margin:0; padding: 0}\n",
       ".list-inline>li {display: inline-block}\n",
       ".list-inline>li:not(:last-child)::after {content: \"\\00b7\"; padding: 0 .5ex}\n",
       "</style>\n",
       "<ol class=list-inline><li>'green'</li><li>'blue sky'</li><li>'-99'</li></ol>\n"
      ],
      "text/latex": [
       "\\begin{enumerate*}\n",
       "\\item 'green'\n",
       "\\item 'blue sky'\n",
       "\\item '-99'\n",
       "\\end{enumerate*}\n"
      ],
      "text/markdown": [
       "1. 'green'\n",
       "2. 'blue sky'\n",
       "3. '-99'\n",
       "\n",
       "\n"
      ],
      "text/plain": [
       "[1] \"green\"    \"blue sky\" \"-99\"     "
      ]
     },
     "metadata": {},
     "output_type": "display_data"
    }
   ],
   "source": [
    "z = c(\"green\", \"blue sky\", \"-99\")\n",
    "z"
   ]
  },
  {
   "cell_type": "code",
   "execution_count": 151,
   "id": "10eaf263-0b39-4b93-849b-663fc781e37e",
   "metadata": {},
   "outputs": [
    {
     "data": {
      "text/html": [
       "<style>\n",
       ".list-inline {list-style: none; margin:0; padding: 0}\n",
       ".list-inline>li {display: inline-block}\n",
       ".list-inline>li:not(:last-child)::after {content: \"\\00b7\"; padding: 0 .5ex}\n",
       "</style>\n",
       "<ol class=list-inline><li>'X\\n1'</li><li>'Y\\n2'</li><li>'X\\n3'</li><li>'Y\\n4'</li><li>'X\\n5'</li><li>'Y\\n6'</li><li>'X\\n7'</li><li>'Y\\n8'</li><li>'X\\n9'</li><li>'Y\\n10'</li></ol>\n"
      ],
      "text/latex": [
       "\\begin{enumerate*}\n",
       "\\item 'X\\textbackslash{}n1'\n",
       "\\item 'Y\\textbackslash{}n2'\n",
       "\\item 'X\\textbackslash{}n3'\n",
       "\\item 'Y\\textbackslash{}n4'\n",
       "\\item 'X\\textbackslash{}n5'\n",
       "\\item 'Y\\textbackslash{}n6'\n",
       "\\item 'X\\textbackslash{}n7'\n",
       "\\item 'Y\\textbackslash{}n8'\n",
       "\\item 'X\\textbackslash{}n9'\n",
       "\\item 'Y\\textbackslash{}n10'\n",
       "\\end{enumerate*}\n"
      ],
      "text/markdown": [
       "1. 'X\\n1'\n",
       "2. 'Y\\n2'\n",
       "3. 'X\\n3'\n",
       "4. 'Y\\n4'\n",
       "5. 'X\\n5'\n",
       "6. 'Y\\n6'\n",
       "7. 'X\\n7'\n",
       "8. 'Y\\n8'\n",
       "9. 'X\\n9'\n",
       "10. 'Y\\n10'\n",
       "\n",
       "\n"
      ],
      "text/plain": [
       " [1] \"X\\n1\"  \"Y\\n2\"  \"X\\n3\"  \"Y\\n4\"  \"X\\n5\"  \"Y\\n6\"  \"X\\n7\"  \"Y\\n8\"  \"X\\n9\" \n",
       "[10] \"Y\\n10\""
      ]
     },
     "metadata": {},
     "output_type": "display_data"
    }
   ],
   "source": [
    "labs = paste(c(\"X\", \"Y\"), 1:10, sep=\"\\n\")\n",
    "labs"
   ]
  },
  {
   "cell_type": "markdown",
   "id": "cc12dd8b-4dd8-4ae5-831d-0315cd0b4653",
   "metadata": {},
   "source": [
    "逻辑向量的建立"
   ]
  },
  {
   "cell_type": "code",
   "execution_count": 153,
   "id": "567e4fff-7f8d-4cf1-b9cc-1c6cc20f8a79",
   "metadata": {},
   "outputs": [
    {
     "data": {
      "text/html": [
       "<style>\n",
       ".list-inline {list-style: none; margin:0; padding: 0}\n",
       ".list-inline>li {display: inline-block}\n",
       ".list-inline>li:not(:last-child)::after {content: \"\\00b7\"; padding: 0 .5ex}\n",
       "</style>\n",
       "<ol class=list-inline><li>FALSE</li><li>FALSE</li><li>FALSE</li><li>FALSE</li><li>TRUE</li></ol>\n"
      ],
      "text/latex": [
       "\\begin{enumerate*}\n",
       "\\item FALSE\n",
       "\\item FALSE\n",
       "\\item FALSE\n",
       "\\item FALSE\n",
       "\\item TRUE\n",
       "\\end{enumerate*}\n"
      ],
      "text/markdown": [
       "1. FALSE\n",
       "2. FALSE\n",
       "3. FALSE\n",
       "4. FALSE\n",
       "5. TRUE\n",
       "\n",
       "\n"
      ],
      "text/plain": [
       "[1] FALSE FALSE FALSE FALSE  TRUE"
      ]
     },
     "metadata": {},
     "output_type": "display_data"
    }
   ],
   "source": [
    "x = c(10.4, 5.6, 3.1, 6.4, 21.7)\n",
    "temp = x > 13\n",
    "temp"
   ]
  },
  {
   "cell_type": "code",
   "execution_count": 154,
   "id": "6e3cd4ea-9283-4399-ab8e-09f0893705b5",
   "metadata": {},
   "outputs": [
    {
     "data": {
      "text/html": [
       "TRUE"
      ],
      "text/latex": [
       "TRUE"
      ],
      "text/markdown": [
       "TRUE"
      ],
      "text/plain": [
       "[1] TRUE"
      ]
     },
     "metadata": {},
     "output_type": "display_data"
    }
   ],
   "source": [
    "7 != 6"
   ]
  },
  {
   "cell_type": "code",
   "execution_count": 155,
   "id": "1f5aa44b-3f47-4b9e-8040-5eef39c524d6",
   "metadata": {},
   "outputs": [
    {
     "data": {
      "text/html": [
       "TRUE"
      ],
      "text/latex": [
       "TRUE"
      ],
      "text/markdown": [
       "TRUE"
      ],
      "text/plain": [
       "[1] TRUE"
      ]
     },
     "metadata": {},
     "output_type": "display_data"
    }
   ],
   "source": [
    "!(7==6)==1 # TRUE常被看作与1等效"
   ]
  },
  {
   "cell_type": "code",
   "execution_count": 156,
   "id": "143b29b8-8e22-44f6-81c0-87630b4995fb",
   "metadata": {},
   "outputs": [
    {
     "data": {
      "text/html": [
       "TRUE"
      ],
      "text/latex": [
       "TRUE"
      ],
      "text/markdown": [
       "TRUE"
      ],
      "text/plain": [
       "[1] TRUE"
      ]
     },
     "metadata": {},
     "output_type": "display_data"
    }
   ],
   "source": [
    "(7==9)|(7>0)"
   ]
  },
  {
   "cell_type": "code",
   "execution_count": 157,
   "id": "73eafacd-4f98-4d3f-b1d4-51c1dae50821",
   "metadata": {},
   "outputs": [
    {
     "data": {
      "text/html": [
       "FALSE"
      ],
      "text/latex": [
       "FALSE"
      ],
      "text/markdown": [
       "FALSE"
      ],
      "text/plain": [
       "[1] FALSE"
      ]
     },
     "metadata": {},
     "output_type": "display_data"
    }
   ],
   "source": [
    "(7==9)&(7>0)"
   ]
  },
  {
   "cell_type": "markdown",
   "id": "170ddb31-1be2-4117-bc9e-be4e993a02a8",
   "metadata": {},
   "source": [
    "### 因子向量建立\n",
    "\n",
    "因子向量的建立\n",
    "\n",
    "一个因子不仅包括分类变量本身，还包括变量不同的可能水平(即使在数据中不出现)。\n",
    "\n",
    "factor(x, levels = sort(unique(x)), na.last = TRUE),\n",
    "    labels = levels, exclude = NA, ordered = is.ordered(x))\n",
    "\n",
    "levels用来指定因子的水平，labels用来指定水平的名字；exclude表示从向量x中剔除的水平值；ordered是一个逻辑选项，用来指定因子的水平是否有次序。\n"
   ]
  },
  {
   "cell_type": "code",
   "execution_count": 158,
   "id": "25a07864-e6f6-4012-8555-21a6cad99809",
   "metadata": {},
   "outputs": [
    {
     "data": {
      "text/html": [
       "<style>\n",
       ".list-inline {list-style: none; margin:0; padding: 0}\n",
       ".list-inline>li {display: inline-block}\n",
       ".list-inline>li:not(:last-child)::after {content: \"\\00b7\"; padding: 0 .5ex}\n",
       "</style>\n",
       "<ol class=list-inline><li>green</li><li>blue</li><li>green</li><li>yellow</li></ol>\n",
       "\n",
       "<details>\n",
       "\t<summary style=display:list-item;cursor:pointer>\n",
       "\t\t<strong>Levels</strong>:\n",
       "\t</summary>\n",
       "\t<style>\n",
       "\t.list-inline {list-style: none; margin:0; padding: 0}\n",
       "\t.list-inline>li {display: inline-block}\n",
       "\t.list-inline>li:not(:last-child)::after {content: \"\\00b7\"; padding: 0 .5ex}\n",
       "\t</style>\n",
       "\t<ol class=list-inline><li>'blue'</li><li>'green'</li><li>'yellow'</li></ol>\n",
       "</details>"
      ],
      "text/latex": [
       "\\begin{enumerate*}\n",
       "\\item green\n",
       "\\item blue\n",
       "\\item green\n",
       "\\item yellow\n",
       "\\end{enumerate*}\n",
       "\n",
       "\\emph{Levels}: \\begin{enumerate*}\n",
       "\\item 'blue'\n",
       "\\item 'green'\n",
       "\\item 'yellow'\n",
       "\\end{enumerate*}\n"
      ],
      "text/markdown": [
       "1. green\n",
       "2. blue\n",
       "3. green\n",
       "4. yellow\n",
       "\n",
       "\n",
       "\n",
       "**Levels**: 1. 'blue'\n",
       "2. 'green'\n",
       "3. 'yellow'\n",
       "\n",
       "\n"
      ],
      "text/plain": [
       "[1] green  blue   green  yellow\n",
       "Levels: blue green yellow"
      ]
     },
     "metadata": {},
     "output_type": "display_data"
    }
   ],
   "source": [
    "# 将字符型向量转换为因子\n",
    "a = c(\"green\", \"blue\", \"green\", \"yellow\")\n",
    "a = factor(a)\n",
    "a"
   ]
  },
  {
   "cell_type": "code",
   "execution_count": 159,
   "id": "e3173194-af36-40ab-a3e5-83c637eb00fe",
   "metadata": {},
   "outputs": [
    {
     "name": "stdout",
     "output_type": "stream",
     "text": [
      " Factor w/ 3 levels \"blue\",\"green\",..: 2 1 2 3\n"
     ]
    }
   ],
   "source": [
    "str(a) # 本来在R或Rstudio可以直接看到a输出结果的因子表示，\n",
    "# 但jupyter notebook不支持显示，所以我用str()函数将其显示出来，这样便于大家理解"
   ]
  },
  {
   "cell_type": "code",
   "execution_count": 160,
   "id": "9e20941f-d38f-48a9-a3c8-4fd1ad20c9a1",
   "metadata": {},
   "outputs": [
    {
     "data": {
      "text/html": [
       "<style>\n",
       ".list-inline {list-style: none; margin:0; padding: 0}\n",
       ".list-inline>li {display: inline-block}\n",
       ".list-inline>li:not(:last-child)::after {content: \"\\00b7\"; padding: 0 .5ex}\n",
       "</style>\n",
       "<ol class=list-inline><li>1</li><li>2</li><li>3</li><li>1</li></ol>\n",
       "\n",
       "<details>\n",
       "\t<summary style=display:list-item;cursor:pointer>\n",
       "\t\t<strong>Levels</strong>:\n",
       "\t</summary>\n",
       "\t<style>\n",
       "\t.list-inline {list-style: none; margin:0; padding: 0}\n",
       "\t.list-inline>li {display: inline-block}\n",
       "\t.list-inline>li:not(:last-child)::after {content: \"\\00b7\"; padding: 0 .5ex}\n",
       "\t</style>\n",
       "\t<ol class=list-inline><li>'1'</li><li>'2'</li><li>'3'</li></ol>\n",
       "</details>"
      ],
      "text/latex": [
       "\\begin{enumerate*}\n",
       "\\item 1\n",
       "\\item 2\n",
       "\\item 3\n",
       "\\item 1\n",
       "\\end{enumerate*}\n",
       "\n",
       "\\emph{Levels}: \\begin{enumerate*}\n",
       "\\item '1'\n",
       "\\item '2'\n",
       "\\item '3'\n",
       "\\end{enumerate*}\n"
      ],
      "text/markdown": [
       "1. 1\n",
       "2. 2\n",
       "3. 3\n",
       "4. 1\n",
       "\n",
       "\n",
       "\n",
       "**Levels**: 1. '1'\n",
       "2. '2'\n",
       "3. '3'\n",
       "\n",
       "\n"
      ],
      "text/plain": [
       "[1] 1 2 3 1\n",
       "Levels: 1 2 3"
      ]
     },
     "metadata": {},
     "output_type": "display_data"
    }
   ],
   "source": [
    "# 将数值型向量转换为因子\n",
    "b = c(1, 2, 3, 1)\n",
    "b = factor(b)\n",
    "b"
   ]
  },
  {
   "cell_type": "code",
   "execution_count": 164,
   "id": "016afc2d-3733-45b5-9c06-db68f3c94048",
   "metadata": {},
   "outputs": [
    {
     "data": {
      "text/html": [
       "<style>\n",
       ".list-inline {list-style: none; margin:0; padding: 0}\n",
       ".list-inline>li {display: inline-block}\n",
       ".list-inline>li:not(:last-child)::after {content: \"\\00b7\"; padding: 0 .5ex}\n",
       "</style>\n",
       "<ol class=list-inline><li>2</li><li>1</li><li>2</li><li>3</li></ol>\n",
       "\n",
       "<details>\n",
       "\t<summary style=display:list-item;cursor:pointer>\n",
       "\t\t<strong>Levels</strong>:\n",
       "\t</summary>\n",
       "\t<style>\n",
       "\t.list-inline {list-style: none; margin:0; padding: 0}\n",
       "\t.list-inline>li {display: inline-block}\n",
       "\t.list-inline>li:not(:last-child)::after {content: \"\\00b7\"; padding: 0 .5ex}\n",
       "\t</style>\n",
       "\t<ol class=list-inline><li>'1'</li><li>'2'</li><li>'3'</li><li>'4'</li></ol>\n",
       "</details>"
      ],
      "text/latex": [
       "\\begin{enumerate*}\n",
       "\\item 2\n",
       "\\item 1\n",
       "\\item 2\n",
       "\\item 3\n",
       "\\end{enumerate*}\n",
       "\n",
       "\\emph{Levels}: \\begin{enumerate*}\n",
       "\\item '1'\n",
       "\\item '2'\n",
       "\\item '3'\n",
       "\\item '4'\n",
       "\\end{enumerate*}\n"
      ],
      "text/markdown": [
       "1. 2\n",
       "2. 1\n",
       "3. 2\n",
       "4. 3\n",
       "\n",
       "\n",
       "\n",
       "**Levels**: 1. '1'\n",
       "2. '2'\n",
       "3. '3'\n",
       "4. '4'\n",
       "\n",
       "\n"
      ],
      "text/plain": [
       "[1] 2 1 2 3\n",
       "Levels: 1 2 3 4"
      ]
     },
     "metadata": {},
     "output_type": "display_data"
    }
   ],
   "source": [
    "# 将字符型因子转换为数值型因子\n",
    "a = c(\"green\", \"blue\", \"green\", \"yellow\")\n",
    "a = factor(a)\n",
    "levels(a) = c(1, 2, 3,4)\n",
    "a"
   ]
  },
  {
   "cell_type": "code",
   "execution_count": 165,
   "id": "447c2d45-0ced-41d3-9e2f-0cde09424fc4",
   "metadata": {},
   "outputs": [
    {
     "data": {
      "text/html": [
       "<style>\n",
       ".list-inline {list-style: none; margin:0; padding: 0}\n",
       ".list-inline>li {display: inline-block}\n",
       ".list-inline>li:not(:last-child)::after {content: \"\\00b7\"; padding: 0 .5ex}\n",
       "</style>\n",
       "<ol class=list-inline><li>1</li><li>2</li><li>3</li></ol>\n",
       "\n",
       "<details>\n",
       "\t<summary style=display:list-item;cursor:pointer>\n",
       "\t\t<strong>Levels</strong>:\n",
       "\t</summary>\n",
       "\t<style>\n",
       "\t.list-inline {list-style: none; margin:0; padding: 0}\n",
       "\t.list-inline>li {display: inline-block}\n",
       "\t.list-inline>li:not(:last-child)::after {content: \"\\00b7\"; padding: 0 .5ex}\n",
       "\t</style>\n",
       "\t<ol class=list-inline><li>'1'</li><li>'2'</li><li>'3'</li></ol>\n",
       "</details>"
      ],
      "text/latex": [
       "\\begin{enumerate*}\n",
       "\\item 1\n",
       "\\item 2\n",
       "\\item 3\n",
       "\\end{enumerate*}\n",
       "\n",
       "\\emph{Levels}: \\begin{enumerate*}\n",
       "\\item '1'\n",
       "\\item '2'\n",
       "\\item '3'\n",
       "\\end{enumerate*}\n"
      ],
      "text/markdown": [
       "1. 1\n",
       "2. 2\n",
       "3. 3\n",
       "\n",
       "\n",
       "\n",
       "**Levels**: 1. '1'\n",
       "2. '2'\n",
       "3. '3'\n",
       "\n",
       "\n"
      ],
      "text/plain": [
       "[1] 1 2 3\n",
       "Levels: 1 2 3"
      ]
     },
     "metadata": {},
     "output_type": "display_data"
    },
    {
     "name": "stdout",
     "output_type": "stream",
     "text": [
      " Factor w/ 3 levels \"1\",\"2\",\"3\": 1 2 3\n"
     ]
    }
   ],
   "source": [
    "ff = factor(c(\"A\", \"B\", \"C\"), labels = c(1, 2, 3))\n",
    "ff\n",
    "str(ff)"
   ]
  },
  {
   "cell_type": "code",
   "execution_count": 166,
   "id": "1584d094-c043-4875-8796-6d226f8f88cf",
   "metadata": {},
   "outputs": [
    {
     "data": {
      "text/html": [
       "<style>\n",
       ".list-inline {list-style: none; margin:0; padding: 0}\n",
       ".list-inline>li {display: inline-block}\n",
       ".list-inline>li:not(:last-child)::after {content: \"\\00b7\"; padding: 0 .5ex}\n",
       "</style>\n",
       "<ol class=list-inline><li>low</li><li>middle</li><li>high</li><li>low</li></ol>\n",
       "\n",
       "<details>\n",
       "\t<summary style=display:list-item;cursor:pointer>\n",
       "\t\t<strong>Levels</strong>:\n",
       "\t</summary>\n",
       "\t<style>\n",
       "\t.list-inline {list-style: none; margin:0; padding: 0}\n",
       "\t.list-inline>li {display: inline-block}\n",
       "\t.list-inline>li:not(:last-child)::after {content: \"\\00b7\"; padding: 0 .5ex}\n",
       "\t</style>\n",
       "\t<ol class=list-inline><li>'low'</li><li>'middle'</li><li>'high'</li></ol>\n",
       "</details>"
      ],
      "text/latex": [
       "\\begin{enumerate*}\n",
       "\\item low\n",
       "\\item middle\n",
       "\\item high\n",
       "\\item low\n",
       "\\end{enumerate*}\n",
       "\n",
       "\\emph{Levels}: \\begin{enumerate*}\n",
       "\\item 'low'\n",
       "\\item 'middle'\n",
       "\\item 'high'\n",
       "\\end{enumerate*}\n"
      ],
      "text/markdown": [
       "1. low\n",
       "2. middle\n",
       "3. high\n",
       "4. low\n",
       "\n",
       "\n",
       "\n",
       "**Levels**: 1. 'low'\n",
       "2. 'middle'\n",
       "3. 'high'\n",
       "\n",
       "\n"
      ],
      "text/plain": [
       "[1] low    middle high   low   \n",
       "Levels: low middle high"
      ]
     },
     "metadata": {},
     "output_type": "display_data"
    },
    {
     "name": "stdout",
     "output_type": "stream",
     "text": [
      " Factor w/ 3 levels \"low\",\"middle\",..: 1 2 3 1\n"
     ]
    }
   ],
   "source": [
    "# 将数值型因子转换为字符型因子\n",
    "b = c(1, 2, 3, 1)\n",
    "b = factor(b)\n",
    "levels(b) = c(\"low\", \"middle\", \"high\")\n",
    "b\n",
    "str(b)"
   ]
  },
  {
   "cell_type": "code",
   "execution_count": 167,
   "id": "54a8a959-ca42-4aeb-8bac-4807a068fa56",
   "metadata": {},
   "outputs": [
    {
     "data": {
      "text/html": [
       "<style>\n",
       ".list-inline {list-style: none; margin:0; padding: 0}\n",
       ".list-inline>li {display: inline-block}\n",
       ".list-inline>li:not(:last-child)::after {content: \"\\00b7\"; padding: 0 .5ex}\n",
       "</style>\n",
       "<ol class=list-inline><li>2</li><li>4</li></ol>\n",
       "\n",
       "<details>\n",
       "\t<summary style=display:list-item;cursor:pointer>\n",
       "\t\t<strong>Levels</strong>:\n",
       "\t</summary>\n",
       "\t<style>\n",
       "\t.list-inline {list-style: none; margin:0; padding: 0}\n",
       "\t.list-inline>li {display: inline-block}\n",
       "\t.list-inline>li:not(:last-child)::after {content: \"\\00b7\"; padding: 0 .5ex}\n",
       "\t</style>\n",
       "\t<ol class=list-inline><li>'2'</li><li>'3'</li><li>'4'</li><li>'5'</li></ol>\n",
       "</details>"
      ],
      "text/latex": [
       "\\begin{enumerate*}\n",
       "\\item 2\n",
       "\\item 4\n",
       "\\end{enumerate*}\n",
       "\n",
       "\\emph{Levels}: \\begin{enumerate*}\n",
       "\\item '2'\n",
       "\\item '3'\n",
       "\\item '4'\n",
       "\\item '5'\n",
       "\\end{enumerate*}\n"
      ],
      "text/markdown": [
       "1. 2\n",
       "2. 4\n",
       "\n",
       "\n",
       "\n",
       "**Levels**: 1. '2'\n",
       "2. '3'\n",
       "3. '4'\n",
       "4. '5'\n",
       "\n",
       "\n"
      ],
      "text/plain": [
       "[1] 2 4\n",
       "Levels: 2 3 4 5"
      ]
     },
     "metadata": {},
     "output_type": "display_data"
    },
    {
     "name": "stdout",
     "output_type": "stream",
     "text": [
      " Factor w/ 4 levels \"2\",\"3\",\"4\",\"5\": 1 3\n"
     ]
    },
    {
     "data": {
      "text/html": [
       "<style>\n",
       ".list-inline {list-style: none; margin:0; padding: 0}\n",
       ".list-inline>li {display: inline-block}\n",
       ".list-inline>li:not(:last-child)::after {content: \"\\00b7\"; padding: 0 .5ex}\n",
       "</style>\n",
       "<ol class=list-inline><li>'2'</li><li>'3'</li><li>'4'</li><li>'5'</li></ol>\n"
      ],
      "text/latex": [
       "\\begin{enumerate*}\n",
       "\\item '2'\n",
       "\\item '3'\n",
       "\\item '4'\n",
       "\\item '5'\n",
       "\\end{enumerate*}\n"
      ],
      "text/markdown": [
       "1. '2'\n",
       "2. '3'\n",
       "3. '4'\n",
       "4. '5'\n",
       "\n",
       "\n"
      ],
      "text/plain": [
       "[1] \"2\" \"3\" \"4\" \"5\""
      ]
     },
     "metadata": {},
     "output_type": "display_data"
    }
   ],
   "source": [
    "ff = factor(c(2,4), levels=2:5)\n",
    "ff\n",
    "str(ff)\n",
    "levels(ff)"
   ]
  },
  {
   "cell_type": "code",
   "execution_count": 168,
   "id": "8e78ddc4-426f-4f4e-ba0e-6feb962e683d",
   "metadata": {},
   "outputs": [
    {
     "data": {
      "text/html": [
       "<style>\n",
       ".list-inline {list-style: none; margin:0; padding: 0}\n",
       ".list-inline>li {display: inline-block}\n",
       ".list-inline>li:not(:last-child)::after {content: \"\\00b7\"; padding: 0 .5ex}\n",
       "</style>\n",
       "<ol class=list-inline><li>1</li><li>1</li><li>1</li><li>1</li><li>1</li><li>2</li><li>2</li><li>2</li><li>2</li><li>2</li><li>3</li><li>3</li><li>3</li><li>3</li><li>3</li></ol>\n",
       "\n",
       "<details>\n",
       "\t<summary style=display:list-item;cursor:pointer>\n",
       "\t\t<strong>Levels</strong>:\n",
       "\t</summary>\n",
       "\t<style>\n",
       "\t.list-inline {list-style: none; margin:0; padding: 0}\n",
       "\t.list-inline>li {display: inline-block}\n",
       "\t.list-inline>li:not(:last-child)::after {content: \"\\00b7\"; padding: 0 .5ex}\n",
       "\t</style>\n",
       "\t<ol class=list-inline><li>'1'</li><li>'2'</li><li>'3'</li></ol>\n",
       "</details>"
      ],
      "text/latex": [
       "\\begin{enumerate*}\n",
       "\\item 1\n",
       "\\item 1\n",
       "\\item 1\n",
       "\\item 1\n",
       "\\item 1\n",
       "\\item 2\n",
       "\\item 2\n",
       "\\item 2\n",
       "\\item 2\n",
       "\\item 2\n",
       "\\item 3\n",
       "\\item 3\n",
       "\\item 3\n",
       "\\item 3\n",
       "\\item 3\n",
       "\\end{enumerate*}\n",
       "\n",
       "\\emph{Levels}: \\begin{enumerate*}\n",
       "\\item '1'\n",
       "\\item '2'\n",
       "\\item '3'\n",
       "\\end{enumerate*}\n"
      ],
      "text/markdown": [
       "1. 1\n",
       "2. 1\n",
       "3. 1\n",
       "4. 1\n",
       "5. 1\n",
       "6. 2\n",
       "7. 2\n",
       "8. 2\n",
       "9. 2\n",
       "10. 2\n",
       "11. 3\n",
       "12. 3\n",
       "13. 3\n",
       "14. 3\n",
       "15. 3\n",
       "\n",
       "\n",
       "\n",
       "**Levels**: 1. '1'\n",
       "2. '2'\n",
       "3. '3'\n",
       "\n",
       "\n"
      ],
      "text/plain": [
       " [1] 1 1 1 1 1 2 2 2 2 2 3 3 3 3 3\n",
       "Levels: 1 2 3"
      ]
     },
     "metadata": {},
     "output_type": "display_data"
    },
    {
     "name": "stdout",
     "output_type": "stream",
     "text": [
      " Factor w/ 3 levels \"1\",\"2\",\"3\": 1 1 1 1 1 2 2 2 2 2 ...\n"
     ]
    }
   ],
   "source": [
    "# 函数gl()能产生规则的因子序列，用法为gl(k,n)，\n",
    "# 其中k是水平数，n是每个水平重复次数。\n",
    "# length选项指定产生数据的个数，label指定水平因子的名字\n",
    "gl(3, 5)\n",
    "str(gl(3,5))"
   ]
  },
  {
   "cell_type": "code",
   "execution_count": 169,
   "id": "e1d0792b-f6f7-4c0d-85a2-62e2aa8e3133",
   "metadata": {},
   "outputs": [
    {
     "data": {
      "text/html": [
       "<style>\n",
       ".list-inline {list-style: none; margin:0; padding: 0}\n",
       ".list-inline>li {display: inline-block}\n",
       ".list-inline>li:not(:last-child)::after {content: \"\\00b7\"; padding: 0 .5ex}\n",
       "</style>\n",
       "<ol class=list-inline><li>1</li><li>1</li><li>1</li><li>1</li><li>1</li><li>2</li><li>2</li><li>2</li><li>2</li><li>2</li><li>3</li><li>3</li><li>3</li><li>3</li><li>3</li><li>1</li><li>1</li><li>1</li><li>1</li><li>1</li><li>2</li><li>2</li><li>2</li><li>2</li><li>2</li><li>3</li><li>3</li><li>3</li><li>3</li><li>3</li></ol>\n",
       "\n",
       "<details>\n",
       "\t<summary style=display:list-item;cursor:pointer>\n",
       "\t\t<strong>Levels</strong>:\n",
       "\t</summary>\n",
       "\t<style>\n",
       "\t.list-inline {list-style: none; margin:0; padding: 0}\n",
       "\t.list-inline>li {display: inline-block}\n",
       "\t.list-inline>li:not(:last-child)::after {content: \"\\00b7\"; padding: 0 .5ex}\n",
       "\t</style>\n",
       "\t<ol class=list-inline><li>'1'</li><li>'2'</li><li>'3'</li></ol>\n",
       "</details>"
      ],
      "text/latex": [
       "\\begin{enumerate*}\n",
       "\\item 1\n",
       "\\item 1\n",
       "\\item 1\n",
       "\\item 1\n",
       "\\item 1\n",
       "\\item 2\n",
       "\\item 2\n",
       "\\item 2\n",
       "\\item 2\n",
       "\\item 2\n",
       "\\item 3\n",
       "\\item 3\n",
       "\\item 3\n",
       "\\item 3\n",
       "\\item 3\n",
       "\\item 1\n",
       "\\item 1\n",
       "\\item 1\n",
       "\\item 1\n",
       "\\item 1\n",
       "\\item 2\n",
       "\\item 2\n",
       "\\item 2\n",
       "\\item 2\n",
       "\\item 2\n",
       "\\item 3\n",
       "\\item 3\n",
       "\\item 3\n",
       "\\item 3\n",
       "\\item 3\n",
       "\\end{enumerate*}\n",
       "\n",
       "\\emph{Levels}: \\begin{enumerate*}\n",
       "\\item '1'\n",
       "\\item '2'\n",
       "\\item '3'\n",
       "\\end{enumerate*}\n"
      ],
      "text/markdown": [
       "1. 1\n",
       "2. 1\n",
       "3. 1\n",
       "4. 1\n",
       "5. 1\n",
       "6. 2\n",
       "7. 2\n",
       "8. 2\n",
       "9. 2\n",
       "10. 2\n",
       "11. 3\n",
       "12. 3\n",
       "13. 3\n",
       "14. 3\n",
       "15. 3\n",
       "16. 1\n",
       "17. 1\n",
       "18. 1\n",
       "19. 1\n",
       "20. 1\n",
       "21. 2\n",
       "22. 2\n",
       "23. 2\n",
       "24. 2\n",
       "25. 2\n",
       "26. 3\n",
       "27. 3\n",
       "28. 3\n",
       "29. 3\n",
       "30. 3\n",
       "\n",
       "\n",
       "\n",
       "**Levels**: 1. '1'\n",
       "2. '2'\n",
       "3. '3'\n",
       "\n",
       "\n"
      ],
      "text/plain": [
       " [1] 1 1 1 1 1 2 2 2 2 2 3 3 3 3 3 1 1 1 1 1 2 2 2 2 2 3 3 3 3 3\n",
       "Levels: 1 2 3"
      ]
     },
     "metadata": {},
     "output_type": "display_data"
    }
   ],
   "source": [
    "gl(3, 5, length=30)"
   ]
  },
  {
   "cell_type": "code",
   "execution_count": 170,
   "id": "8b33e4df-1f6b-4ac2-810b-20de21bee8a7",
   "metadata": {},
   "outputs": [
    {
     "data": {
      "text/html": [
       "<style>\n",
       ".list-inline {list-style: none; margin:0; padding: 0}\n",
       ".list-inline>li {display: inline-block}\n",
       ".list-inline>li:not(:last-child)::after {content: \"\\00b7\"; padding: 0 .5ex}\n",
       "</style>\n",
       "<ol class=list-inline><li>Male</li><li>Male</li><li>Male</li><li>Male</li><li>Male</li><li>Male</li><li>Female</li><li>Female</li><li>Female</li><li>Female</li><li>Female</li><li>Female</li></ol>\n",
       "\n",
       "<details>\n",
       "\t<summary style=display:list-item;cursor:pointer>\n",
       "\t\t<strong>Levels</strong>:\n",
       "\t</summary>\n",
       "\t<style>\n",
       "\t.list-inline {list-style: none; margin:0; padding: 0}\n",
       "\t.list-inline>li {display: inline-block}\n",
       "\t.list-inline>li:not(:last-child)::after {content: \"\\00b7\"; padding: 0 .5ex}\n",
       "\t</style>\n",
       "\t<ol class=list-inline><li>'Male'</li><li>'Female'</li></ol>\n",
       "</details>"
      ],
      "text/latex": [
       "\\begin{enumerate*}\n",
       "\\item Male\n",
       "\\item Male\n",
       "\\item Male\n",
       "\\item Male\n",
       "\\item Male\n",
       "\\item Male\n",
       "\\item Female\n",
       "\\item Female\n",
       "\\item Female\n",
       "\\item Female\n",
       "\\item Female\n",
       "\\item Female\n",
       "\\end{enumerate*}\n",
       "\n",
       "\\emph{Levels}: \\begin{enumerate*}\n",
       "\\item 'Male'\n",
       "\\item 'Female'\n",
       "\\end{enumerate*}\n"
      ],
      "text/markdown": [
       "1. Male\n",
       "2. Male\n",
       "3. Male\n",
       "4. Male\n",
       "5. Male\n",
       "6. Male\n",
       "7. Female\n",
       "8. Female\n",
       "9. Female\n",
       "10. Female\n",
       "11. Female\n",
       "12. Female\n",
       "\n",
       "\n",
       "\n",
       "**Levels**: 1. 'Male'\n",
       "2. 'Female'\n",
       "\n",
       "\n"
      ],
      "text/plain": [
       " [1] Male   Male   Male   Male   Male   Male   Female Female Female Female\n",
       "[11] Female Female\n",
       "Levels: Male Female"
      ]
     },
     "metadata": {},
     "output_type": "display_data"
    }
   ],
   "source": [
    "gl(2, 6, label=c(\"Male\", \"Female\"))"
   ]
  },
  {
   "cell_type": "markdown",
   "id": "96db6484-2fb0-4dd7-bb68-54196b71ff3a",
   "metadata": {},
   "source": [
    "## 常用的统计函数"
   ]
  },
  {
   "cell_type": "code",
   "execution_count": 175,
   "id": "0ba28693-2384-4b88-8ffa-00b835912ec4",
   "metadata": {},
   "outputs": [
    {
     "ename": "ERROR",
     "evalue": "Error in parse(text = x, srcfile = src): <text>:1:9: unexpected symbol\n1: 统计函数    作用\n            ^\n",
     "output_type": "error",
     "traceback": [
      "Error in parse(text = x, srcfile = src): <text>:1:9: unexpected symbol\n1: 统计函数    作用\n            ^\nTraceback:\n"
     ]
    }
   ],
   "source": [
    "统计函数 \t作用\n",
    "max(x) \t返回向量x的最大元素\n",
    "min(x) \t返回向量x的最小元素\n",
    "which.max(x) \t返回最大元素的下标\n",
    "which.min(x) \t返回最小元素的下标\n",
    "mean(x) \t返回均值\n",
    "median(x) \t返回中位数\n",
    "mad(x) \t返回中位绝对离差\n",
    "var(x) \t返回样本方差\n",
    "sd(x) \t返回样本标准差\n",
    "range(x) \t返回最小最大值向量\n",
    "IQR(x) \t计算四分位数极差\n",
    "quantile(x) \t计算常用的分位数\n",
    "summary(x) \t计算常用的描述性统计量\n",
    "length(x) \t返回向量长度\n",
    "sum(x) \t返回向量总和\n",
    "prod(x) \t返回向量乘积\n",
    "rev(x) \t去向量x的逆序\n",
    "sort(x) \t将向量升序排序\n",
    "order(x) \t返回x的秩（升序）\n",
    "rank(x) \t返回向量的秩\n",
    "cumsum(x) \t返回向量x累积和\n",
    "cumprod(x) \t返回累积积\n",
    "cummin(x) \t返回和累积最小值\n",
    "cummax(x) \t返回和累积最大值\n",
    "var(x,y) \t计算协方差\n",
    "cov(x,y) \t计算协方差\n",
    "cor(x,y \t计算相关系数\n",
    "outer(x,y) \t计算x与y的外积"
   ]
  },
  {
   "cell_type": "markdown",
   "id": "713f70dd-de97-4387-ab30-e4154376a4ad",
   "metadata": {},
   "source": [
    "### 向量的下标和子集（元素）的提取"
   ]
  },
  {
   "cell_type": "code",
   "execution_count": 177,
   "id": "bb098413-5d97-4f94-94df-1dee6792ef5c",
   "metadata": {},
   "outputs": [
    {
     "data": {
      "text/html": [
       "<style>\n",
       ".list-inline {list-style: none; margin:0; padding: 0}\n",
       ".list-inline>li {display: inline-block}\n",
       ".list-inline>li:not(:last-child)::after {content: \"\\00b7\"; padding: 0 .5ex}\n",
       "</style>\n",
       "<ol class=list-inline><li>1</li><li>2</li><li>3</li><li>4</li><li>5</li><li>6</li><li>7</li><li>8</li><li>9</li><li>10</li><li>11</li><li>12</li><li>13</li><li>14</li><li>15</li><li>16</li><li>17</li><li>18</li><li>19</li><li>20</li></ol>\n"
      ],
      "text/latex": [
       "\\begin{enumerate*}\n",
       "\\item 1\n",
       "\\item 2\n",
       "\\item 3\n",
       "\\item 4\n",
       "\\item 5\n",
       "\\item 6\n",
       "\\item 7\n",
       "\\item 8\n",
       "\\item 9\n",
       "\\item 10\n",
       "\\item 11\n",
       "\\item 12\n",
       "\\item 13\n",
       "\\item 14\n",
       "\\item 15\n",
       "\\item 16\n",
       "\\item 17\n",
       "\\item 18\n",
       "\\item 19\n",
       "\\item 20\n",
       "\\end{enumerate*}\n"
      ],
      "text/markdown": [
       "1. 1\n",
       "2. 2\n",
       "3. 3\n",
       "4. 4\n",
       "5. 5\n",
       "6. 6\n",
       "7. 7\n",
       "8. 8\n",
       "9. 9\n",
       "10. 10\n",
       "11. 11\n",
       "12. 12\n",
       "13. 13\n",
       "14. 14\n",
       "15. 15\n",
       "16. 16\n",
       "17. 17\n",
       "18. 18\n",
       "19. 19\n",
       "20. 20\n",
       "\n",
       "\n"
      ],
      "text/plain": [
       " [1]  1  2  3  4  5  6  7  8  9 10 11 12 13 14 15 16 17 18 19 20"
      ]
     },
     "metadata": {},
     "output_type": "display_data"
    }
   ],
   "source": [
    "# 正整数提取，负整数去除\n",
    "x = 1:20\n",
    "x"
   ]
  },
  {
   "cell_type": "code",
   "execution_count": 179,
   "id": "c7daff47-085a-425d-a4c8-c2d23b398f42",
   "metadata": {},
   "outputs": [
    {
     "data": {
      "text/html": [
       "<style>\n",
       ".list-inline {list-style: none; margin:0; padding: 0}\n",
       ".list-inline>li {display: inline-block}\n",
       ".list-inline>li:not(:last-child)::after {content: \"\\00b7\"; padding: 0 .5ex}\n",
       "</style>\n",
       "<ol class=list-inline><li>1</li><li>2</li><li>3</li><li>4</li><li>5</li><li>6</li><li>7</li><li>8</li><li>9</li><li>10</li></ol>\n"
      ],
      "text/latex": [
       "\\begin{enumerate*}\n",
       "\\item 1\n",
       "\\item 2\n",
       "\\item 3\n",
       "\\item 4\n",
       "\\item 5\n",
       "\\item 6\n",
       "\\item 7\n",
       "\\item 8\n",
       "\\item 9\n",
       "\\item 10\n",
       "\\end{enumerate*}\n"
      ],
      "text/markdown": [
       "1. 1\n",
       "2. 2\n",
       "3. 3\n",
       "4. 4\n",
       "5. 5\n",
       "6. 6\n",
       "7. 7\n",
       "8. 8\n",
       "9. 9\n",
       "10. 10\n",
       "\n",
       "\n"
      ],
      "text/plain": [
       " [1]  1  2  3  4  5  6  7  8  9 10"
      ]
     },
     "metadata": {},
     "output_type": "display_data"
    }
   ],
   "source": [
    "x[1:10]"
   ]
  },
  {
   "cell_type": "code",
   "execution_count": 184,
   "id": "1b1eed86-7cc9-4b35-9d37-9bef3dbfcbf0",
   "metadata": {},
   "outputs": [
    {
     "data": {
      "text/html": [
       "<style>\n",
       ".list-inline {list-style: none; margin:0; padding: 0}\n",
       ".list-inline>li {display: inline-block}\n",
       ".list-inline>li:not(:last-child)::after {content: \"\\00b7\"; padding: 0 .5ex}\n",
       "</style>\n",
       "<ol class=list-inline><li>19</li><li>20</li></ol>\n"
      ],
      "text/latex": [
       "\\begin{enumerate*}\n",
       "\\item 19\n",
       "\\item 20\n",
       "\\end{enumerate*}\n"
      ],
      "text/markdown": [
       "1. 19\n",
       "2. 20\n",
       "\n",
       "\n"
      ],
      "text/plain": [
       "[1] 19 20"
      ]
     },
     "metadata": {},
     "output_type": "display_data"
    }
   ],
   "source": [
    "x[-1:-18]"
   ]
  },
  {
   "cell_type": "code",
   "execution_count": 186,
   "id": "92940919-b2c1-4349-b2d6-342fbb656cf4",
   "metadata": {},
   "outputs": [
    {
     "data": {
      "text/html": [
       "<style>\n",
       ".list-inline {list-style: none; margin:0; padding: 0}\n",
       ".list-inline>li {display: inline-block}\n",
       ".list-inline>li:not(:last-child)::after {content: \"\\00b7\"; padding: 0 .5ex}\n",
       "</style>\n",
       "<ol class=list-inline><li>2</li><li>3</li><li>4</li><li>5</li><li>6</li><li>7</li><li>8</li><li>9</li><li>10</li><li>11</li><li>12</li><li>13</li><li>14</li><li>15</li><li>16</li><li>17</li><li>18</li><li>19</li><li>20</li></ol>\n"
      ],
      "text/latex": [
       "\\begin{enumerate*}\n",
       "\\item 2\n",
       "\\item 3\n",
       "\\item 4\n",
       "\\item 5\n",
       "\\item 6\n",
       "\\item 7\n",
       "\\item 8\n",
       "\\item 9\n",
       "\\item 10\n",
       "\\item 11\n",
       "\\item 12\n",
       "\\item 13\n",
       "\\item 14\n",
       "\\item 15\n",
       "\\item 16\n",
       "\\item 17\n",
       "\\item 18\n",
       "\\item 19\n",
       "\\item 20\n",
       "\\end{enumerate*}\n"
      ],
      "text/markdown": [
       "1. 2\n",
       "2. 3\n",
       "3. 4\n",
       "4. 5\n",
       "5. 6\n",
       "6. 7\n",
       "7. 8\n",
       "8. 9\n",
       "9. 10\n",
       "10. 11\n",
       "11. 12\n",
       "12. 13\n",
       "13. 14\n",
       "14. 15\n",
       "15. 16\n",
       "16. 17\n",
       "17. 18\n",
       "18. 19\n",
       "19. 20\n",
       "\n",
       "\n"
      ],
      "text/plain": [
       " [1]  2  3  4  5  6  7  8  9 10 11 12 13 14 15 16 17 18 19 20"
      ]
     },
     "metadata": {},
     "output_type": "display_data"
    }
   ],
   "source": [
    "x[-1]"
   ]
  },
  {
   "cell_type": "code",
   "execution_count": 189,
   "id": "a5d22be7-782a-4694-9340-1a83b543377d",
   "metadata": {},
   "outputs": [
    {
     "data": {
      "text/html": [
       "<style>\n",
       ".list-inline {list-style: none; margin:0; padding: 0}\n",
       ".list-inline>li {display: inline-block}\n",
       ".list-inline>li:not(:last-child)::after {content: \"\\00b7\"; padding: 0 .5ex}\n",
       "</style>\n",
       "<ol class=list-inline><li>1</li><li>2</li><li>3</li><li>4</li><li>5</li><li>6</li><li>7</li><li>8</li><li>9</li><li>10</li><li>11</li><li>12</li><li>13</li><li>14</li><li>15</li><li>16</li><li>17</li><li>18</li><li>20</li></ol>\n"
      ],
      "text/latex": [
       "\\begin{enumerate*}\n",
       "\\item 1\n",
       "\\item 2\n",
       "\\item 3\n",
       "\\item 4\n",
       "\\item 5\n",
       "\\item 6\n",
       "\\item 7\n",
       "\\item 8\n",
       "\\item 9\n",
       "\\item 10\n",
       "\\item 11\n",
       "\\item 12\n",
       "\\item 13\n",
       "\\item 14\n",
       "\\item 15\n",
       "\\item 16\n",
       "\\item 17\n",
       "\\item 18\n",
       "\\item 20\n",
       "\\end{enumerate*}\n"
      ],
      "text/markdown": [
       "1. 1\n",
       "2. 2\n",
       "3. 3\n",
       "4. 4\n",
       "5. 5\n",
       "6. 6\n",
       "7. 7\n",
       "8. 8\n",
       "9. 9\n",
       "10. 10\n",
       "11. 11\n",
       "12. 12\n",
       "13. 13\n",
       "14. 14\n",
       "15. 15\n",
       "16. 16\n",
       "17. 17\n",
       "18. 18\n",
       "19. 20\n",
       "\n",
       "\n"
      ],
      "text/plain": [
       " [1]  1  2  3  4  5  6  7  8  9 10 11 12 13 14 15 16 17 18 20"
      ]
     },
     "metadata": {},
     "output_type": "display_data"
    }
   ],
   "source": [
    "x[-19] # different from python"
   ]
  },
  {
   "cell_type": "code",
   "execution_count": 192,
   "id": "5b769368-c554-4ba8-af3b-95cbd10801f2",
   "metadata": {},
   "outputs": [],
   "source": [
    "# 带name属性的字符串向量可以通过name提取\n",
    "fruit = 1:5\n",
    "names(fruit) = c(\"orange\", \"banana\", \"apple\", \"peach\", \"maoguo\")"
   ]
  },
  {
   "cell_type": "code",
   "execution_count": 194,
   "id": "11caa834-2938-4982-b294-fcb4587d0f28",
   "metadata": {},
   "outputs": [
    {
     "data": {
      "text/html": [
       "<style>\n",
       ".dl-inline {width: auto; margin:0; padding: 0}\n",
       ".dl-inline>dt, .dl-inline>dd {float: none; width: auto; display: inline-block}\n",
       ".dl-inline>dt::after {content: \":\\0020\"; padding-right: .5ex}\n",
       ".dl-inline>dt:not(:first-of-type) {padding-left: .5ex}\n",
       "</style><dl class=dl-inline><dt>orange</dt><dd>1</dd><dt>banana</dt><dd>2</dd><dt>apple</dt><dd>3</dd><dt>peach</dt><dd>4</dd><dt>maoguo</dt><dd>5</dd></dl>\n"
      ],
      "text/latex": [
       "\\begin{description*}\n",
       "\\item[orange] 1\n",
       "\\item[banana] 2\n",
       "\\item[apple] 3\n",
       "\\item[peach] 4\n",
       "\\item[maoguo] 5\n",
       "\\end{description*}\n"
      ],
      "text/markdown": [
       "orange\n",
       ":   1banana\n",
       ":   2apple\n",
       ":   3peach\n",
       ":   4maoguo\n",
       ":   5\n",
       "\n"
      ],
      "text/plain": [
       "orange banana  apple  peach maoguo \n",
       "     1      2      3      4      5 "
      ]
     },
     "metadata": {},
     "output_type": "display_data"
    }
   ],
   "source": [
    "fruit"
   ]
  },
  {
   "cell_type": "code",
   "execution_count": 195,
   "id": "4f7329d3-9f09-4bfb-8c0b-3bf7da7d05b4",
   "metadata": {},
   "outputs": [
    {
     "data": {
      "text/html": [
       "<style>\n",
       ".dl-inline {width: auto; margin:0; padding: 0}\n",
       ".dl-inline>dt, .dl-inline>dd {float: none; width: auto; display: inline-block}\n",
       ".dl-inline>dt::after {content: \":\\0020\"; padding-right: .5ex}\n",
       ".dl-inline>dt:not(:first-of-type) {padding-left: .5ex}\n",
       "</style><dl class=dl-inline><dt>apple</dt><dd>3</dd><dt>orange</dt><dd>1</dd></dl>\n"
      ],
      "text/latex": [
       "\\begin{description*}\n",
       "\\item[apple] 3\n",
       "\\item[orange] 1\n",
       "\\end{description*}\n"
      ],
      "text/markdown": [
       "apple\n",
       ":   3orange\n",
       ":   1\n",
       "\n"
      ],
      "text/plain": [
       " apple orange \n",
       "     3      1 "
      ]
     },
     "metadata": {},
     "output_type": "display_data"
    }
   ],
   "source": [
    "fruit[c(\"apple\", \"orange\")]"
   ]
  },
  {
   "cell_type": "code",
   "execution_count": 196,
   "id": "33f3980a-f268-4745-8c07-6d333763cf32",
   "metadata": {},
   "outputs": [
    {
     "data": {
      "text/html": [
       "<style>\n",
       ".list-inline {list-style: none; margin:0; padding: 0}\n",
       ".list-inline>li {display: inline-block}\n",
       ".list-inline>li:not(:last-child)::after {content: \"\\00b7\"; padding: 0 .5ex}\n",
       "</style>\n",
       "<ol class=list-inline><li>TRUE</li><li>FALSE</li><li>TRUE</li><li>FALSE</li></ol>\n"
      ],
      "text/latex": [
       "\\begin{enumerate*}\n",
       "\\item TRUE\n",
       "\\item FALSE\n",
       "\\item TRUE\n",
       "\\item FALSE\n",
       "\\end{enumerate*}\n"
      ],
      "text/markdown": [
       "1. TRUE\n",
       "2. FALSE\n",
       "3. TRUE\n",
       "4. FALSE\n",
       "\n",
       "\n"
      ],
      "text/plain": [
       "[1]  TRUE FALSE  TRUE FALSE"
      ]
     },
     "metadata": {},
     "output_type": "display_data"
    }
   ],
   "source": [
    "# 根据逻辑向量提取\n",
    "x = c(47, 7, 64, 9)\n",
    "x > 10"
   ]
  },
  {
   "cell_type": "code",
   "execution_count": 197,
   "id": "e3d0ba06-bb88-4733-a197-b6cd672831c0",
   "metadata": {},
   "outputs": [
    {
     "data": {
      "text/html": [
       "<style>\n",
       ".list-inline {list-style: none; margin:0; padding: 0}\n",
       ".list-inline>li {display: inline-block}\n",
       ".list-inline>li:not(:last-child)::after {content: \"\\00b7\"; padding: 0 .5ex}\n",
       "</style>\n",
       "<ol class=list-inline><li>47</li><li>64</li></ol>\n"
      ],
      "text/latex": [
       "\\begin{enumerate*}\n",
       "\\item 47\n",
       "\\item 64\n",
       "\\end{enumerate*}\n"
      ],
      "text/markdown": [
       "1. 47\n",
       "2. 64\n",
       "\n",
       "\n"
      ],
      "text/plain": [
       "[1] 47 64"
      ]
     },
     "metadata": {},
     "output_type": "display_data"
    }
   ],
   "source": [
    "x[x>10]"
   ]
  },
  {
   "cell_type": "code",
   "execution_count": 198,
   "id": "11995d06-773a-4db9-8b81-a4fe5d93b644",
   "metadata": {},
   "outputs": [
    {
     "data": {
      "text/html": [
       "<style>\n",
       ".list-inline {list-style: none; margin:0; padding: 0}\n",
       ".list-inline>li {display: inline-block}\n",
       ".list-inline>li:not(:last-child)::after {content: \"\\00b7\"; padding: 0 .5ex}\n",
       "</style>\n",
       "<ol class=list-inline><li>7</li><li>9</li></ol>\n"
      ],
      "text/latex": [
       "\\begin{enumerate*}\n",
       "\\item 7\n",
       "\\item 9\n",
       "\\end{enumerate*}\n"
      ],
      "text/markdown": [
       "1. 7\n",
       "2. 9\n",
       "\n",
       "\n"
      ],
      "text/plain": [
       "[1] 7 9"
      ]
     },
     "metadata": {},
     "output_type": "display_data"
    }
   ],
   "source": [
    "x[x<40&x>5]"
   ]
  },
  {
   "cell_type": "markdown",
   "id": "514ae953-f385-44dc-ac33-59b5715c60fa",
   "metadata": {},
   "source": [
    "## 数组与矩阵的建立\n",
    "\n",
    "对于一个向量，其属性由其类型和长度构成；而对于数组和矩阵，除了类型和长度两个属性，还需要维度dim这个属性。\n",
    "数组的建立\n",
    "\n",
    "格式：\n",
    "\n",
    "array(data, dim, dimnames)\n",
    "\n",
    "data为向量，其元素用于构建数组；dim为数组的维数向量（数值型）；dimnames为各维度名称构成的向量，缺省为空"
   ]
  },
  {
   "cell_type": "code",
   "execution_count": 202,
   "id": "6c95d67f-38ee-41c7-9281-ab4f5e5ac457",
   "metadata": {},
   "outputs": [
    {
     "data": {
      "text/html": [
       "<table class=\"dataframe\">\n",
       "<caption>A matrix: 2 × 4 of type int</caption>\n",
       "<tbody>\n",
       "\t<tr><td>1</td><td>3</td><td>5</td><td>7</td></tr>\n",
       "\t<tr><td>2</td><td>4</td><td>6</td><td>8</td></tr>\n",
       "</tbody>\n",
       "</table>\n"
      ],
      "text/latex": [
       "A matrix: 2 × 4 of type int\n",
       "\\begin{tabular}{llll}\n",
       "\t 1 & 3 & 5 & 7\\\\\n",
       "\t 2 & 4 & 6 & 8\\\\\n",
       "\\end{tabular}\n"
      ],
      "text/markdown": [
       "\n",
       "A matrix: 2 × 4 of type int\n",
       "\n",
       "| 1 | 3 | 5 | 7 |\n",
       "| 2 | 4 | 6 | 8 |\n",
       "\n"
      ],
      "text/plain": [
       "     [,1] [,2] [,3] [,4]\n",
       "[1,] 1    3    5    7   \n",
       "[2,] 2    4    6    8   "
      ]
     },
     "metadata": {},
     "output_type": "display_data"
    }
   ],
   "source": [
    "A = array(1:8, dim = c(2, 4)) # 先axis=0进行排序\n",
    "A"
   ]
  },
  {
   "cell_type": "code",
   "execution_count": 203,
   "id": "7a99ef10-1fef-489f-9f4d-c4f6133b7506",
   "metadata": {},
   "outputs": [
    {
     "data": {
      "text/html": [
       "<style>\n",
       ".list-inline {list-style: none; margin:0; padding: 0}\n",
       ".list-inline>li {display: inline-block}\n",
       ".list-inline>li:not(:last-child)::after {content: \"\\00b7\"; padding: 0 .5ex}\n",
       "</style>\n",
       "<ol class=list-inline><li>'c'</li><li>'d'</li></ol>\n"
      ],
      "text/latex": [
       "\\begin{enumerate*}\n",
       "\\item 'c'\n",
       "\\item 'd'\n",
       "\\end{enumerate*}\n"
      ],
      "text/markdown": [
       "1. 'c'\n",
       "2. 'd'\n",
       "\n",
       "\n"
      ],
      "text/plain": [
       "[1] \"c\" \"d\""
      ]
     },
     "metadata": {},
     "output_type": "display_data"
    }
   ],
   "source": [
    "A = array(1:8, dim = c(2, 2, 2))\n",
    "dimnames(A) = list(c(\"a\", \"b\"), c(\"c\", \"d\"), c(\"e\", \"f\"))\n",
    "colnames(A)"
   ]
  },
  {
   "cell_type": "code",
   "execution_count": 205,
   "id": "11da45d3-bd3d-4e1b-b484-becfa34721c1",
   "metadata": {},
   "outputs": [
    {
     "data": {
      "text/html": [
       "<style>\n",
       ".list-inline {list-style: none; margin:0; padding: 0}\n",
       ".list-inline>li {display: inline-block}\n",
       ".list-inline>li:not(:last-child)::after {content: \"\\00b7\"; padding: 0 .5ex}\n",
       "</style>\n",
       "<ol class=list-inline><li>'a'</li><li>'b'</li></ol>\n"
      ],
      "text/latex": [
       "\\begin{enumerate*}\n",
       "\\item 'a'\n",
       "\\item 'b'\n",
       "\\end{enumerate*}\n"
      ],
      "text/markdown": [
       "1. 'a'\n",
       "2. 'b'\n",
       "\n",
       "\n"
      ],
      "text/plain": [
       "[1] \"a\" \"b\""
      ]
     },
     "metadata": {},
     "output_type": "display_data"
    }
   ],
   "source": [
    "rownames(A)"
   ]
  },
  {
   "cell_type": "code",
   "execution_count": 207,
   "id": "365f817c-0e4c-4497-914e-39c653b01b98",
   "metadata": {},
   "outputs": [
    {
     "data": {
      "text/html": [
       "<ol>\n",
       "\t<li><style>\n",
       ".list-inline {list-style: none; margin:0; padding: 0}\n",
       ".list-inline>li {display: inline-block}\n",
       ".list-inline>li:not(:last-child)::after {content: \"\\00b7\"; padding: 0 .5ex}\n",
       "</style>\n",
       "<ol class=list-inline><li>'a'</li><li>'b'</li></ol>\n",
       "</li>\n",
       "\t<li><style>\n",
       ".list-inline {list-style: none; margin:0; padding: 0}\n",
       ".list-inline>li {display: inline-block}\n",
       ".list-inline>li:not(:last-child)::after {content: \"\\00b7\"; padding: 0 .5ex}\n",
       "</style>\n",
       "<ol class=list-inline><li>'c'</li><li>'d'</li></ol>\n",
       "</li>\n",
       "\t<li><style>\n",
       ".list-inline {list-style: none; margin:0; padding: 0}\n",
       ".list-inline>li {display: inline-block}\n",
       ".list-inline>li:not(:last-child)::after {content: \"\\00b7\"; padding: 0 .5ex}\n",
       "</style>\n",
       "<ol class=list-inline><li>'e'</li><li>'f'</li></ol>\n",
       "</li>\n",
       "</ol>\n"
      ],
      "text/latex": [
       "\\begin{enumerate}\n",
       "\\item \\begin{enumerate*}\n",
       "\\item 'a'\n",
       "\\item 'b'\n",
       "\\end{enumerate*}\n",
       "\n",
       "\\item \\begin{enumerate*}\n",
       "\\item 'c'\n",
       "\\item 'd'\n",
       "\\end{enumerate*}\n",
       "\n",
       "\\item \\begin{enumerate*}\n",
       "\\item 'e'\n",
       "\\item 'f'\n",
       "\\end{enumerate*}\n",
       "\n",
       "\\end{enumerate}\n"
      ],
      "text/markdown": [
       "1. 1. 'a'\n",
       "2. 'b'\n",
       "\n",
       "\n",
       "\n",
       "2. 1. 'c'\n",
       "2. 'd'\n",
       "\n",
       "\n",
       "\n",
       "3. 1. 'e'\n",
       "2. 'f'\n",
       "\n",
       "\n",
       "\n",
       "\n",
       "\n"
      ],
      "text/plain": [
       "[[1]]\n",
       "[1] \"a\" \"b\"\n",
       "\n",
       "[[2]]\n",
       "[1] \"c\" \"d\"\n",
       "\n",
       "[[3]]\n",
       "[1] \"e\" \"f\"\n"
      ]
     },
     "metadata": {},
     "output_type": "display_data"
    }
   ],
   "source": [
    "dimnames(A)"
   ]
  },
  {
   "cell_type": "markdown",
   "id": "05ebbec0-d76b-45e9-8b88-915ee422b3ea",
   "metadata": {},
   "source": [
    "### 矩阵的建立\n",
    "矩阵是数组维度为2的特例，可以使用array函数，但常用matrix函数建立"
   ]
  },
  {
   "cell_type": "code",
   "execution_count": 208,
   "id": "c100a9b5-8f7c-44c1-9b75-51a5fa0edacc",
   "metadata": {},
   "outputs": [
    {
     "data": {
      "text/html": [
       "<table class=\"dataframe\">\n",
       "<caption>A matrix: 2 × 2 of type dbl</caption>\n",
       "<tbody>\n",
       "\t<tr><td>1</td><td>1</td></tr>\n",
       "\t<tr><td>1</td><td>1</td></tr>\n",
       "</tbody>\n",
       "</table>\n"
      ],
      "text/latex": [
       "A matrix: 2 × 2 of type dbl\n",
       "\\begin{tabular}{ll}\n",
       "\t 1 & 1\\\\\n",
       "\t 1 & 1\\\\\n",
       "\\end{tabular}\n"
      ],
      "text/markdown": [
       "\n",
       "A matrix: 2 × 2 of type dbl\n",
       "\n",
       "| 1 | 1 |\n",
       "| 1 | 1 |\n",
       "\n"
      ],
      "text/plain": [
       "     [,1] [,2]\n",
       "[1,] 1    1   \n",
       "[2,] 1    1   "
      ]
     },
     "metadata": {},
     "output_type": "display_data"
    }
   ],
   "source": [
    "X = matrix(1, nr=2, nc=2)\n",
    "X"
   ]
  },
  {
   "cell_type": "code",
   "execution_count": 209,
   "id": "821521fe-da0d-41eb-977d-404a344c0765",
   "metadata": {},
   "outputs": [
    {
     "data": {
      "text/html": [
       "<table class=\"dataframe\">\n",
       "<caption>A matrix: 3 × 3 of type dbl</caption>\n",
       "<tbody>\n",
       "\t<tr><td>1</td><td>0</td><td>0</td></tr>\n",
       "\t<tr><td>0</td><td>1</td><td>0</td></tr>\n",
       "\t<tr><td>0</td><td>0</td><td>1</td></tr>\n",
       "</tbody>\n",
       "</table>\n"
      ],
      "text/latex": [
       "A matrix: 3 × 3 of type dbl\n",
       "\\begin{tabular}{lll}\n",
       "\t 1 & 0 & 0\\\\\n",
       "\t 0 & 1 & 0\\\\\n",
       "\t 0 & 0 & 1\\\\\n",
       "\\end{tabular}\n"
      ],
      "text/markdown": [
       "\n",
       "A matrix: 3 × 3 of type dbl\n",
       "\n",
       "| 1 | 0 | 0 |\n",
       "| 0 | 1 | 0 |\n",
       "| 0 | 0 | 1 |\n",
       "\n"
      ],
      "text/plain": [
       "     [,1] [,2] [,3]\n",
       "[1,] 1    0    0   \n",
       "[2,] 0    1    0   \n",
       "[3,] 0    0    1   "
      ]
     },
     "metadata": {},
     "output_type": "display_data"
    }
   ],
   "source": [
    "X = diag(3) # 生成单位阵\n",
    "X"
   ]
  },
  {
   "cell_type": "code",
   "execution_count": 210,
   "id": "007f1ca8-33b3-45c5-af31-07f0087822c2",
   "metadata": {},
   "outputs": [
    {
     "data": {
      "text/html": [
       "<table class=\"dataframe\">\n",
       "<caption>A matrix: 3 × 3 of type dbl</caption>\n",
       "<tbody>\n",
       "\t<tr><td>10</td><td> 0</td><td> 0</td></tr>\n",
       "\t<tr><td> 0</td><td>20</td><td> 0</td></tr>\n",
       "\t<tr><td> 0</td><td> 0</td><td>30</td></tr>\n",
       "</tbody>\n",
       "</table>\n"
      ],
      "text/latex": [
       "A matrix: 3 × 3 of type dbl\n",
       "\\begin{tabular}{lll}\n",
       "\t 10 &  0 &  0\\\\\n",
       "\t  0 & 20 &  0\\\\\n",
       "\t  0 &  0 & 30\\\\\n",
       "\\end{tabular}\n"
      ],
      "text/markdown": [
       "\n",
       "A matrix: 3 × 3 of type dbl\n",
       "\n",
       "| 10 |  0 |  0 |\n",
       "|  0 | 20 |  0 |\n",
       "|  0 |  0 | 30 |\n",
       "\n"
      ],
      "text/plain": [
       "     [,1] [,2] [,3]\n",
       "[1,] 10    0    0  \n",
       "[2,]  0   20    0  \n",
       "[3,]  0    0   30  "
      ]
     },
     "metadata": {},
     "output_type": "display_data"
    }
   ],
   "source": [
    "v = c(10, 20, 30)\n",
    "diag(v)"
   ]
  },
  {
   "cell_type": "code",
   "execution_count": 212,
   "id": "40e20dc1-a8a9-4aaa-b4bd-53c71ce39139",
   "metadata": {},
   "outputs": [
    {
     "data": {
      "text/html": [
       "<table class=\"dataframe\">\n",
       "<caption>A matrix: 3 × 5 of type dbl</caption>\n",
       "<tbody>\n",
       "\t<tr><td>2.5</td><td>0.0</td><td>0.0</td><td>0</td><td>0</td></tr>\n",
       "\t<tr><td>0.0</td><td>2.5</td><td>0.0</td><td>0</td><td>0</td></tr>\n",
       "\t<tr><td>0.0</td><td>0.0</td><td>2.5</td><td>0</td><td>0</td></tr>\n",
       "</tbody>\n",
       "</table>\n"
      ],
      "text/latex": [
       "A matrix: 3 × 5 of type dbl\n",
       "\\begin{tabular}{lllll}\n",
       "\t 2.5 & 0.0 & 0.0 & 0 & 0\\\\\n",
       "\t 0.0 & 2.5 & 0.0 & 0 & 0\\\\\n",
       "\t 0.0 & 0.0 & 2.5 & 0 & 0\\\\\n",
       "\\end{tabular}\n"
      ],
      "text/markdown": [
       "\n",
       "A matrix: 3 × 5 of type dbl\n",
       "\n",
       "| 2.5 | 0.0 | 0.0 | 0 | 0 |\n",
       "| 0.0 | 2.5 | 0.0 | 0 | 0 |\n",
       "| 0.0 | 0.0 | 2.5 | 0 | 0 |\n",
       "\n"
      ],
      "text/plain": [
       "     [,1] [,2] [,3] [,4] [,5]\n",
       "[1,] 2.5  0.0  0.0  0    0   \n",
       "[2,] 0.0  2.5  0.0  0    0   \n",
       "[3,] 0.0  0.0  2.5  0    0   "
      ]
     },
     "metadata": {},
     "output_type": "display_data"
    }
   ],
   "source": [
    "diag(2.5, nr=3, nc=5)"
   ]
  },
  {
   "cell_type": "code",
   "execution_count": 220,
   "id": "7dc8cf5c-11dd-4efd-a2dc-3b2c80edd81a",
   "metadata": {},
   "outputs": [
    {
     "data": {
      "text/html": [
       "<table class=\"dataframe\">\n",
       "<caption>A matrix: 2 × 2 of type int</caption>\n",
       "<tbody>\n",
       "\t<tr><td>1</td><td>3</td></tr>\n",
       "\t<tr><td>2</td><td>4</td></tr>\n",
       "</tbody>\n",
       "</table>\n"
      ],
      "text/latex": [
       "A matrix: 2 × 2 of type int\n",
       "\\begin{tabular}{ll}\n",
       "\t 1 & 3\\\\\n",
       "\t 2 & 4\\\\\n",
       "\\end{tabular}\n"
      ],
      "text/markdown": [
       "\n",
       "A matrix: 2 × 2 of type int\n",
       "\n",
       "| 1 | 3 |\n",
       "| 2 | 4 |\n",
       "\n"
      ],
      "text/plain": [
       "     [,1] [,2]\n",
       "[1,] 1    3   \n",
       "[2,] 2    4   "
      ]
     },
     "metadata": {},
     "output_type": "display_data"
    }
   ],
   "source": [
    "x = matrix(1:4, 2)# 需要注意的是，默认矩阵按列填充数据\n",
    "x"
   ]
  },
  {
   "cell_type": "code",
   "execution_count": 217,
   "id": "19e08952-8a81-492f-a5b1-4aa9b6ae72fd",
   "metadata": {},
   "outputs": [
    {
     "data": {
      "text/html": [
       "<table class=\"dataframe\">\n",
       "<caption>A matrix: 2 × 2 of type int</caption>\n",
       "<thead>\n",
       "\t<tr><th></th><th scope=col>c</th><th scope=col>d</th></tr>\n",
       "</thead>\n",
       "<tbody>\n",
       "\t<tr><th scope=row>a</th><td>1</td><td>3</td></tr>\n",
       "\t<tr><th scope=row>b</th><td>2</td><td>4</td></tr>\n",
       "</tbody>\n",
       "</table>\n"
      ],
      "text/latex": [
       "A matrix: 2 × 2 of type int\n",
       "\\begin{tabular}{r|ll}\n",
       "  & c & d\\\\\n",
       "\\hline\n",
       "\ta & 1 & 3\\\\\n",
       "\tb & 2 & 4\\\\\n",
       "\\end{tabular}\n"
      ],
      "text/markdown": [
       "\n",
       "A matrix: 2 × 2 of type int\n",
       "\n",
       "| <!--/--> | c | d |\n",
       "|---|---|---|\n",
       "| a | 1 | 3 |\n",
       "| b | 2 | 4 |\n",
       "\n"
      ],
      "text/plain": [
       "  c d\n",
       "a 1 3\n",
       "b 2 4"
      ]
     },
     "metadata": {},
     "output_type": "display_data"
    }
   ],
   "source": [
    "rownames(x) = c(\"a\", \"b\")\n",
    "colnames(x) = c(\"c\", \"d\")\n",
    "x"
   ]
  },
  {
   "cell_type": "code",
   "execution_count": 218,
   "id": "2beb5b6f-b41b-4503-98ee-7fa30921674b",
   "metadata": {},
   "outputs": [
    {
     "data": {
      "text/html": [
       "<style>\n",
       ".list-inline {list-style: none; margin:0; padding: 0}\n",
       ".list-inline>li {display: inline-block}\n",
       ".list-inline>li:not(:last-child)::after {content: \"\\00b7\"; padding: 0 .5ex}\n",
       "</style>\n",
       "<ol class=list-inline><li>2</li><li>2</li></ol>\n"
      ],
      "text/latex": [
       "\\begin{enumerate*}\n",
       "\\item 2\n",
       "\\item 2\n",
       "\\end{enumerate*}\n"
      ],
      "text/markdown": [
       "1. 2\n",
       "2. 2\n",
       "\n",
       "\n"
      ],
      "text/plain": [
       "[1] 2 2"
      ]
     },
     "metadata": {},
     "output_type": "display_data"
    }
   ],
   "source": [
    "dim(x)"
   ]
  },
  {
   "cell_type": "code",
   "execution_count": 219,
   "id": "c60187ae-a18a-48e5-967b-69ee79442424",
   "metadata": {},
   "outputs": [
    {
     "data": {
      "text/html": [
       "<ol>\n",
       "\t<li><style>\n",
       ".list-inline {list-style: none; margin:0; padding: 0}\n",
       ".list-inline>li {display: inline-block}\n",
       ".list-inline>li:not(:last-child)::after {content: \"\\00b7\"; padding: 0 .5ex}\n",
       "</style>\n",
       "<ol class=list-inline><li>'a'</li><li>'b'</li></ol>\n",
       "</li>\n",
       "\t<li><style>\n",
       ".list-inline {list-style: none; margin:0; padding: 0}\n",
       ".list-inline>li {display: inline-block}\n",
       ".list-inline>li:not(:last-child)::after {content: \"\\00b7\"; padding: 0 .5ex}\n",
       "</style>\n",
       "<ol class=list-inline><li>'c'</li><li>'d'</li></ol>\n",
       "</li>\n",
       "</ol>\n"
      ],
      "text/latex": [
       "\\begin{enumerate}\n",
       "\\item \\begin{enumerate*}\n",
       "\\item 'a'\n",
       "\\item 'b'\n",
       "\\end{enumerate*}\n",
       "\n",
       "\\item \\begin{enumerate*}\n",
       "\\item 'c'\n",
       "\\item 'd'\n",
       "\\end{enumerate*}\n",
       "\n",
       "\\end{enumerate}\n"
      ],
      "text/markdown": [
       "1. 1. 'a'\n",
       "2. 'b'\n",
       "\n",
       "\n",
       "\n",
       "2. 1. 'c'\n",
       "2. 'd'\n",
       "\n",
       "\n",
       "\n",
       "\n",
       "\n"
      ],
      "text/plain": [
       "[[1]]\n",
       "[1] \"a\" \"b\"\n",
       "\n",
       "[[2]]\n",
       "[1] \"c\" \"d\"\n"
      ]
     },
     "metadata": {},
     "output_type": "display_data"
    }
   ],
   "source": [
    "dimnames(x)"
   ]
  },
  {
   "cell_type": "code",
   "execution_count": 222,
   "id": "c4273b7d-6c7f-4824-97f5-b61eddc133fd",
   "metadata": {},
   "outputs": [
    {
     "data": {
      "text/html": [
       "<table class=\"dataframe\">\n",
       "<caption>A matrix: 2 × 2 of type int</caption>\n",
       "<tbody>\n",
       "\t<tr><td>1</td><td>2</td></tr>\n",
       "\t<tr><td>3</td><td>4</td></tr>\n",
       "</tbody>\n",
       "</table>\n"
      ],
      "text/latex": [
       "A matrix: 2 × 2 of type int\n",
       "\\begin{tabular}{ll}\n",
       "\t 1 & 2\\\\\n",
       "\t 3 & 4\\\\\n",
       "\\end{tabular}\n"
      ],
      "text/markdown": [
       "\n",
       "A matrix: 2 × 2 of type int\n",
       "\n",
       "| 1 | 2 |\n",
       "| 3 | 4 |\n",
       "\n"
      ],
      "text/plain": [
       "     [,1] [,2]\n",
       "[1,] 1    2   \n",
       "[2,] 3    4   "
      ]
     },
     "metadata": {},
     "output_type": "display_data"
    }
   ],
   "source": [
    "# 改为按行\n",
    "x = matrix(1:4, 2, byrow=TRUE)\n",
    "x"
   ]
  },
  {
   "cell_type": "code",
   "execution_count": 224,
   "id": "e249e3bb-3dd6-4afd-987f-8b59d3ccedd0",
   "metadata": {},
   "outputs": [
    {
     "data": {
      "text/html": [
       "<table class=\"dataframe\">\n",
       "<caption>A matrix: 2 × 2 of type int</caption>\n",
       "<tbody>\n",
       "\t<tr><td>1</td><td>2</td></tr>\n",
       "\t<tr><td>3</td><td>4</td></tr>\n",
       "</tbody>\n",
       "</table>\n"
      ],
      "text/latex": [
       "A matrix: 2 × 2 of type int\n",
       "\\begin{tabular}{ll}\n",
       "\t 1 & 2\\\\\n",
       "\t 3 & 4\\\\\n",
       "\\end{tabular}\n"
      ],
      "text/markdown": [
       "\n",
       "A matrix: 2 × 2 of type int\n",
       "\n",
       "| 1 | 2 |\n",
       "| 3 | 4 |\n",
       "\n"
      ],
      "text/plain": [
       "     [,1] [,2]\n",
       "[1,] 1    2   \n",
       "[2,] 3    4   "
      ]
     },
     "metadata": {},
     "output_type": "display_data"
    },
    {
     "data": {
      "text/html": [
       "<style>\n",
       ".list-inline {list-style: none; margin:0; padding: 0}\n",
       ".list-inline>li {display: inline-block}\n",
       ".list-inline>li:not(:last-child)::after {content: \"\\00b7\"; padding: 0 .5ex}\n",
       "</style>\n",
       "<ol class=list-inline><li>1</li><li>2</li></ol>\n"
      ],
      "text/latex": [
       "\\begin{enumerate*}\n",
       "\\item 1\n",
       "\\item 2\n",
       "\\end{enumerate*}\n"
      ],
      "text/markdown": [
       "1. 1\n",
       "2. 2\n",
       "\n",
       "\n"
      ],
      "text/plain": [
       "[1] 1 2"
      ]
     },
     "metadata": {},
     "output_type": "display_data"
    }
   ],
   "source": [
    "# 数组和矩阵下标和子集提取和前面的类似，按索引，字符，逻辑值都可以\n",
    "# 如果学过其他语言的朋友注意下R是按1索引，索引值是从1开始的，像Python, C是从0开始的\n",
    "x\n",
    "x[1,]\n"
   ]
  },
  {
   "cell_type": "code",
   "execution_count": 226,
   "id": "5f7d3cd6-0749-4835-9741-4dc064d28163",
   "metadata": {},
   "outputs": [
    {
     "data": {
      "text/html": [
       "<style>\n",
       ".list-inline {list-style: none; margin:0; padding: 0}\n",
       ".list-inline>li {display: inline-block}\n",
       ".list-inline>li:not(:last-child)::after {content: \"\\00b7\"; padding: 0 .5ex}\n",
       "</style>\n",
       "<ol class=list-inline><li>1</li><li>3</li></ol>\n"
      ],
      "text/latex": [
       "\\begin{enumerate*}\n",
       "\\item 1\n",
       "\\item 3\n",
       "\\end{enumerate*}\n"
      ],
      "text/markdown": [
       "1. 1\n",
       "2. 3\n",
       "\n",
       "\n"
      ],
      "text/plain": [
       "[1] 1 3"
      ]
     },
     "metadata": {},
     "output_type": "display_data"
    }
   ],
   "source": [
    "x[, 1]"
   ]
  },
  {
   "cell_type": "code",
   "execution_count": 228,
   "id": "f4694316-8ab3-4f5a-9995-160025e541d0",
   "metadata": {},
   "outputs": [
    {
     "data": {
      "text/html": [
       "<style>\n",
       ".list-inline {list-style: none; margin:0; padding: 0}\n",
       ".list-inline>li {display: inline-block}\n",
       ".list-inline>li:not(:last-child)::after {content: \"\\00b7\"; padding: 0 .5ex}\n",
       "</style>\n",
       "<ol class=list-inline><li>3</li><li>2</li><li>4</li></ol>\n"
      ],
      "text/latex": [
       "\\begin{enumerate*}\n",
       "\\item 3\n",
       "\\item 2\n",
       "\\item 4\n",
       "\\end{enumerate*}\n"
      ],
      "text/markdown": [
       "1. 3\n",
       "2. 2\n",
       "3. 4\n",
       "\n",
       "\n"
      ],
      "text/plain": [
       "[1] 3 2 4"
      ]
     },
     "metadata": {},
     "output_type": "display_data"
    }
   ],
   "source": [
    "x[x>1]"
   ]
  },
  {
   "cell_type": "code",
   "execution_count": 230,
   "id": "62443431-51bd-4662-b702-29db903ffb33",
   "metadata": {},
   "outputs": [
    {
     "data": {
      "text/html": [
       "1"
      ],
      "text/latex": [
       "1"
      ],
      "text/markdown": [
       "1"
      ],
      "text/plain": [
       "[1] 1"
      ]
     },
     "metadata": {},
     "output_type": "display_data"
    }
   ],
   "source": [
    "x[1, 1]"
   ]
  },
  {
   "cell_type": "code",
   "execution_count": 232,
   "id": "057ee1a8-effe-46b5-a1fe-742bac04c578",
   "metadata": {},
   "outputs": [
    {
     "data": {
      "text/html": [
       "<table class=\"dataframe\">\n",
       "<caption>A matrix: 2 × 2 of type int</caption>\n",
       "<tbody>\n",
       "\t<tr><td>1</td><td>3</td></tr>\n",
       "\t<tr><td>2</td><td>4</td></tr>\n",
       "</tbody>\n",
       "</table>\n"
      ],
      "text/latex": [
       "A matrix: 2 × 2 of type int\n",
       "\\begin{tabular}{ll}\n",
       "\t 1 & 3\\\\\n",
       "\t 2 & 4\\\\\n",
       "\\end{tabular}\n"
      ],
      "text/markdown": [
       "\n",
       "A matrix: 2 × 2 of type int\n",
       "\n",
       "| 1 | 3 |\n",
       "| 2 | 4 |\n",
       "\n"
      ],
      "text/plain": [
       "     [,1] [,2]\n",
       "[1,] 1    3   \n",
       "[2,] 2    4   "
      ]
     },
     "metadata": {},
     "output_type": "display_data"
    }
   ],
   "source": [
    "# 矩阵运算\n",
    "# 转置\n",
    "t(x)"
   ]
  },
  {
   "cell_type": "code",
   "execution_count": 234,
   "id": "f3e90fbe-326f-4877-b6c1-5952a867c2b9",
   "metadata": {},
   "outputs": [
    {
     "data": {
      "text/html": [
       "<style>\n",
       ".list-inline {list-style: none; margin:0; padding: 0}\n",
       ".list-inline>li {display: inline-block}\n",
       ".list-inline>li:not(:last-child)::after {content: \"\\00b7\"; padding: 0 .5ex}\n",
       "</style>\n",
       "<ol class=list-inline><li>1</li><li>4</li></ol>\n"
      ],
      "text/latex": [
       "\\begin{enumerate*}\n",
       "\\item 1\n",
       "\\item 4\n",
       "\\end{enumerate*}\n"
      ],
      "text/markdown": [
       "1. 1\n",
       "2. 4\n",
       "\n",
       "\n"
      ],
      "text/plain": [
       "[1] 1 4"
      ]
     },
     "metadata": {},
     "output_type": "display_data"
    }
   ],
   "source": [
    "# 提取对角元\n",
    "diag(x)"
   ]
  },
  {
   "cell_type": "code",
   "execution_count": 236,
   "id": "067c2f6f-f992-47eb-a967-d10e2387b606",
   "metadata": {},
   "outputs": [
    {
     "data": {
      "text/html": [
       "<table class=\"dataframe\">\n",
       "<caption>A matrix: 4 × 2 of type int</caption>\n",
       "<tbody>\n",
       "\t<tr><td>1</td><td>2</td></tr>\n",
       "\t<tr><td>3</td><td>4</td></tr>\n",
       "\t<tr><td>1</td><td>2</td></tr>\n",
       "\t<tr><td>3</td><td>4</td></tr>\n",
       "</tbody>\n",
       "</table>\n"
      ],
      "text/latex": [
       "A matrix: 4 × 2 of type int\n",
       "\\begin{tabular}{ll}\n",
       "\t 1 & 2\\\\\n",
       "\t 3 & 4\\\\\n",
       "\t 1 & 2\\\\\n",
       "\t 3 & 4\\\\\n",
       "\\end{tabular}\n"
      ],
      "text/markdown": [
       "\n",
       "A matrix: 4 × 2 of type int\n",
       "\n",
       "| 1 | 2 |\n",
       "| 3 | 4 |\n",
       "| 1 | 2 |\n",
       "| 3 | 4 |\n",
       "\n"
      ],
      "text/plain": [
       "     [,1] [,2]\n",
       "[1,] 1    2   \n",
       "[2,] 3    4   \n",
       "[3,] 1    2   \n",
       "[4,] 3    4   "
      ]
     },
     "metadata": {},
     "output_type": "display_data"
    }
   ],
   "source": [
    "# 按行合并\n",
    "rbind(x,x)"
   ]
  },
  {
   "cell_type": "code",
   "execution_count": 238,
   "id": "015ee463-0c51-401a-805d-c8b2e33e4c12",
   "metadata": {},
   "outputs": [
    {
     "data": {
      "text/html": [
       "<table class=\"dataframe\">\n",
       "<caption>A matrix: 2 × 4 of type int</caption>\n",
       "<tbody>\n",
       "\t<tr><td>1</td><td>2</td><td>1</td><td>2</td></tr>\n",
       "\t<tr><td>3</td><td>4</td><td>3</td><td>4</td></tr>\n",
       "</tbody>\n",
       "</table>\n"
      ],
      "text/latex": [
       "A matrix: 2 × 4 of type int\n",
       "\\begin{tabular}{llll}\n",
       "\t 1 & 2 & 1 & 2\\\\\n",
       "\t 3 & 4 & 3 & 4\\\\\n",
       "\\end{tabular}\n"
      ],
      "text/markdown": [
       "\n",
       "A matrix: 2 × 4 of type int\n",
       "\n",
       "| 1 | 2 | 1 | 2 |\n",
       "| 3 | 4 | 3 | 4 |\n",
       "\n"
      ],
      "text/plain": [
       "     [,1] [,2] [,3] [,4]\n",
       "[1,] 1    2    1    2   \n",
       "[2,] 3    4    3    4   "
      ]
     },
     "metadata": {},
     "output_type": "display_data"
    }
   ],
   "source": [
    "# 按列合并\n",
    "cbind(x,x)"
   ]
  },
  {
   "cell_type": "code",
   "execution_count": 239,
   "id": "2727928f-2639-4d67-a935-8ff63b3aa411",
   "metadata": {},
   "outputs": [
    {
     "data": {
      "text/html": [
       "<table class=\"dataframe\">\n",
       "<caption>A matrix: 2 × 2 of type int</caption>\n",
       "<tbody>\n",
       "\t<tr><td>1</td><td> 4</td></tr>\n",
       "\t<tr><td>9</td><td>16</td></tr>\n",
       "</tbody>\n",
       "</table>\n"
      ],
      "text/latex": [
       "A matrix: 2 × 2 of type int\n",
       "\\begin{tabular}{ll}\n",
       "\t 1 &  4\\\\\n",
       "\t 9 & 16\\\\\n",
       "\\end{tabular}\n"
      ],
      "text/markdown": [
       "\n",
       "A matrix: 2 × 2 of type int\n",
       "\n",
       "| 1 |  4 |\n",
       "| 9 | 16 |\n",
       "\n"
      ],
      "text/plain": [
       "     [,1] [,2]\n",
       "[1,] 1     4  \n",
       "[2,] 9    16  "
      ]
     },
     "metadata": {},
     "output_type": "display_data"
    }
   ],
   "source": [
    "# 矩阵的住院成绩\n",
    "x * x"
   ]
  },
  {
   "cell_type": "code",
   "execution_count": 241,
   "id": "5086b9a6-1dbd-4e26-a9c5-b158ce6b6b71",
   "metadata": {},
   "outputs": [
    {
     "data": {
      "text/html": [
       "<table class=\"dataframe\">\n",
       "<caption>A matrix: 2 × 2 of type dbl</caption>\n",
       "<tbody>\n",
       "\t<tr><td> 7</td><td>10</td></tr>\n",
       "\t<tr><td>15</td><td>22</td></tr>\n",
       "</tbody>\n",
       "</table>\n"
      ],
      "text/latex": [
       "A matrix: 2 × 2 of type dbl\n",
       "\\begin{tabular}{ll}\n",
       "\t  7 & 10\\\\\n",
       "\t 15 & 22\\\\\n",
       "\\end{tabular}\n"
      ],
      "text/markdown": [
       "\n",
       "A matrix: 2 × 2 of type dbl\n",
       "\n",
       "|  7 | 10 |\n",
       "| 15 | 22 |\n",
       "\n"
      ],
      "text/plain": [
       "     [,1] [,2]\n",
       "[1,]  7   10  \n",
       "[2,] 15   22  "
      ]
     },
     "metadata": {},
     "output_type": "display_data"
    }
   ],
   "source": [
    "# 矩阵的代数乘积\n",
    "x %*% x"
   ]
  },
  {
   "cell_type": "code",
   "execution_count": 243,
   "id": "6fd40801-48c7-4156-a67a-bb46dea0b1b4",
   "metadata": {},
   "outputs": [
    {
     "data": {
      "text/html": [
       "-2"
      ],
      "text/latex": [
       "-2"
      ],
      "text/markdown": [
       "-2"
      ],
      "text/plain": [
       "[1] -2"
      ]
     },
     "metadata": {},
     "output_type": "display_data"
    }
   ],
   "source": [
    "# 矩阵的行列式\n",
    "det(x)"
   ]
  },
  {
   "cell_type": "markdown",
   "id": "e3123ecc-fbdb-40dc-85de-da6ce1b30ec0",
   "metadata": {},
   "source": [
    "其他一些函数：\n",
    "\n",
    "交叉乘积： crossprod()\n",
    "\n",
    "特征根与特征向量： eigen()\n",
    "\n",
    "QR分解： qr()\n",
    "\n",
    "默认函数的使用是按列计算的，也可以通过MARGIN选项改变。\n",
    "\n",
    "apply()函数可以对一个对象施加某种运算函数，调用格式：\n",
    "\n",
    "apply(X, MARGIN, FUN)\n",
    "\n",
    "X为参与运算矩阵，FUN为一个函数，MARGIN=1表示按行计算；2表示按列计算。\n",
    "\n",
    "另有sweep()函数\n",
    "\n",
    "sweep(X, MARGIN, STATS, FUN)\n",
    "\n",
    "表示从矩阵X中按MARGIN计算STATS，并从X中除去"
   ]
  },
  {
   "cell_type": "code",
   "execution_count": 246,
   "id": "eb8333c5-4960-478c-b6ed-09b91886986c",
   "metadata": {},
   "outputs": [
    {
     "data": {
      "text/html": [
       "<table class=\"dataframe\">\n",
       "<caption>A matrix: 3 × 4 of type dbl</caption>\n",
       "<tbody>\n",
       "\t<tr><td> 0.1373404</td><td>2.280664</td><td> 0.08630762</td><td>-0.9777980</td></tr>\n",
       "\t<tr><td>-0.7745862</td><td>2.261374</td><td>-0.48661697</td><td>-0.9029792</td></tr>\n",
       "\t<tr><td>-0.7023158</td><td>1.922739</td><td>-1.38346619</td><td>-1.0327514</td></tr>\n",
       "</tbody>\n",
       "</table>\n"
      ],
      "text/latex": [
       "A matrix: 3 × 4 of type dbl\n",
       "\\begin{tabular}{llll}\n",
       "\t  0.1373404 & 2.280664 &  0.08630762 & -0.9777980\\\\\n",
       "\t -0.7745862 & 2.261374 & -0.48661697 & -0.9029792\\\\\n",
       "\t -0.7023158 & 1.922739 & -1.38346619 & -1.0327514\\\\\n",
       "\\end{tabular}\n"
      ],
      "text/markdown": [
       "\n",
       "A matrix: 3 × 4 of type dbl\n",
       "\n",
       "|  0.1373404 | 2.280664 |  0.08630762 | -0.9777980 |\n",
       "| -0.7745862 | 2.261374 | -0.48661697 | -0.9029792 |\n",
       "| -0.7023158 | 1.922739 | -1.38346619 | -1.0327514 |\n",
       "\n"
      ],
      "text/plain": [
       "     [,1]       [,2]     [,3]        [,4]      \n",
       "[1,]  0.1373404 2.280664  0.08630762 -0.9777980\n",
       "[2,] -0.7745862 2.261374 -0.48661697 -0.9029792\n",
       "[3,] -0.7023158 1.922739 -1.38346619 -1.0327514"
      ]
     },
     "metadata": {},
     "output_type": "display_data"
    }
   ],
   "source": [
    "a = matrix(rnorm(n=12),nr=3)\n",
    "a"
   ]
  },
  {
   "cell_type": "code",
   "execution_count": 248,
   "id": "5bf3c91b-f515-48d3-b299-bcf816806452",
   "metadata": {},
   "outputs": [
    {
     "data": {
      "text/html": [
       "<style>\n",
       ".list-inline {list-style: none; margin:0; padding: 0}\n",
       ".list-inline>li {display: inline-block}\n",
       ".list-inline>li:not(:last-child)::after {content: \"\\00b7\"; padding: 0 .5ex}\n",
       "</style>\n",
       "<ol class=list-inline><li>0.381628566307139</li><li>0.0242979225431254</li><li>-0.298948571711499</li></ol>\n"
      ],
      "text/latex": [
       "\\begin{enumerate*}\n",
       "\\item 0.381628566307139\n",
       "\\item 0.0242979225431254\n",
       "\\item -0.298948571711499\n",
       "\\end{enumerate*}\n"
      ],
      "text/markdown": [
       "1. 0.381628566307139\n",
       "2. 0.0242979225431254\n",
       "3. -0.298948571711499\n",
       "\n",
       "\n"
      ],
      "text/plain": [
       "[1]  0.38162857  0.02429792 -0.29894857"
      ]
     },
     "metadata": {},
     "output_type": "display_data"
    }
   ],
   "source": [
    "# 求平均数、中位数等\n",
    "apply(a, MARGIN=1, FUN=mean) #求各行的均值"
   ]
  },
  {
   "cell_type": "code",
   "execution_count": 249,
   "id": "df88ac84-6b88-48b4-bf2a-c046a999159e",
   "metadata": {},
   "outputs": [
    {
     "data": {
      "text/html": [
       "<style>\n",
       ".list-inline {list-style: none; margin:0; padding: 0}\n",
       ".list-inline>li {display: inline-block}\n",
       ".list-inline>li:not(:last-child)::after {content: \"\\00b7\"; padding: 0 .5ex}\n",
       "</style>\n",
       "<ol class=list-inline><li>-0.446520534387746</li><li>2.15492576971062</li><li>-0.594591848737541</li><li>-0.971176163733648</li></ol>\n"
      ],
      "text/latex": [
       "\\begin{enumerate*}\n",
       "\\item -0.446520534387746\n",
       "\\item 2.15492576971062\n",
       "\\item -0.594591848737541\n",
       "\\item -0.971176163733648\n",
       "\\end{enumerate*}\n"
      ],
      "text/markdown": [
       "1. -0.446520534387746\n",
       "2. 2.15492576971062\n",
       "3. -0.594591848737541\n",
       "4. -0.971176163733648\n",
       "\n",
       "\n"
      ],
      "text/plain": [
       "[1] -0.4465205  2.1549258 -0.5945918 -0.9711762"
      ]
     },
     "metadata": {},
     "output_type": "display_data"
    }
   ],
   "source": [
    "apply(a, MARGIN=2, FUN=mean) #求各列的均值"
   ]
  },
  {
   "cell_type": "code",
   "execution_count": 251,
   "id": "9e13f7c5-9d8b-4653-980d-b5976028f568",
   "metadata": {},
   "outputs": [
    {
     "data": {
      "text/html": [
       "<table class=\"dataframe\">\n",
       "<caption>A matrix: 3 × 4 of type dbl</caption>\n",
       "<tbody>\n",
       "\t<tr><td> 1.1517632</td><td> 0.6245989</td><td> 0.9191256</td><td>-0.1016565</td></tr>\n",
       "\t<tr><td>-0.6471642</td><td> 0.5287756</td><td> 0.1457520</td><td> 1.0469455</td></tr>\n",
       "\t<tr><td>-0.5045989</td><td>-1.1533745</td><td>-1.0648777</td><td>-0.9452889</td></tr>\n",
       "</tbody>\n",
       "</table>\n"
      ],
      "text/latex": [
       "A matrix: 3 × 4 of type dbl\n",
       "\\begin{tabular}{llll}\n",
       "\t  1.1517632 &  0.6245989 &  0.9191256 & -0.1016565\\\\\n",
       "\t -0.6471642 &  0.5287756 &  0.1457520 &  1.0469455\\\\\n",
       "\t -0.5045989 & -1.1533745 & -1.0648777 & -0.9452889\\\\\n",
       "\\end{tabular}\n"
      ],
      "text/markdown": [
       "\n",
       "A matrix: 3 × 4 of type dbl\n",
       "\n",
       "|  1.1517632 |  0.6245989 |  0.9191256 | -0.1016565 |\n",
       "| -0.6471642 |  0.5287756 |  0.1457520 |  1.0469455 |\n",
       "| -0.5045989 | -1.1533745 | -1.0648777 | -0.9452889 |\n",
       "\n"
      ],
      "text/plain": [
       "     [,1]       [,2]       [,3]       [,4]      \n",
       "[1,]  1.1517632  0.6245989  0.9191256 -0.1016565\n",
       "[2,] -0.6471642  0.5287756  0.1457520  1.0469455\n",
       "[3,] -0.5045989 -1.1533745 -1.0648777 -0.9452889"
      ]
     },
     "metadata": {},
     "output_type": "display_data"
    }
   ],
   "source": [
    "# 标准化\n",
    "scale(a, center=T, scale=T)"
   ]
  },
  {
   "cell_type": "code",
   "execution_count": 253,
   "id": "5df439e2-22dd-4bc2-8172-1c348d985bc0",
   "metadata": {},
   "outputs": [
    {
     "data": {
      "text/html": [
       "<table class=\"dataframe\">\n",
       "<caption>A matrix: 3 × 4 of type dbl</caption>\n",
       "<tbody>\n",
       "\t<tr><td> 0.02551638</td><td>2.168840</td><td>-0.02551638</td><td>-1.0896220</td></tr>\n",
       "\t<tr><td>-0.14398459</td><td>2.891976</td><td> 0.14398459</td><td>-0.2723776</td></tr>\n",
       "\t<tr><td> 0.16521776</td><td>2.790273</td><td>-0.51593260</td><td>-0.1652178</td></tr>\n",
       "</tbody>\n",
       "</table>\n"
      ],
      "text/latex": [
       "A matrix: 3 × 4 of type dbl\n",
       "\\begin{tabular}{llll}\n",
       "\t  0.02551638 & 2.168840 & -0.02551638 & -1.0896220\\\\\n",
       "\t -0.14398459 & 2.891976 &  0.14398459 & -0.2723776\\\\\n",
       "\t  0.16521776 & 2.790273 & -0.51593260 & -0.1652178\\\\\n",
       "\\end{tabular}\n"
      ],
      "text/markdown": [
       "\n",
       "A matrix: 3 × 4 of type dbl\n",
       "\n",
       "|  0.02551638 | 2.168840 | -0.02551638 | -1.0896220 |\n",
       "| -0.14398459 | 2.891976 |  0.14398459 | -0.2723776 |\n",
       "|  0.16521776 | 2.790273 | -0.51593260 | -0.1652178 |\n",
       "\n"
      ],
      "text/plain": [
       "     [,1]        [,2]     [,3]        [,4]      \n",
       "[1,]  0.02551638 2.168840 -0.02551638 -1.0896220\n",
       "[2,] -0.14398459 2.891976  0.14398459 -0.2723776\n",
       "[3,]  0.16521776 2.790273 -0.51593260 -0.1652178"
      ]
     },
     "metadata": {},
     "output_type": "display_data"
    }
   ],
   "source": [
    "# 减去中位数\n",
    "row.med = apply(a, MARGIN=1, FUN=median)\n",
    "sweep(a, MARGIN=1, STATS=row.med, FUN=\"-\")"
   ]
  },
  {
   "cell_type": "markdown",
   "id": "162308f6-592a-47eb-ae14-9723697f3826",
   "metadata": {},
   "source": [
    "# 数据框架的建立\n",
    "数据框架类似于电子表格。行表示观测，列表示变量"
   ]
  },
  {
   "cell_type": "code",
   "execution_count": 254,
   "id": "4d7f56e2-4731-4129-8b76-2bbbf713c53d",
   "metadata": {},
   "outputs": [
    {
     "data": {
      "text/html": [
       "<table class=\"dataframe\">\n",
       "<caption>A data.frame: 4 × 2</caption>\n",
       "<thead>\n",
       "\t<tr><th scope=col>INDEX</th><th scope=col>VALUE</th></tr>\n",
       "\t<tr><th scope=col>&lt;int&gt;</th><th scope=col>&lt;dbl&gt;</th></tr>\n",
       "</thead>\n",
       "<tbody>\n",
       "\t<tr><td>1</td><td>1</td></tr>\n",
       "\t<tr><td>2</td><td>2</td></tr>\n",
       "\t<tr><td>3</td><td>3</td></tr>\n",
       "\t<tr><td>4</td><td>4</td></tr>\n",
       "</tbody>\n",
       "</table>\n"
      ],
      "text/latex": [
       "A data.frame: 4 × 2\n",
       "\\begin{tabular}{ll}\n",
       " INDEX & VALUE\\\\\n",
       " <int> & <dbl>\\\\\n",
       "\\hline\n",
       "\t 1 & 1\\\\\n",
       "\t 2 & 2\\\\\n",
       "\t 3 & 3\\\\\n",
       "\t 4 & 4\\\\\n",
       "\\end{tabular}\n"
      ],
      "text/markdown": [
       "\n",
       "A data.frame: 4 × 2\n",
       "\n",
       "| INDEX &lt;int&gt; | VALUE &lt;dbl&gt; |\n",
       "|---|---|\n",
       "| 1 | 1 |\n",
       "| 2 | 2 |\n",
       "| 3 | 3 |\n",
       "| 4 | 4 |\n",
       "\n"
      ],
      "text/plain": [
       "  INDEX VALUE\n",
       "1 1     1    \n",
       "2 2     2    \n",
       "3 3     3    \n",
       "4 4     4    "
      ]
     },
     "metadata": {},
     "output_type": "display_data"
    }
   ],
   "source": [
    "# 数据框的直接建立\n",
    "x = c(1, 2, 3, 4)\n",
    "y = 1:4\n",
    "z = data.frame(INDEX = y, VALUE = x)\n",
    "z\n",
    "# 数据框中的向量必须有相同的长度或长度有倍数关系，\n",
    "# 如果一个比另一个短，它将按循环法循环整数次。（这叫循环对齐）"
   ]
  },
  {
   "cell_type": "code",
   "execution_count": 255,
   "id": "8a23afa2-ecec-442b-a0e4-d38e93cd617d",
   "metadata": {},
   "outputs": [
    {
     "data": {
      "text/html": [
       "<table class=\"dataframe\">\n",
       "<caption>A data.frame: 4 × 2</caption>\n",
       "<thead>\n",
       "\t<tr><th scope=col>weight</th><th scope=col>age</th></tr>\n",
       "\t<tr><th scope=col>&lt;dbl&gt;</th><th scope=col>&lt;chr&gt;</th></tr>\n",
       "</thead>\n",
       "<tbody>\n",
       "\t<tr><td>70.7</td><td>adult</td></tr>\n",
       "\t<tr><td>56.4</td><td>teen </td></tr>\n",
       "\t<tr><td>80.0</td><td>adult</td></tr>\n",
       "\t<tr><td>59.5</td><td>teen </td></tr>\n",
       "</tbody>\n",
       "</table>\n"
      ],
      "text/latex": [
       "A data.frame: 4 × 2\n",
       "\\begin{tabular}{ll}\n",
       " weight & age\\\\\n",
       " <dbl> & <chr>\\\\\n",
       "\\hline\n",
       "\t 70.7 & adult\\\\\n",
       "\t 56.4 & teen \\\\\n",
       "\t 80.0 & adult\\\\\n",
       "\t 59.5 & teen \\\\\n",
       "\\end{tabular}\n"
      ],
      "text/markdown": [
       "\n",
       "A data.frame: 4 × 2\n",
       "\n",
       "| weight &lt;dbl&gt; | age &lt;chr&gt; |\n",
       "|---|---|\n",
       "| 70.7 | adult |\n",
       "| 56.4 | teen  |\n",
       "| 80.0 | adult |\n",
       "| 59.5 | teen  |\n",
       "\n"
      ],
      "text/plain": [
       "  weight age  \n",
       "1 70.7   adult\n",
       "2 56.4   teen \n",
       "3 80.0   adult\n",
       "4 59.5   teen "
      ]
     },
     "metadata": {},
     "output_type": "display_data"
    }
   ],
   "source": [
    "weight = c(70.7, 56.4, 80, 59.5)\n",
    "x = c(\"adult\", \"teen\")\n",
    "wag = data.frame(weight, age = x)\n",
    "wag"
   ]
  },
  {
   "cell_type": "code",
   "execution_count": 256,
   "id": "bcd36b9f-1216-4914-9e9f-217dc87c63a9",
   "metadata": {},
   "outputs": [
    {
     "ename": "ERROR",
     "evalue": "Error in data.frame(x, y): arguments imply differing number of rows: 4, 3\n",
     "output_type": "error",
     "traceback": [
      "Error in data.frame(x, y): arguments imply differing number of rows: 4, 3\nTraceback:\n",
      "1. data.frame(x, y)",
      "2. stop(gettextf(\"arguments imply differing number of rows: %s\", \n .     paste(unique(nrows), collapse = \", \")), domain = NA)"
     ]
    }
   ],
   "source": [
    "x = 1:4; y = 2:4 # x,y长度无整数倍关系\n",
    "data.frame(x, y) # 会报错"
   ]
  },
  {
   "cell_type": "markdown",
   "id": "5a33178c-f954-4e7b-a11e-666a0b9e4146",
   "metadata": {},
   "source": [
    "##对数据框使用函数"
   ]
  },
  {
   "cell_type": "code",
   "execution_count": 258,
   "id": "cff7112c-e54f-43d0-a572-0271f82dd851",
   "metadata": {},
   "outputs": [
    {
     "name": "stderr",
     "output_type": "stream",
     "text": [
      "The following objects are masked from Puromycin (pos = 3):\n",
      "\n",
      "    conc, rate, state\n",
      "\n",
      "\n"
     ]
    },
    {
     "data": {
      "text/html": [
       "<table class=\"dataframe\">\n",
       "<caption>A data.frame: 6 × 3</caption>\n",
       "<thead>\n",
       "\t<tr><th></th><th scope=col>conc</th><th scope=col>rate</th><th scope=col>state</th></tr>\n",
       "\t<tr><th></th><th scope=col>&lt;dbl&gt;</th><th scope=col>&lt;dbl&gt;</th><th scope=col>&lt;fct&gt;</th></tr>\n",
       "</thead>\n",
       "<tbody>\n",
       "\t<tr><th scope=row>1</th><td>0.02</td><td> 76</td><td>treated</td></tr>\n",
       "\t<tr><th scope=row>2</th><td>0.02</td><td> 47</td><td>treated</td></tr>\n",
       "\t<tr><th scope=row>3</th><td>0.06</td><td> 97</td><td>treated</td></tr>\n",
       "\t<tr><th scope=row>4</th><td>0.06</td><td>107</td><td>treated</td></tr>\n",
       "\t<tr><th scope=row>5</th><td>0.11</td><td>123</td><td>treated</td></tr>\n",
       "\t<tr><th scope=row>6</th><td>0.11</td><td>139</td><td>treated</td></tr>\n",
       "</tbody>\n",
       "</table>\n"
      ],
      "text/latex": [
       "A data.frame: 6 × 3\n",
       "\\begin{tabular}{r|lll}\n",
       "  & conc & rate & state\\\\\n",
       "  & <dbl> & <dbl> & <fct>\\\\\n",
       "\\hline\n",
       "\t1 & 0.02 &  76 & treated\\\\\n",
       "\t2 & 0.02 &  47 & treated\\\\\n",
       "\t3 & 0.06 &  97 & treated\\\\\n",
       "\t4 & 0.06 & 107 & treated\\\\\n",
       "\t5 & 0.11 & 123 & treated\\\\\n",
       "\t6 & 0.11 & 139 & treated\\\\\n",
       "\\end{tabular}\n"
      ],
      "text/markdown": [
       "\n",
       "A data.frame: 6 × 3\n",
       "\n",
       "| <!--/--> | conc &lt;dbl&gt; | rate &lt;dbl&gt; | state &lt;fct&gt; |\n",
       "|---|---|---|---|\n",
       "| 1 | 0.02 |  76 | treated |\n",
       "| 2 | 0.02 |  47 | treated |\n",
       "| 3 | 0.06 |  97 | treated |\n",
       "| 4 | 0.06 | 107 | treated |\n",
       "| 5 | 0.11 | 123 | treated |\n",
       "| 6 | 0.11 | 139 | treated |\n",
       "\n"
      ],
      "text/plain": [
       "  conc rate state  \n",
       "1 0.02  76  treated\n",
       "2 0.02  47  treated\n",
       "3 0.06  97  treated\n",
       "4 0.06 107  treated\n",
       "5 0.11 123  treated\n",
       "6 0.11 139  treated"
      ]
     },
     "metadata": {},
     "output_type": "display_data"
    }
   ],
   "source": [
    "attach(Puromycin)\n",
    "head(Puromycin)"
   ]
  },
  {
   "cell_type": "code",
   "execution_count": 260,
   "id": "a6b65879-1c89-4e4e-8fca-37b267d0f60f",
   "metadata": {},
   "outputs": [
    {
     "data": {
      "text/plain": [
       "      conc             rate             state   \n",
       " Min.   :0.0200   Min.   : 47.0   treated  :12  \n",
       " 1st Qu.:0.0600   1st Qu.: 91.5   untreated:11  \n",
       " Median :0.1100   Median :124.0                 \n",
       " Mean   :0.3122   Mean   :126.8                 \n",
       " 3rd Qu.:0.5600   3rd Qu.:158.5                 \n",
       " Max.   :1.1000   Max.   :207.0                 "
      ]
     },
     "metadata": {},
     "output_type": "display_data"
    }
   ],
   "source": [
    "summary(Puromycin)"
   ]
  },
  {
   "cell_type": "code",
   "execution_count": 261,
   "id": "52c5d788-2c55-4c80-a312-1f5694f3627f",
   "metadata": {},
   "outputs": [
    {
     "data": {
      "image/png": "[encoded data removed]",
      "text/plain": [
       "plot without title"
      ]
     },
     "metadata": {
      "image/png": {
       "height": 420,
       "width": 420
      }
     },
     "output_type": "display_data"
    }
   ],
   "source": [
    "# 可以看到前两个是数值型，第三个是因子变量\n",
    "# 变量之间的关系可以通过成对数据散点图考查\n",
    "pairs(Puromycin, panel=panel.smooth)"
   ]
  },
  {
   "cell_type": "code",
   "execution_count": 264,
   "id": "87dff86c-7fa7-4be0-9754-7fc351789d64",
   "metadata": {},
   "outputs": [
    {
     "data": {
      "text/plain": [
       "           conc\n",
       "state       0.02 0.06 0.11 0.22 0.56 1.1\n",
       "  treated      2    2    2    2    2   2\n",
       "  untreated    2    2    2    2    2   1"
      ]
     },
     "metadata": {},
     "output_type": "display_data"
    }
   ],
   "source": [
    "# 根据分类因子生成一个列联表\n",
    "xtabs( ~ state + conc, data = Puromycin)"
   ]
  },
  {
   "cell_type": "code",
   "execution_count": 266,
   "id": "6efa222c-dfd8-450e-8710-f3b1616646f6",
   "metadata": {},
   "outputs": [
    {
     "data": {
      "text/html": [
       "<table class=\"dataframe\">\n",
       "<caption>A data.frame: 6 × 3</caption>\n",
       "<thead>\n",
       "\t<tr><th></th><th scope=col>conc</th><th scope=col>rate</th><th scope=col>state</th></tr>\n",
       "\t<tr><th></th><th scope=col>&lt;dbl&gt;</th><th scope=col>&lt;dbl&gt;</th><th scope=col>&lt;fct&gt;</th></tr>\n",
       "</thead>\n",
       "<tbody>\n",
       "\t<tr><th scope=row>1</th><td>0.02</td><td> 76</td><td>treated</td></tr>\n",
       "\t<tr><th scope=row>2</th><td>0.02</td><td> 47</td><td>treated</td></tr>\n",
       "\t<tr><th scope=row>3</th><td>0.06</td><td> 97</td><td>treated</td></tr>\n",
       "\t<tr><th scope=row>4</th><td>0.06</td><td>107</td><td>treated</td></tr>\n",
       "\t<tr><th scope=row>5</th><td>0.11</td><td>123</td><td>treated</td></tr>\n",
       "\t<tr><th scope=row>6</th><td>0.11</td><td>139</td><td>treated</td></tr>\n",
       "</tbody>\n",
       "</table>\n"
      ],
      "text/latex": [
       "A data.frame: 6 × 3\n",
       "\\begin{tabular}{r|lll}\n",
       "  & conc & rate & state\\\\\n",
       "  & <dbl> & <dbl> & <fct>\\\\\n",
       "\\hline\n",
       "\t1 & 0.02 &  76 & treated\\\\\n",
       "\t2 & 0.02 &  47 & treated\\\\\n",
       "\t3 & 0.06 &  97 & treated\\\\\n",
       "\t4 & 0.06 & 107 & treated\\\\\n",
       "\t5 & 0.11 & 123 & treated\\\\\n",
       "\t6 & 0.11 & 139 & treated\\\\\n",
       "\\end{tabular}\n"
      ],
      "text/markdown": [
       "\n",
       "A data.frame: 6 × 3\n",
       "\n",
       "| <!--/--> | conc &lt;dbl&gt; | rate &lt;dbl&gt; | state &lt;fct&gt; |\n",
       "|---|---|---|---|\n",
       "| 1 | 0.02 |  76 | treated |\n",
       "| 2 | 0.02 |  47 | treated |\n",
       "| 3 | 0.06 |  97 | treated |\n",
       "| 4 | 0.06 | 107 | treated |\n",
       "| 5 | 0.11 | 123 | treated |\n",
       "| 6 | 0.11 | 139 | treated |\n",
       "\n"
      ],
      "text/plain": [
       "  conc rate state  \n",
       "1 0.02  76  treated\n",
       "2 0.02  47  treated\n",
       "3 0.06  97  treated\n",
       "4 0.06 107  treated\n",
       "5 0.11 123  treated\n",
       "6 0.11 139  treated"
      ]
     },
     "metadata": {},
     "output_type": "display_data"
    }
   ],
   "source": [
    "# 数据框提取子集方法跟矩阵基本一致，不过多赘述\n",
    "# 但它可以通过美元符引用变量\n",
    "head(Puromycin)"
   ]
  },
  {
   "cell_type": "code",
   "execution_count": 268,
   "id": "14dc0f77-8951-42d8-8aa0-0fb4ed05ac47",
   "metadata": {},
   "outputs": [
    {
     "data": {
      "text/html": [
       "<style>\n",
       ".list-inline {list-style: none; margin:0; padding: 0}\n",
       ".list-inline>li {display: inline-block}\n",
       ".list-inline>li:not(:last-child)::after {content: \"\\00b7\"; padding: 0 .5ex}\n",
       "</style>\n",
       "<ol class=list-inline><li>0.02</li><li>0.02</li><li>0.06</li><li>0.06</li><li>0.11</li><li>0.11</li></ol>\n"
      ],
      "text/latex": [
       "\\begin{enumerate*}\n",
       "\\item 0.02\n",
       "\\item 0.02\n",
       "\\item 0.06\n",
       "\\item 0.06\n",
       "\\item 0.11\n",
       "\\item 0.11\n",
       "\\end{enumerate*}\n"
      ],
      "text/markdown": [
       "1. 0.02\n",
       "2. 0.02\n",
       "3. 0.06\n",
       "4. 0.06\n",
       "5. 0.11\n",
       "6. 0.11\n",
       "\n",
       "\n"
      ],
      "text/plain": [
       "[1] 0.02 0.02 0.06 0.06 0.11 0.11"
      ]
     },
     "metadata": {},
     "output_type": "display_data"
    }
   ],
   "source": [
    "head(Puromycin$conc)"
   ]
  },
  {
   "cell_type": "code",
   "execution_count": 270,
   "id": "0fe5aadb-6ca7-4383-bec7-a5f03d0284b9",
   "metadata": {},
   "outputs": [
    {
     "data": {
      "text/html": [
       "<table class=\"dataframe\">\n",
       "<caption>A data.frame: 4 × 3</caption>\n",
       "<thead>\n",
       "\t<tr><th></th><th scope=col>conc</th><th scope=col>rate</th><th scope=col>state</th></tr>\n",
       "\t<tr><th></th><th scope=col>&lt;dbl&gt;</th><th scope=col>&lt;dbl&gt;</th><th scope=col>&lt;fct&gt;</th></tr>\n",
       "</thead>\n",
       "<tbody>\n",
       "\t<tr><th scope=row>9</th><td>0.56</td><td>191</td><td>treated</td></tr>\n",
       "\t<tr><th scope=row>10</th><td>0.56</td><td>201</td><td>treated</td></tr>\n",
       "\t<tr><th scope=row>11</th><td>1.10</td><td>207</td><td>treated</td></tr>\n",
       "\t<tr><th scope=row>12</th><td>1.10</td><td>200</td><td>treated</td></tr>\n",
       "</tbody>\n",
       "</table>\n"
      ],
      "text/latex": [
       "A data.frame: 4 × 3\n",
       "\\begin{tabular}{r|lll}\n",
       "  & conc & rate & state\\\\\n",
       "  & <dbl> & <dbl> & <fct>\\\\\n",
       "\\hline\n",
       "\t9 & 0.56 & 191 & treated\\\\\n",
       "\t10 & 0.56 & 201 & treated\\\\\n",
       "\t11 & 1.10 & 207 & treated\\\\\n",
       "\t12 & 1.10 & 200 & treated\\\\\n",
       "\\end{tabular}\n"
      ],
      "text/markdown": [
       "\n",
       "A data.frame: 4 × 3\n",
       "\n",
       "| <!--/--> | conc &lt;dbl&gt; | rate &lt;dbl&gt; | state &lt;fct&gt; |\n",
       "|---|---|---|---|\n",
       "| 9 | 0.56 | 191 | treated |\n",
       "| 10 | 0.56 | 201 | treated |\n",
       "| 11 | 1.10 | 207 | treated |\n",
       "| 12 | 1.10 | 200 | treated |\n",
       "\n"
      ],
      "text/plain": [
       "   conc rate state  \n",
       "9  0.56 191  treated\n",
       "10 0.56 201  treated\n",
       "11 1.10 207  treated\n",
       "12 1.10 200  treated"
      ]
     },
     "metadata": {},
     "output_type": "display_data"
    }
   ],
   "source": [
    "# 提取满足条件的子集\n",
    "subset(Puromycin, state == \"treated\" & rate > 160)"
   ]
  },
  {
   "cell_type": "markdown",
   "id": "c009a249-dd4c-492d-ae50-c5f484f26a56",
   "metadata": {},
   "source": [
    "## 数据框添加新变量\n",
    "- 三种"
   ]
  },
  {
   "cell_type": "code",
   "execution_count": 271,
   "id": "8fdd63ef-106f-4b71-8b66-ab30b95f5d01",
   "metadata": {},
   "outputs": [],
   "source": [
    "# 基本方法\n",
    "Puromycin$iconc = 1/Puromycin$conc"
   ]
  },
  {
   "cell_type": "code",
   "execution_count": 273,
   "id": "0b2a2986-4e74-4a78-a9c2-069405ad8910",
   "metadata": {},
   "outputs": [],
   "source": [
    "# 使用with()函数\n",
    "Puromycin$iconc = with(Puromycin, 1/conc)"
   ]
  },
  {
   "cell_type": "code",
   "execution_count": 274,
   "id": "04d2955b-bf30-47ef-9897-bc5c61a24621",
   "metadata": {},
   "outputs": [
    {
     "data": {
      "text/html": [
       "<table class=\"dataframe\">\n",
       "<caption>A data.frame: 6 × 5</caption>\n",
       "<thead>\n",
       "\t<tr><th></th><th scope=col>conc</th><th scope=col>rate</th><th scope=col>state</th><th scope=col>iconc</th><th scope=col>sqrtconc</th></tr>\n",
       "\t<tr><th></th><th scope=col>&lt;dbl&gt;</th><th scope=col>&lt;dbl&gt;</th><th scope=col>&lt;fct&gt;</th><th scope=col>&lt;dbl&gt;</th><th scope=col>&lt;dbl&gt;</th></tr>\n",
       "</thead>\n",
       "<tbody>\n",
       "\t<tr><th scope=row>1</th><td>0.02</td><td> 76</td><td>treated</td><td>50.000000</td><td>0.1414214</td></tr>\n",
       "\t<tr><th scope=row>2</th><td>0.02</td><td> 47</td><td>treated</td><td>50.000000</td><td>0.1414214</td></tr>\n",
       "\t<tr><th scope=row>3</th><td>0.06</td><td> 97</td><td>treated</td><td>16.666667</td><td>0.2449490</td></tr>\n",
       "\t<tr><th scope=row>4</th><td>0.06</td><td>107</td><td>treated</td><td>16.666667</td><td>0.2449490</td></tr>\n",
       "\t<tr><th scope=row>5</th><td>0.11</td><td>123</td><td>treated</td><td> 9.090909</td><td>0.3316625</td></tr>\n",
       "\t<tr><th scope=row>6</th><td>0.11</td><td>139</td><td>treated</td><td> 9.090909</td><td>0.3316625</td></tr>\n",
       "</tbody>\n",
       "</table>\n"
      ],
      "text/latex": [
       "A data.frame: 6 × 5\n",
       "\\begin{tabular}{r|lllll}\n",
       "  & conc & rate & state & iconc & sqrtconc\\\\\n",
       "  & <dbl> & <dbl> & <fct> & <dbl> & <dbl>\\\\\n",
       "\\hline\n",
       "\t1 & 0.02 &  76 & treated & 50.000000 & 0.1414214\\\\\n",
       "\t2 & 0.02 &  47 & treated & 50.000000 & 0.1414214\\\\\n",
       "\t3 & 0.06 &  97 & treated & 16.666667 & 0.2449490\\\\\n",
       "\t4 & 0.06 & 107 & treated & 16.666667 & 0.2449490\\\\\n",
       "\t5 & 0.11 & 123 & treated &  9.090909 & 0.3316625\\\\\n",
       "\t6 & 0.11 & 139 & treated &  9.090909 & 0.3316625\\\\\n",
       "\\end{tabular}\n"
      ],
      "text/markdown": [
       "\n",
       "A data.frame: 6 × 5\n",
       "\n",
       "| <!--/--> | conc &lt;dbl&gt; | rate &lt;dbl&gt; | state &lt;fct&gt; | iconc &lt;dbl&gt; | sqrtconc &lt;dbl&gt; |\n",
       "|---|---|---|---|---|---|\n",
       "| 1 | 0.02 |  76 | treated | 50.000000 | 0.1414214 |\n",
       "| 2 | 0.02 |  47 | treated | 50.000000 | 0.1414214 |\n",
       "| 3 | 0.06 |  97 | treated | 16.666667 | 0.2449490 |\n",
       "| 4 | 0.06 | 107 | treated | 16.666667 | 0.2449490 |\n",
       "| 5 | 0.11 | 123 | treated |  9.090909 | 0.3316625 |\n",
       "| 6 | 0.11 | 139 | treated |  9.090909 | 0.3316625 |\n",
       "\n"
      ],
      "text/plain": [
       "  conc rate state   iconc     sqrtconc \n",
       "1 0.02  76  treated 50.000000 0.1414214\n",
       "2 0.02  47  treated 50.000000 0.1414214\n",
       "3 0.06  97  treated 16.666667 0.2449490\n",
       "4 0.06 107  treated 16.666667 0.2449490\n",
       "5 0.11 123  treated  9.090909 0.3316625\n",
       "6 0.11 139  treated  9.090909 0.3316625"
      ]
     },
     "metadata": {},
     "output_type": "display_data"
    }
   ],
   "source": [
    "# 使用transform函数，可以一次性定义多个变量\n",
    "Puromycin = transform(Puromycin, iconc = 1/conc, sqrtconc = sqrt(conc))\n",
    "head(Puromycin)"
   ]
  },
  {
   "cell_type": "markdown",
   "id": "9518e291-cd23-459f-94dc-c328d07d8288",
   "metadata": {},
   "source": [
    "# 列表的建立\n",
    "R列表可以包含任何类型的对象\n",
    "\n",
    "list（）"
   ]
  },
  {
   "cell_type": "code",
   "execution_count": 275,
   "id": "171b0bc1-c113-4c8e-bdc3-684e5c91356e",
   "metadata": {},
   "outputs": [
    {
     "data": {
      "text/html": [
       "<dl>\n",
       "\t<dt>[[1]]</dt>\n",
       "\t\t<dd><style>\n",
       ".list-inline {list-style: none; margin:0; padding: 0}\n",
       ".list-inline>li {display: inline-block}\n",
       ".list-inline>li:not(:last-child)::after {content: \"\\00b7\"; padding: 0 .5ex}\n",
       "</style>\n",
       "<ol class=list-inline><li>1</li><li>2</li><li>3</li><li>4</li><li>5</li><li>6</li></ol>\n",
       "</dd>\n",
       "\t<dt>[[2]]</dt>\n",
       "\t\t<dd><table class=\"dataframe\">\n",
       "<caption>A matrix: 4 × 1 of type int</caption>\n",
       "<tbody>\n",
       "\t<tr><td>1</td></tr>\n",
       "\t<tr><td>2</td></tr>\n",
       "\t<tr><td>3</td></tr>\n",
       "\t<tr><td>4</td></tr>\n",
       "</tbody>\n",
       "</table>\n",
       "</dd>\n",
       "\t<dt>$nr</dt>\n",
       "\t\t<dd>2</dd>\n",
       "</dl>\n"
      ],
      "text/latex": [
       "\\begin{description}\n",
       "\\item[{[[1]]}] \\begin{enumerate*}\n",
       "\\item 1\n",
       "\\item 2\n",
       "\\item 3\n",
       "\\item 4\n",
       "\\item 5\n",
       "\\item 6\n",
       "\\end{enumerate*}\n",
       "\n",
       "\\item[{[[2]]}] A matrix: 4 × 1 of type int\n",
       "\\begin{tabular}{l}\n",
       "\t 1\\\\\n",
       "\t 2\\\\\n",
       "\t 3\\\\\n",
       "\t 4\\\\\n",
       "\\end{tabular}\n",
       "\n",
       "\\item[\\$nr] 2\n",
       "\\end{description}\n"
      ],
      "text/markdown": [
       "[[1]]\n",
       ":   1. 1\n",
       "2. 2\n",
       "3. 3\n",
       "4. 4\n",
       "5. 5\n",
       "6. 6\n",
       "\n",
       "\n",
       "\n",
       "[[2]]\n",
       ":   \n",
       "A matrix: 4 × 1 of type int\n",
       "\n",
       "| 1 |\n",
       "| 2 |\n",
       "| 3 |\n",
       "| 4 |\n",
       "\n",
       "\n",
       "$nr\n",
       ":   2\n",
       "\n",
       "\n"
      ],
      "text/plain": [
       "[[1]]\n",
       "[1] 1 2 3 4 5 6\n",
       "\n",
       "[[2]]\n",
       "     [,1]\n",
       "[1,]    1\n",
       "[2,]    2\n",
       "[3,]    3\n",
       "[4,]    4\n",
       "\n",
       "$nr\n",
       "[1] 2\n"
      ]
     },
     "metadata": {},
     "output_type": "display_data"
    }
   ],
   "source": [
    "L1 = list(1:6, matrix(1:4), nr=2)\n",
    "L1"
   ]
  },
  {
   "cell_type": "code",
   "execution_count": 276,
   "id": "d2a5683d-d961-4af3-ac57-f1c5ae19435b",
   "metadata": {},
   "outputs": [
    {
     "data": {
      "text/html": [
       "<dl>\n",
       "\t<dt>$x</dt>\n",
       "\t\t<dd><style>\n",
       ".list-inline {list-style: none; margin:0; padding: 0}\n",
       ".list-inline>li {display: inline-block}\n",
       ".list-inline>li:not(:last-child)::after {content: \"\\00b7\"; padding: 0 .5ex}\n",
       "</style>\n",
       "<ol class=list-inline><li>1</li><li>2</li><li>3</li><li>4</li><li>5</li><li>6</li></ol>\n",
       "</dd>\n",
       "\t<dt>$y</dt>\n",
       "\t\t<dd><table class=\"dataframe\">\n",
       "<caption>A matrix: 4 × 1 of type int</caption>\n",
       "<tbody>\n",
       "\t<tr><td>1</td></tr>\n",
       "\t<tr><td>2</td></tr>\n",
       "\t<tr><td>3</td></tr>\n",
       "\t<tr><td>4</td></tr>\n",
       "</tbody>\n",
       "</table>\n",
       "</dd>\n",
       "\t<dt>$nr</dt>\n",
       "\t\t<dd>2</dd>\n",
       "</dl>\n"
      ],
      "text/latex": [
       "\\begin{description}\n",
       "\\item[\\$x] \\begin{enumerate*}\n",
       "\\item 1\n",
       "\\item 2\n",
       "\\item 3\n",
       "\\item 4\n",
       "\\item 5\n",
       "\\item 6\n",
       "\\end{enumerate*}\n",
       "\n",
       "\\item[\\$y] A matrix: 4 × 1 of type int\n",
       "\\begin{tabular}{l}\n",
       "\t 1\\\\\n",
       "\t 2\\\\\n",
       "\t 3\\\\\n",
       "\t 4\\\\\n",
       "\\end{tabular}\n",
       "\n",
       "\\item[\\$nr] 2\n",
       "\\end{description}\n"
      ],
      "text/markdown": [
       "$x\n",
       ":   1. 1\n",
       "2. 2\n",
       "3. 3\n",
       "4. 4\n",
       "5. 5\n",
       "6. 6\n",
       "\n",
       "\n",
       "\n",
       "$y\n",
       ":   \n",
       "A matrix: 4 × 1 of type int\n",
       "\n",
       "| 1 |\n",
       "| 2 |\n",
       "| 3 |\n",
       "| 4 |\n",
       "\n",
       "\n",
       "$nr\n",
       ":   2\n",
       "\n",
       "\n"
      ],
      "text/plain": [
       "$x\n",
       "[1] 1 2 3 4 5 6\n",
       "\n",
       "$y\n",
       "     [,1]\n",
       "[1,]    1\n",
       "[2,]    2\n",
       "[3,]    3\n",
       "[4,]    4\n",
       "\n",
       "$nr\n",
       "[1] 2\n"
      ]
     },
     "metadata": {},
     "output_type": "display_data"
    }
   ],
   "source": [
    "L2 = list(x=1:6, y=matrix(1:4), nr=2)\n",
    "L2"
   ]
  },
  {
   "cell_type": "code",
   "execution_count": 277,
   "id": "2dc80be2-deae-4ea9-a63d-6cfc4d69c88d",
   "metadata": {},
   "outputs": [
    {
     "data": {
      "text/html": [
       "<style>\n",
       ".list-inline {list-style: none; margin:0; padding: 0}\n",
       ".list-inline>li {display: inline-block}\n",
       ".list-inline>li:not(:last-child)::after {content: \"\\00b7\"; padding: 0 .5ex}\n",
       "</style>\n",
       "<ol class=list-inline><li>1</li><li>2</li><li>3</li><li>4</li><li>5</li><li>6</li></ol>\n"
      ],
      "text/latex": [
       "\\begin{enumerate*}\n",
       "\\item 1\n",
       "\\item 2\n",
       "\\item 3\n",
       "\\item 4\n",
       "\\item 5\n",
       "\\item 6\n",
       "\\end{enumerate*}\n"
      ],
      "text/markdown": [
       "1. 1\n",
       "2. 2\n",
       "3. 3\n",
       "4. 4\n",
       "5. 5\n",
       "6. 6\n",
       "\n",
       "\n"
      ],
      "text/plain": [
       "[1] 1 2 3 4 5 6"
      ]
     },
     "metadata": {},
     "output_type": "display_data"
    }
   ],
   "source": [
    "L2$x"
   ]
  },
  {
   "cell_type": "code",
   "execution_count": 278,
   "id": "281b06b4-028a-401e-bb9a-1842c44bc06f",
   "metadata": {},
   "outputs": [
    {
     "data": {
      "text/html": [
       "4"
      ],
      "text/latex": [
       "4"
      ],
      "text/markdown": [
       "4"
      ],
      "text/plain": [
       "[1] 4"
      ]
     },
     "metadata": {},
     "output_type": "display_data"
    }
   ],
   "source": [
    "L2$y[4]"
   ]
  },
  {
   "cell_type": "markdown",
   "id": "c8c884e2-87fe-46f0-af25-8821825013e6",
   "metadata": {},
   "source": [
    "# 时间序列的建立\n",
    "\n",
    "函数ts()通过一向量或者矩阵创建一个一元或多元的时间序列，称为ts型对象。\n",
    "\n",
    "调用格式：\n",
    "\n",
    "ts(data = NA, start = 1, end = numeric(0), frequency = 1, \n",
    "    deltat = 1, ts.eps = getOption(\"ts.eps\"), class, names)\n",
    "\n",
    "选项：\n",
    "\n",
    "data —— 一个向量或者矩阵\n",
    "\n",
    "start —— 第一个观察值的时间\n",
    "\n",
    "end —— 最后一个观察值的时间\n",
    "\n",
    "frequency —— 单位时间内观察值的频数\n",
    "\n",
    "deltat —— 两个观察值的时间间隔，要么给定这个选项，要么给定frequency\n",
    "\n",
    "ts.eps —— 序列之间的误差限"
   ]
  },
  {
   "cell_type": "code",
   "execution_count": 279,
   "id": "7813a10c-5248-4706-9296-d27162003fc2",
   "metadata": {},
   "outputs": [
    {
     "data": {
      "text/html": [
       "A Time Series:<br><style>\n",
       ".list-inline {list-style: none; margin:0; padding: 0}\n",
       ".list-inline>li {display: inline-block}\n",
       ".list-inline>li:not(:last-child)::after {content: \"\\00b7\"; padding: 0 .5ex}\n",
       "</style>\n",
       "<ol class=list-inline><li>1</li><li>2</li><li>3</li><li>4</li><li>5</li><li>6</li><li>7</li><li>8</li><li>9</li><li>10</li></ol>\n"
      ],
      "text/latex": [
       "A Time Series:\\\\\\begin{enumerate*}\n",
       "\\item 1\n",
       "\\item 2\n",
       "\\item 3\n",
       "\\item 4\n",
       "\\item 5\n",
       "\\item 6\n",
       "\\item 7\n",
       "\\item 8\n",
       "\\item 9\n",
       "\\item 10\n",
       "\\end{enumerate*}\n"
      ],
      "text/markdown": [
       "A Time Series:  \n",
       "1. 1\n",
       "2. 2\n",
       "3. 3\n",
       "4. 4\n",
       "5. 5\n",
       "6. 6\n",
       "7. 7\n",
       "8. 8\n",
       "9. 9\n",
       "10. 10\n",
       "\n",
       "\n"
      ],
      "text/plain": [
       "A Time Series:\n",
       " [1]  1  2  3  4  5  6  7  8  9 10"
      ]
     },
     "metadata": {},
     "output_type": "display_data"
    }
   ],
   "source": [
    "# 下面举例说明\n",
    "ts(1:10, start = 1959)"
   ]
  },
  {
   "cell_type": "code",
   "execution_count": 280,
   "id": "085d49af-a70c-4337-81f3-e956ece1188c",
   "metadata": {},
   "outputs": [
    {
     "data": {
      "text/html": [
       "<table class=\"dataframe\">\n",
       "<caption>A Time Series: 4 × 12</caption>\n",
       "<thead>\n",
       "\t<tr><th></th><th scope=col>Jan</th><th scope=col>Feb</th><th scope=col>Mar</th><th scope=col>Apr</th><th scope=col>May</th><th scope=col>Jun</th><th scope=col>Jul</th><th scope=col>Aug</th><th scope=col>Sep</th><th scope=col>Oct</th><th scope=col>Nov</th><th scope=col>Dec</th></tr>\n",
       "</thead>\n",
       "<tbody>\n",
       "\t<tr><th scope=row>1959</th><td>  </td><td> 1</td><td> 2</td><td> 3</td><td> 4</td><td> 5</td><td> 6</td><td> 7</td><td> 8</td><td> 9</td><td>10</td><td>11</td></tr>\n",
       "\t<tr><th scope=row>1960</th><td>12</td><td>13</td><td>14</td><td>15</td><td>16</td><td>17</td><td>18</td><td>19</td><td>20</td><td>21</td><td>22</td><td>23</td></tr>\n",
       "\t<tr><th scope=row>1961</th><td>24</td><td>25</td><td>26</td><td>27</td><td>28</td><td>29</td><td>30</td><td>31</td><td>32</td><td>33</td><td>34</td><td>35</td></tr>\n",
       "\t<tr><th scope=row>1962</th><td>36</td><td>37</td><td>38</td><td>39</td><td>40</td><td>41</td><td>42</td><td>43</td><td>44</td><td>45</td><td>46</td><td>47</td></tr>\n",
       "</tbody>\n",
       "</table>\n"
      ],
      "text/latex": [
       "A Time Series: 4 × 12\n",
       "\\begin{tabular}{r|llllllllllll}\n",
       "  & Jan & Feb & Mar & Apr & May & Jun & Jul & Aug & Sep & Oct & Nov & Dec\\\\\n",
       "\\hline\n",
       "\t1959 &    &  1 &  2 &  3 &  4 &  5 &  6 &  7 &  8 &  9 & 10 & 11\\\\\n",
       "\t1960 & 12 & 13 & 14 & 15 & 16 & 17 & 18 & 19 & 20 & 21 & 22 & 23\\\\\n",
       "\t1961 & 24 & 25 & 26 & 27 & 28 & 29 & 30 & 31 & 32 & 33 & 34 & 35\\\\\n",
       "\t1962 & 36 & 37 & 38 & 39 & 40 & 41 & 42 & 43 & 44 & 45 & 46 & 47\\\\\n",
       "\\end{tabular}\n"
      ],
      "text/markdown": [
       "\n",
       "A Time Series: 4 × 12\n",
       "\n",
       "| <!--/--> | Jan | Feb | Mar | Apr | May | Jun | Jul | Aug | Sep | Oct | Nov | Dec |\n",
       "|---|---|---|---|---|---|---|---|---|---|---|---|---|\n",
       "| 1959 | <!----> |  1 |  2 |  3 |  4 |  5 |  6 |  7 |  8 |  9 | 10 | 11 |\n",
       "| 1960 | 12 | 13 | 14 | 15 | 16 | 17 | 18 | 19 | 20 | 21 | 22 | 23 |\n",
       "| 1961 | 24 | 25 | 26 | 27 | 28 | 29 | 30 | 31 | 32 | 33 | 34 | 35 |\n",
       "| 1962 | 36 | 37 | 38 | 39 | 40 | 41 | 42 | 43 | 44 | 45 | 46 | 47 |\n",
       "\n"
      ],
      "text/plain": [
       "     Jan Feb Mar Apr May Jun Jul Aug Sep Oct Nov Dec\n",
       "1959      1   2   3   4   5   6   7   8   9  10  11 \n",
       "1960 12  13  14  15  16  17  18  19  20  21  22  23 \n",
       "1961 24  25  26  27  28  29  30  31  32  33  34  35 \n",
       "1962 36  37  38  39  40  41  42  43  44  45  46  47 "
      ]
     },
     "metadata": {},
     "output_type": "display_data"
    }
   ],
   "source": [
    "ts(1:47, frequency=12, start=c(1959, 2))"
   ]
  },
  {
   "cell_type": "code",
   "execution_count": 283,
   "id": "acbd7793-22f4-4fb6-8db9-5e9120a33f22",
   "metadata": {},
   "outputs": [
    {
     "data": {
      "text/html": [
       "<table class=\"dataframe\">\n",
       "<caption>A Time Series: 3 × 4</caption>\n",
       "<thead>\n",
       "\t<tr><th></th><th scope=col>Qtr1</th><th scope=col>Qtr2</th><th scope=col>Qtr3</th><th scope=col>Qtr4</th></tr>\n",
       "</thead>\n",
       "<tbody>\n",
       "\t<tr><th scope=row>1959</th><td>  </td><td> 1</td><td> 2</td><td> 3</td></tr>\n",
       "\t<tr><th scope=row>1960</th><td> 4</td><td> 5</td><td> 6</td><td> 7</td></tr>\n",
       "\t<tr><th scope=row>1961</th><td> 8</td><td> 9</td><td>10</td><td>  </td></tr>\n",
       "</tbody>\n",
       "</table>\n"
      ],
      "text/latex": [
       "A Time Series: 3 × 4\n",
       "\\begin{tabular}{r|llll}\n",
       "  & Qtr1 & Qtr2 & Qtr3 & Qtr4\\\\\n",
       "\\hline\n",
       "\t1959 &    &  1 &  2 &  3\\\\\n",
       "\t1960 &  4 &  5 &  6 &  7\\\\\n",
       "\t1961 &  8 &  9 & 10 &   \\\\\n",
       "\\end{tabular}\n"
      ],
      "text/markdown": [
       "\n",
       "A Time Series: 3 × 4\n",
       "\n",
       "| <!--/--> | Qtr1 | Qtr2 | Qtr3 | Qtr4 |\n",
       "|---|---|---|---|---|\n",
       "| 1959 | <!----> |  1 |  2 |  3 |\n",
       "| 1960 |  4 |  5 |  6 |  7 |\n",
       "| 1961 |  8 |  9 | 10 | <!----> |\n",
       "\n"
      ],
      "text/plain": [
       "     Qtr1 Qtr2 Qtr3 Qtr4\n",
       "1959       1    2    3  \n",
       "1960  4    5    6    7  \n",
       "1961  8    9   10       "
      ]
     },
     "metadata": {},
     "output_type": "display_data"
    }
   ],
   "source": [
    "ts(1:10, frequency=4, start=c(1959, 2))"
   ]
  },
  {
   "cell_type": "code",
   "execution_count": 284,
   "id": "95b37893-df7b-4d02-a4fe-4f5f34308720",
   "metadata": {},
   "outputs": [
    {
     "data": {
      "text/html": [
       "<table class=\"dataframe\">\n",
       "<caption>A Time Series: 12 × 3</caption>\n",
       "<thead>\n",
       "\t<tr><th></th><th scope=col>Series 1</th><th scope=col>Series 2</th><th scope=col>Series 3</th></tr>\n",
       "</thead>\n",
       "<tbody>\n",
       "\t<tr><th scope=row>Jan 1961</th><td>7</td><td>9</td><td>1</td></tr>\n",
       "\t<tr><th scope=row>Feb 1961</th><td>4</td><td>3</td><td>4</td></tr>\n",
       "\t<tr><th scope=row>Mar 1961</th><td>7</td><td>4</td><td>8</td></tr>\n",
       "\t<tr><th scope=row>Apr 1961</th><td>4</td><td>4</td><td>7</td></tr>\n",
       "\t<tr><th scope=row>May 1961</th><td>5</td><td>2</td><td>5</td></tr>\n",
       "\t<tr><th scope=row>Jun 1961</th><td>8</td><td>5</td><td>6</td></tr>\n",
       "\t<tr><th scope=row>Jul 1961</th><td>2</td><td>6</td><td>7</td></tr>\n",
       "\t<tr><th scope=row>Aug 1961</th><td>3</td><td>5</td><td>4</td></tr>\n",
       "\t<tr><th scope=row>Sep 1961</th><td>7</td><td>6</td><td>2</td></tr>\n",
       "\t<tr><th scope=row>Oct 1961</th><td>9</td><td>5</td><td>3</td></tr>\n",
       "\t<tr><th scope=row>Nov 1961</th><td>5</td><td>5</td><td>8</td></tr>\n",
       "\t<tr><th scope=row>Dec 1961</th><td>3</td><td>3</td><td>6</td></tr>\n",
       "</tbody>\n",
       "</table>\n"
      ],
      "text/latex": [
       "A Time Series: 12 × 3\n",
       "\\begin{tabular}{r|lll}\n",
       "  & Series 1 & Series 2 & Series 3\\\\\n",
       "\\hline\n",
       "\tJan 1961 & 7 & 9 & 1\\\\\n",
       "\tFeb 1961 & 4 & 3 & 4\\\\\n",
       "\tMar 1961 & 7 & 4 & 8\\\\\n",
       "\tApr 1961 & 4 & 4 & 7\\\\\n",
       "\tMay 1961 & 5 & 2 & 5\\\\\n",
       "\tJun 1961 & 8 & 5 & 6\\\\\n",
       "\tJul 1961 & 2 & 6 & 7\\\\\n",
       "\tAug 1961 & 3 & 5 & 4\\\\\n",
       "\tSep 1961 & 7 & 6 & 2\\\\\n",
       "\tOct 1961 & 9 & 5 & 3\\\\\n",
       "\tNov 1961 & 5 & 5 & 8\\\\\n",
       "\tDec 1961 & 3 & 3 & 6\\\\\n",
       "\\end{tabular}\n"
      ],
      "text/markdown": [
       "\n",
       "A Time Series: 12 × 3\n",
       "\n",
       "| <!--/--> | Series 1 | Series 2 | Series 3 |\n",
       "|---|---|---|---|\n",
       "| Jan 1961 | 7 | 9 | 1 |\n",
       "| Feb 1961 | 4 | 3 | 4 |\n",
       "| Mar 1961 | 7 | 4 | 8 |\n",
       "| Apr 1961 | 4 | 4 | 7 |\n",
       "| May 1961 | 5 | 2 | 5 |\n",
       "| Jun 1961 | 8 | 5 | 6 |\n",
       "| Jul 1961 | 2 | 6 | 7 |\n",
       "| Aug 1961 | 3 | 5 | 4 |\n",
       "| Sep 1961 | 7 | 6 | 2 |\n",
       "| Oct 1961 | 9 | 5 | 3 |\n",
       "| Nov 1961 | 5 | 5 | 8 |\n",
       "| Dec 1961 | 3 | 3 | 6 |\n",
       "\n"
      ],
      "text/plain": [
       "         Series 1 Series 2 Series 3\n",
       "Jan 1961 7        9        1       \n",
       "Feb 1961 4        3        4       \n",
       "Mar 1961 7        4        8       \n",
       "Apr 1961 4        4        7       \n",
       "May 1961 5        2        5       \n",
       "Jun 1961 8        5        6       \n",
       "Jul 1961 2        6        7       \n",
       "Aug 1961 3        5        4       \n",
       "Sep 1961 7        6        2       \n",
       "Oct 1961 9        5        3       \n",
       "Nov 1961 5        5        8       \n",
       "Dec 1961 3        3        6       "
      ]
     },
     "metadata": {},
     "output_type": "display_data"
    }
   ],
   "source": [
    "ts(matrix(rpois(36, 5), 12, 3), start=c(1961,1), frequency=12)"
   ]
  },
  {
   "cell_type": "markdown",
   "id": "56f7d92e-60b8-4d67-acda-a4b5f7d54bae",
   "metadata": {},
   "source": []
  }
 ],
 "metadata": {
  "kernelspec": {
   "display_name": "R",
   "language": "R",
   "name": "ir"
  },
  "language_info": {
   "codemirror_mode": "r",
   "file_extension": ".r",
   "mimetype": "text/x-r-source",
   "name": "R",
   "pygments_lexer": "r",
   "version": "4.2.1"
  }
 },
 "nbformat": 4,
 "nbformat_minor": 5
}
