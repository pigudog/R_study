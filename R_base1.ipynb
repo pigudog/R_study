{
 "cells": [
  {
   "cell_type": "markdown",
   "id": "4176ec5f-1f53-4613-9067-85d7fea25f9f",
   "metadata": {},
   "source": [
    "3种复制方式"
   ]
  },
  {
   "cell_type": "code",
   "execution_count": 2,
   "id": "8d4d5dfa-8aa2-4540-b947-6fc7ada5abdc",
   "metadata": {},
   "outputs": [
    {
     "data": {
      "text/html": [
       "10"
      ],
      "text/latex": [
       "10"
      ],
      "text/markdown": [
       "10"
      ],
      "text/plain": [
       "[1] 10"
      ]
     },
     "metadata": {},
     "output_type": "display_data"
    }
   ],
   "source": [
    "n = 10\n",
    "n"
   ]
  },
  {
   "cell_type": "code",
   "execution_count": 4,
   "id": "b93408f2-348c-47f4-8b45-04b124eaf7a8",
   "metadata": {},
   "outputs": [
    {
     "data": {
      "text/html": [
       "10"
      ],
      "text/latex": [
       "10"
      ],
      "text/markdown": [
       "10"
      ],
      "text/plain": [
       "[1] 10"
      ]
     },
     "metadata": {},
     "output_type": "display_data"
    }
   ],
   "source": [
    "n <- 10\n",
    "n"
   ]
  },
  {
   "cell_type": "code",
   "execution_count": 6,
   "id": "a8f23425-3fb3-4c80-8ddd-d207c4f6b268",
   "metadata": {},
   "outputs": [
    {
     "data": {
      "text/html": [
       "9"
      ],
      "text/latex": [
       "9"
      ],
      "text/markdown": [
       "9"
      ],
      "text/plain": [
       "[1] 9"
      ]
     },
     "metadata": {},
     "output_type": "display_data"
    }
   ],
   "source": [
    "# reverse\n",
    "9 -> n\n",
    "n"
   ]
  },
  {
   "cell_type": "code",
   "execution_count": 9,
   "id": "010ce452-6d5f-4e6e-8754-071a0405c841",
   "metadata": {},
   "outputs": [
    {
     "data": {
      "text/html": [
       "8"
      ],
      "text/latex": [
       "8"
      ],
      "text/markdown": [
       "8"
      ],
      "text/plain": [
       "[1] 8"
      ]
     },
     "metadata": {},
     "output_type": "display_data"
    }
   ],
   "source": [
    "assign('n',8)\n",
    "n"
   ]
  },
  {
   "cell_type": "markdown",
   "id": "da27be3a-a75a-41b1-9835-bffc9c58d418",
   "metadata": {},
   "source": [
    "R的运算符号：加减乘除、乘方、开放、指数"
   ]
  },
  {
   "cell_type": "code",
   "execution_count": 11,
   "id": "ca91b7ad-6374-45a6-b4b5-7d6d2367b61d",
   "metadata": {},
   "outputs": [
    {
     "data": {
      "text/html": [
       "11"
      ],
      "text/latex": [
       "11"
      ],
      "text/markdown": [
       "11"
      ],
      "text/plain": [
       "[1] 11"
      ]
     },
     "metadata": {},
     "output_type": "display_data"
    }
   ],
   "source": [
    "(( 10 + 2 ) * 5 - 2^4)/4"
   ]
  },
  {
   "cell_type": "code",
   "execution_count": 13,
   "id": "dc957054-7a40-4441-9f24-a15d838cd769",
   "metadata": {},
   "outputs": [
    {
     "data": {
      "text/html": [
       "1.73205080756888"
      ],
      "text/latex": [
       "1.73205080756888"
      ],
      "text/markdown": [
       "1.73205080756888"
      ],
      "text/plain": [
       "[1] 1.732051"
      ]
     },
     "metadata": {},
     "output_type": "display_data"
    }
   ],
   "source": [
    "sqrt(3)"
   ]
  },
  {
   "cell_type": "code",
   "execution_count": 14,
   "id": "c8faef8e-eb86-4d8a-a7a9-8c841ca6c17f",
   "metadata": {},
   "outputs": [
    {
     "data": {
      "text/html": [
       "7.38905609893065"
      ],
      "text/latex": [
       "7.38905609893065"
      ],
      "text/markdown": [
       "7.38905609893065"
      ],
      "text/plain": [
       "[1] 7.389056"
      ]
     },
     "metadata": {},
     "output_type": "display_data"
    }
   ],
   "source": [
    "exp(2)"
   ]
  },
  {
   "cell_type": "markdown",
   "id": "eb4e347d-b523-4cb4-bc2e-4cde68bea9d1",
   "metadata": {},
   "source": [
    "# 在线帮助\n",
    "\n",
    "R的基本知识：通过命令"
   ]
  },
  {
   "cell_type": "code",
   "execution_count": 17,
   "id": "3b13af54-2bed-4613-a764-e01bab883c0f",
   "metadata": {},
   "outputs": [],
   "source": [
    "# help.start() "
   ]
  },
  {
   "cell_type": "markdown",
   "id": "3d26c741-906a-41d3-8139-021f96396c71",
   "metadata": {},
   "source": [
    "R种的函数或关键字符"
   ]
  },
  {
   "cell_type": "code",
   "execution_count": 18,
   "id": "cac8c6a4-2d58-4e1d-b6db-cc2ea7792d9e",
   "metadata": {},
   "outputs": [
    {
     "data": {
      "text/html": [
       "No documentation for 'fun' in specified packages and libraries:\n",
       "you could try '??fun'"
      ],
      "text/latex": [
       "No documentation for 'fun' in specified packages and libraries:\n",
       "you could try '??fun'"
      ],
      "text/plain": [
       "No documentation for 'fun' in specified packages and libraries:\n",
       "you could try '??fun'"
      ]
     },
     "metadata": {},
     "output_type": "display_data"
    }
   ],
   "source": [
    "# reserch help of function\n",
    "help(fun)\n",
    "# or\n",
    "?fun"
   ]
  },
  {
   "cell_type": "code",
   "execution_count": 19,
   "id": "75b4250b-c93b-4e9b-acbf-0ec51a13ad72",
   "metadata": {},
   "outputs": [],
   "source": [
    "??fun"
   ]
  },
  {
   "cell_type": "code",
   "execution_count": null,
   "id": "5efd4613-0890-46a7-8743-b68fdbe9ecbe",
   "metadata": {},
   "outputs": [],
   "source": []
  }
 ],
 "metadata": {
  "kernelspec": {
   "display_name": "R",
   "language": "R",
   "name": "ir"
  },
  "language_info": {
   "codemirror_mode": "r",
   "file_extension": ".r",
   "mimetype": "text/x-r-source",
   "name": "R",
   "pygments_lexer": "r",
   "version": "4.2.1"
  }
 },
 "nbformat": 4,
 "nbformat_minor": 5
}
