{
 "cells": [
  {
   "cell_type": "markdown",
   "id": "4176ec5f-1f53-4613-9067-85d7fea25f9f",
   "metadata": {},
   "source": [
    "3种复制方式"
   ]
  },
  {
   "cell_type": "code",
   "execution_count": 2,
   "id": "8d4d5dfa-8aa2-4540-b947-6fc7ada5abdc",
   "metadata": {},
   "outputs": [
    {
     "data": {
      "text/html": [
       "10"
      ],
      "text/latex": [
       "10"
      ],
      "text/markdown": [
       "10"
      ],
      "text/plain": [
       "[1] 10"
      ]
     },
     "metadata": {},
     "output_type": "display_data"
    }
   ],
   "source": [
    "n = 10\n",
    "n"
   ]
  },
  {
   "cell_type": "code",
   "execution_count": 4,
   "id": "b93408f2-348c-47f4-8b45-04b124eaf7a8",
   "metadata": {},
   "outputs": [
    {
     "data": {
      "text/html": [
       "10"
      ],
      "text/latex": [
       "10"
      ],
      "text/markdown": [
       "10"
      ],
      "text/plain": [
       "[1] 10"
      ]
     },
     "metadata": {},
     "output_type": "display_data"
    }
   ],
   "source": [
    "n <- 10\n",
    "n"
   ]
  },
  {
   "cell_type": "code",
   "execution_count": 6,
   "id": "a8f23425-3fb3-4c80-8ddd-d207c4f6b268",
   "metadata": {},
   "outputs": [
    {
     "data": {
      "text/html": [
       "9"
      ],
      "text/latex": [
       "9"
      ],
      "text/markdown": [
       "9"
      ],
      "text/plain": [
       "[1] 9"
      ]
     },
     "metadata": {},
     "output_type": "display_data"
    }
   ],
   "source": [
    "# reverse\n",
    "9 -> n\n",
    "n"
   ]
  },
  {
   "cell_type": "code",
   "execution_count": 9,
   "id": "010ce452-6d5f-4e6e-8754-071a0405c841",
   "metadata": {},
   "outputs": [
    {
     "data": {
      "text/html": [
       "8"
      ],
      "text/latex": [
       "8"
      ],
      "text/markdown": [
       "8"
      ],
      "text/plain": [
       "[1] 8"
      ]
     },
     "metadata": {},
     "output_type": "display_data"
    }
   ],
   "source": [
    "assign('n',8)\n",
    "n"
   ]
  },
  {
   "cell_type": "markdown",
   "id": "da27be3a-a75a-41b1-9835-bffc9c58d418",
   "metadata": {},
   "source": [
    "R的运算符号：加减乘除、乘方、开放、指数"
   ]
  },
  {
   "cell_type": "code",
   "execution_count": 11,
   "id": "ca91b7ad-6374-45a6-b4b5-7d6d2367b61d",
   "metadata": {},
   "outputs": [
    {
     "data": {
      "text/html": [
       "11"
      ],
      "text/latex": [
       "11"
      ],
      "text/markdown": [
       "11"
      ],
      "text/plain": [
       "[1] 11"
      ]
     },
     "metadata": {},
     "output_type": "display_data"
    }
   ],
   "source": [
    "(( 10 + 2 ) * 5 - 2^4)/4"
   ]
  },
  {
   "cell_type": "code",
   "execution_count": 13,
   "id": "dc957054-7a40-4441-9f24-a15d838cd769",
   "metadata": {},
   "outputs": [
    {
     "data": {
      "text/html": [
       "1.73205080756888"
      ],
      "text/latex": [
       "1.73205080756888"
      ],
      "text/markdown": [
       "1.73205080756888"
      ],
      "text/plain": [
       "[1] 1.732051"
      ]
     },
     "metadata": {},
     "output_type": "display_data"
    }
   ],
   "source": [
    "sqrt(3)"
   ]
  },
  {
   "cell_type": "code",
   "execution_count": 14,
   "id": "c8faef8e-eb86-4d8a-a7a9-8c841ca6c17f",
   "metadata": {},
   "outputs": [
    {
     "data": {
      "text/html": [
       "7.38905609893065"
      ],
      "text/latex": [
       "7.38905609893065"
      ],
      "text/markdown": [
       "7.38905609893065"
      ],
      "text/plain": [
       "[1] 7.389056"
      ]
     },
     "metadata": {},
     "output_type": "display_data"
    }
   ],
   "source": [
    "exp(2)"
   ]
  },
  {
   "cell_type": "markdown",
   "id": "eb4e347d-b523-4cb4-bc2e-4cde68bea9d1",
   "metadata": {},
   "source": [
    "# 在线帮助\n",
    "\n",
    "R的基本知识：通过命令"
   ]
  },
  {
   "cell_type": "code",
   "execution_count": 17,
   "id": "3b13af54-2bed-4613-a764-e01bab883c0f",
   "metadata": {},
   "outputs": [],
   "source": [
    "# help.start() "
   ]
  },
  {
   "cell_type": "markdown",
   "id": "3d26c741-906a-41d3-8139-021f96396c71",
   "metadata": {},
   "source": [
    "R种的函数或关键字符"
   ]
  },
  {
   "cell_type": "code",
   "execution_count": 18,
   "id": "cac8c6a4-2d58-4e1d-b6db-cc2ea7792d9e",
   "metadata": {},
   "outputs": [
    {
     "data": {
      "text/html": [
       "No documentation for 'fun' in specified packages and libraries:\n",
       "you could try '??fun'"
      ],
      "text/latex": [
       "No documentation for 'fun' in specified packages and libraries:\n",
       "you could try '??fun'"
      ],
      "text/plain": [
       "No documentation for 'fun' in specified packages and libraries:\n",
       "you could try '??fun'"
      ]
     },
     "metadata": {},
     "output_type": "display_data"
    }
   ],
   "source": [
    "# reserch help of function\n",
    "help(fun)\n",
    "# or\n",
    "?fun"
   ]
  },
  {
   "cell_type": "code",
   "execution_count": 19,
   "id": "75b4250b-c93b-4e9b-acbf-0ec51a13ad72",
   "metadata": {},
   "outputs": [],
   "source": [
    "??fun"
   ]
  },
  {
   "cell_type": "code",
   "execution_count": 20,
   "id": "5efd4613-0890-46a7-8743-b68fdbe9ecbe",
   "metadata": {},
   "outputs": [
    {
     "data": {
      "text/html": [
       "\n",
       "<table style=\"width: 100%;\"><tr><td>char {pillar}</td><td style=\"text-align: right;\">R Documentation</td></tr></table>\n",
       "\n",
       "<h2>Format a character vector in a tibble</h2>\n",
       "\n",
       "<h3>Description</h3>\n",
       "\n",
       "<p>These functions are reexported as <code>tibble::char()</code> and <code>tibble::set_char_opts()</code>.\n",
       "</p>\n",
       "\n",
       "\n",
       "<h3>Usage</h3>\n",
       "\n",
       "<pre><code class='language-R'>char(\n",
       "  x,\n",
       "  ...,\n",
       "  min_chars = NULL,\n",
       "  shorten = c(\"back\", \"front\", \"mid\", \"abbreviate\")\n",
       ")\n",
       "\n",
       "set_char_opts(\n",
       "  x,\n",
       "  ...,\n",
       "  min_chars = NULL,\n",
       "  shorten = c(\"back\", \"front\", \"mid\", \"abbreviate\")\n",
       ")\n",
       "</code></pre>\n",
       "\n",
       "<hr /><div style=\"text-align: center;\">[Package <em>pillar</em> version 1.8.1 ]</div>\n",
       "</div>"
      ],
      "text/latex": [
       "\\inputencoding{utf8}\n",
       "\\HeaderA{char}{Format a character vector in a tibble}{char}\n",
       "\\aliasA{set\\_char\\_opts}{char}{set.Rul.char.Rul.opts}\n",
       "\\keyword{internal}{char}\n",
       "%\n",
       "\\begin{Description}\\relax\n",
       "These functions are reexported as \\code{\\LinkA{tibble::char()}{tibble::char()}} and \\code{\\LinkA{tibble::set\\_char\\_opts()}{tibble::set.Rul.char.Rul.opts()}}.\n",
       "\\end{Description}\n",
       "%\n",
       "\\begin{Usage}\n",
       "\\begin{verbatim}\n",
       "char(\n",
       "  x,\n",
       "  ...,\n",
       "  min_chars = NULL,\n",
       "  shorten = c(\"back\", \"front\", \"mid\", \"abbreviate\")\n",
       ")\n",
       "\n",
       "set_char_opts(\n",
       "  x,\n",
       "  ...,\n",
       "  min_chars = NULL,\n",
       "  shorten = c(\"back\", \"front\", \"mid\", \"abbreviate\")\n",
       ")\n",
       "\\end{verbatim}\n",
       "\\end{Usage}"
      ],
      "text/plain": [
       "char                  package:pillar                   R Documentation\n",
       "\n",
       "_\bF_\bo_\br_\bm_\ba_\bt _\ba _\bc_\bh_\ba_\br_\ba_\bc_\bt_\be_\br _\bv_\be_\bc_\bt_\bo_\br _\bi_\bn _\ba _\bt_\bi_\bb_\bb_\bl_\be\n",
       "\n",
       "_\bD_\be_\bs_\bc_\br_\bi_\bp_\bt_\bi_\bo_\bn:\n",
       "\n",
       "     These functions are reexported as 'tibble::char()' and\n",
       "     'tibble::set_char_opts()'.\n",
       "\n",
       "_\bU_\bs_\ba_\bg_\be:\n",
       "\n",
       "     char(\n",
       "       x,\n",
       "       ...,\n",
       "       min_chars = NULL,\n",
       "       shorten = c(\"back\", \"front\", \"mid\", \"abbreviate\")\n",
       "     )\n",
       "     \n",
       "     set_char_opts(\n",
       "       x,\n",
       "       ...,\n",
       "       min_chars = NULL,\n",
       "       shorten = c(\"back\", \"front\", \"mid\", \"abbreviate\")\n",
       "     )\n",
       "     "
      ]
     },
     "metadata": {},
     "output_type": "display_data"
    }
   ],
   "source": [
    "help(\"char\") "
   ]
  },
  {
   "cell_type": "code",
   "execution_count": 22,
   "id": "684a7085-34f9-47e0-b995-f17e22edeb9a",
   "metadata": {},
   "outputs": [
    {
     "ename": "ERROR",
     "evalue": "Error in help(\"bs\", try.all.package = True): object 'True' not found\n",
     "output_type": "error",
     "traceback": [
      "Error in help(\"bs\", try.all.package = True): object 'True' not found\nTraceback:\n",
      "1. help(\"bs\", try.all.package = True)"
     ]
    }
   ],
   "source": [
    "help(\"bs\",try.all.package=True)"
   ]
  },
  {
   "cell_type": "code",
   "execution_count": 23,
   "id": "186c7d3d-bd99-486a-815f-75273a768e7c",
   "metadata": {},
   "outputs": [
    {
     "data": {
      "text/html": [
       "\n",
       "<table style=\"width: 100%;\"><tr><td>bs {splines}</td><td style=\"text-align: right;\">R Documentation</td></tr></table>\n",
       "\n",
       "<h2>B-Spline Basis for Polynomial Splines</h2>\n",
       "\n",
       "<h3>Description</h3>\n",
       "\n",
       "<p>Generate the B-spline basis matrix for a polynomial spline.\n",
       "</p>\n",
       "\n",
       "\n",
       "<h3>Usage</h3>\n",
       "\n",
       "<pre><code class='language-R'>bs(x, df = NULL, knots = NULL, degree = 3, intercept = FALSE,\n",
       "   Boundary.knots = range(x))\n",
       "</code></pre>\n",
       "\n",
       "\n",
       "<h3>Arguments</h3>\n",
       "\n",
       "<table>\n",
       "<tr style=\"vertical-align: top;\"><td><code>x</code></td>\n",
       "<td>\n",
       "<p>the predictor variable.  Missing values are allowed.</p>\n",
       "</td></tr>\n",
       "<tr style=\"vertical-align: top;\"><td><code>df</code></td>\n",
       "<td>\n",
       "<p>degrees of freedom; one can specify <code>df</code> rather than\n",
       "<code>knots</code>; <code>bs()</code> then chooses <code>df-degree</code> (minus one\n",
       "if there is an intercept) knots at suitable quantiles of <code>x</code>\n",
       "(which will ignore missing values).  The default, <code>NULL</code>,\n",
       "takes the number of inner knots as <code>length(knots)</code>.  If that is\n",
       "zero as per default, that corresponds to <code>df = degree - intercept</code>.</p>\n",
       "</td></tr>\n",
       "<tr style=\"vertical-align: top;\"><td><code>knots</code></td>\n",
       "<td>\n",
       "<p>the <em>internal</em> breakpoints that define the\n",
       "spline.  The default is <code>NULL</code>, which results in a basis for\n",
       "ordinary polynomial regression.  Typical values are the mean or\n",
       "median for one knot, quantiles for more knots.  See also\n",
       "<code>Boundary.knots</code>.</p>\n",
       "</td></tr>\n",
       "<tr style=\"vertical-align: top;\"><td><code>degree</code></td>\n",
       "<td>\n",
       "<p>degree of the piecewise polynomial&mdash;default is <code>3</code> for\n",
       "cubic splines.</p>\n",
       "</td></tr>\n",
       "<tr style=\"vertical-align: top;\"><td><code>intercept</code></td>\n",
       "<td>\n",
       "<p>if <code>TRUE</code>, an intercept is included in the\n",
       "basis; default is <code>FALSE</code>.</p>\n",
       "</td></tr>\n",
       "<tr style=\"vertical-align: top;\"><td><code>Boundary.knots</code></td>\n",
       "<td>\n",
       "<p>boundary points at which to anchor the B-spline\n",
       "basis (default the range of the non-<code>NA</code> data).  If both\n",
       "<code>knots</code> and <code>Boundary.knots</code> are supplied, the basis\n",
       "parameters do not depend on <code>x</code>.  Data can extend beyond\n",
       "<code>Boundary.knots</code>.</p>\n",
       "</td></tr>\n",
       "</table>\n",
       "\n",
       "\n",
       "<h3>Details</h3>\n",
       "\n",
       "<p><code>bs</code> is based on the function <code>splineDesign</code>.\n",
       "It generates a basis matrix for\n",
       "representing the family of piecewise polynomials with the specified\n",
       "interior knots and degree, evaluated at the values of <code>x</code>.  A\n",
       "primary use is in modeling formulas to directly specify a piecewise\n",
       "polynomial term in a model.\n",
       "</p>\n",
       "<p>When <code>Boundary.knots</code> are set <em>inside</em> <code>range(x)</code>,\n",
       "<code>bs()</code> now uses a &lsquo;pivot&rsquo; inside the respective boundary\n",
       "knot which is important for derivative evaluation.  In <span style=\"font-family: Courier New, Courier; color: #666666;\"><b>R</b></span> versions\n",
       "<code class=\"reqn\">\\le</code> 3.2.2, the boundary knot itself had been used as\n",
       "pivot, which lead to somewhat wrong extrapolations.\n",
       "</p>\n",
       "\n",
       "\n",
       "<h3>Value</h3>\n",
       "\n",
       "<p>A matrix of dimension <code>c(length(x), df)</code>, where either <code>df</code>\n",
       "was supplied or if <code>knots</code> were supplied, <code>df =\n",
       "  length(knots) + degree</code> plus one if there is an intercept.  Attributes\n",
       "are returned that correspond to the arguments to <code>bs</code>, and\n",
       "explicitly give the <code>knots</code>, <code>Boundary.knots</code> etc for use by\n",
       "<code>predict.bs()</code>.\n",
       "</p>\n",
       "\n",
       "\n",
       "<h3>Author(s)</h3>\n",
       "\n",
       "<p>Douglas Bates and Bill Venables.  Tweaks by R Core, and a patch\n",
       "fixing extrapolation &ldquo;outside&rdquo; <code>Boundary.knots</code> by Trevor\n",
       "Hastie.\n",
       "</p>\n",
       "\n",
       "\n",
       "<h3>References</h3>\n",
       "\n",
       "<p>Hastie, T. J. (1992)\n",
       "Generalized additive models.\n",
       "Chapter 7 of <em>Statistical Models in S</em>\n",
       "eds J. M. Chambers and T. J. Hastie, Wadsworth &amp; Brooks/Cole.\n",
       "</p>\n",
       "\n",
       "\n",
       "<h3>See Also</h3>\n",
       "\n",
       "<p><code>ns</code>, <code>poly</code>, <code>smooth.spline</code>,\n",
       "<code>predict.bs</code>, <code>SafePrediction</code>\n",
       "</p>\n",
       "\n",
       "\n",
       "<h3>Examples</h3>\n",
       "\n",
       "<pre><code class='language-R'>require(stats); require(graphics)\n",
       "bs(women$height, df = 5)\n",
       "summary(fm1 &lt;- lm(weight ~ bs(height, df = 5), data = women))\n",
       "\n",
       "## example of safe prediction\n",
       "plot(women, xlab = \"Height (in)\", ylab = \"Weight (lb)\")\n",
       "ht &lt;- seq(57, 73, length.out = 200)\n",
       "lines(ht, predict(fm1, data.frame(height = ht)))\n",
       "</code></pre>\n",
       "\n",
       "<hr /><div style=\"text-align: center;\">[Package <em>splines</em> version 4.2.1 ]</div>\n",
       "</div>"
      ],
      "text/latex": [
       "\\inputencoding{utf8}\n",
       "\\HeaderA{bs}{B-Spline Basis for Polynomial Splines}{bs}\n",
       "\\keyword{smooth}{bs}\n",
       "%\n",
       "\\begin{Description}\\relax\n",
       "Generate the B-spline basis matrix for a polynomial spline.\n",
       "\\end{Description}\n",
       "%\n",
       "\\begin{Usage}\n",
       "\\begin{verbatim}\n",
       "bs(x, df = NULL, knots = NULL, degree = 3, intercept = FALSE,\n",
       "   Boundary.knots = range(x))\n",
       "\\end{verbatim}\n",
       "\\end{Usage}\n",
       "%\n",
       "\\begin{Arguments}\n",
       "\\begin{ldescription}\n",
       "\\item[\\code{x}] the predictor variable.  Missing values are allowed.\n",
       "\\item[\\code{df}] degrees of freedom; one can specify \\code{df} rather than\n",
       "\\code{knots}; \\code{bs()} then chooses \\code{df-degree} (minus one\n",
       "if there is an intercept) knots at suitable quantiles of \\code{x}\n",
       "(which will ignore missing values).  The default, \\code{NULL},\n",
       "takes the number of inner knots as \\code{length(knots)}.  If that is\n",
       "zero as per default, that corresponds to \\code{df = degree - intercept}.\n",
       "\\item[\\code{knots}] the \\emph{internal} breakpoints that define the\n",
       "spline.  The default is \\code{NULL}, which results in a basis for\n",
       "ordinary polynomial regression.  Typical values are the mean or\n",
       "median for one knot, quantiles for more knots.  See also\n",
       "\\code{Boundary.knots}.\n",
       "\\item[\\code{degree}] degree of the piecewise polynomial---default is \\code{3} for\n",
       "cubic splines.\n",
       "\\item[\\code{intercept}] if \\code{TRUE}, an intercept is included in the\n",
       "basis; default is \\code{FALSE}.\n",
       "\\item[\\code{Boundary.knots}] boundary points at which to anchor the B-spline\n",
       "basis (default the range of the non-\\code{\\LinkA{NA}{NA}} data).  If both\n",
       "\\code{knots} and \\code{Boundary.knots} are supplied, the basis\n",
       "parameters do not depend on \\code{x}.  Data can extend beyond\n",
       "\\code{Boundary.knots}.\n",
       "\\end{ldescription}\n",
       "\\end{Arguments}\n",
       "%\n",
       "\\begin{Details}\\relax\n",
       "\\code{bs} is based on the function \\code{\\LinkA{splineDesign}{splineDesign}}.\n",
       "It generates a basis matrix for\n",
       "representing the family of piecewise polynomials with the specified\n",
       "interior knots and degree, evaluated at the values of \\code{x}.  A\n",
       "primary use is in modeling formulas to directly specify a piecewise\n",
       "polynomial term in a model.\n",
       "\n",
       "When \\code{Boundary.knots} are set \\emph{inside} \\code{range(x)},\n",
       "\\code{bs()} now uses a `pivot' inside the respective boundary\n",
       "knot which is important for derivative evaluation.  In \\R{} versions\n",
       "\\eqn{\\le}{} 3.2.2, the boundary knot itself had been used as\n",
       "pivot, which lead to somewhat wrong extrapolations.\n",
       "\\end{Details}\n",
       "%\n",
       "\\begin{Value}\n",
       "A matrix of dimension \\code{c(length(x), df)}, where either \\code{df}\n",
       "was supplied or if \\code{knots} were supplied, \\code{df =\n",
       "  length(knots) + degree} plus one if there is an intercept.  Attributes\n",
       "are returned that correspond to the arguments to \\code{bs}, and\n",
       "explicitly give the \\code{knots}, \\code{Boundary.knots} etc for use by\n",
       "\\code{predict.bs()}.\n",
       "\\end{Value}\n",
       "%\n",
       "\\begin{Author}\\relax\n",
       "Douglas Bates and Bill Venables.  Tweaks by R Core, and a patch\n",
       "fixing extrapolation ``outside'' \\code{Boundary.knots} by Trevor\n",
       "Hastie.\n",
       "\\end{Author}\n",
       "%\n",
       "\\begin{References}\\relax\n",
       "Hastie, T. J. (1992)\n",
       "Generalized additive models.\n",
       "Chapter 7 of \\emph{Statistical Models in S}\n",
       "eds J. M. Chambers and T. J. Hastie, Wadsworth \\& Brooks/Cole.\n",
       "\\end{References}\n",
       "%\n",
       "\\begin{SeeAlso}\\relax\n",
       "\\code{\\LinkA{ns}{ns}}, \\code{\\LinkA{poly}{poly}}, \\code{\\LinkA{smooth.spline}{smooth.spline}},\n",
       "\\code{\\LinkA{predict.bs}{predict.bs}}, \\code{\\LinkA{SafePrediction}{SafePrediction}}\n",
       "\\end{SeeAlso}\n",
       "%\n",
       "\\begin{Examples}\n",
       "\\begin{ExampleCode}\n",
       "require(stats); require(graphics)\n",
       "bs(women$height, df = 5)\n",
       "summary(fm1 <- lm(weight ~ bs(height, df = 5), data = women))\n",
       "\n",
       "## example of safe prediction\n",
       "plot(women, xlab = \"Height (in)\", ylab = \"Weight (lb)\")\n",
       "ht <- seq(57, 73, length.out = 200)\n",
       "lines(ht, predict(fm1, data.frame(height = ht)))\n",
       "\\end{ExampleCode}\n",
       "\\end{Examples}"
      ],
      "text/plain": [
       "bs                   package:splines                   R Documentation\n",
       "\n",
       "_\bB-_\bS_\bp_\bl_\bi_\bn_\be _\bB_\ba_\bs_\bi_\bs _\bf_\bo_\br _\bP_\bo_\bl_\by_\bn_\bo_\bm_\bi_\ba_\bl _\bS_\bp_\bl_\bi_\bn_\be_\bs\n",
       "\n",
       "_\bD_\be_\bs_\bc_\br_\bi_\bp_\bt_\bi_\bo_\bn:\n",
       "\n",
       "     Generate the B-spline basis matrix for a polynomial spline.\n",
       "\n",
       "_\bU_\bs_\ba_\bg_\be:\n",
       "\n",
       "     bs(x, df = NULL, knots = NULL, degree = 3, intercept = FALSE,\n",
       "        Boundary.knots = range(x))\n",
       "     \n",
       "_\bA_\br_\bg_\bu_\bm_\be_\bn_\bt_\bs:\n",
       "\n",
       "       x: the predictor variable.  Missing values are allowed.\n",
       "\n",
       "      df: degrees of freedom; one can specify 'df' rather than 'knots';\n",
       "          'bs()' then chooses 'df-degree' (minus one if there is an\n",
       "          intercept) knots at suitable quantiles of 'x' (which will\n",
       "          ignore missing values).  The default, 'NULL', takes the\n",
       "          number of inner knots as 'length(knots)'.  If that is zero as\n",
       "          per default, that corresponds to 'df = degree - intercept'.\n",
       "\n",
       "   knots: the _internal_ breakpoints that define the spline.  The\n",
       "          default is 'NULL', which results in a basis for ordinary\n",
       "          polynomial regression.  Typical values are the mean or median\n",
       "          for one knot, quantiles for more knots.  See also\n",
       "          'Boundary.knots'.\n",
       "\n",
       "  degree: degree of the piecewise polynomial-default is '3' for cubic\n",
       "          splines.\n",
       "\n",
       "intercept: if 'TRUE', an intercept is included in the basis; default is\n",
       "          'FALSE'.\n",
       "\n",
       "Boundary.knots: boundary points at which to anchor the B-spline basis\n",
       "          (default the range of the non-'NA' data).  If both 'knots'\n",
       "          and 'Boundary.knots' are supplied, the basis parameters do\n",
       "          not depend on 'x'.  Data can extend beyond 'Boundary.knots'.\n",
       "\n",
       "_\bD_\be_\bt_\ba_\bi_\bl_\bs:\n",
       "\n",
       "     'bs' is based on the function 'splineDesign'.  It generates a\n",
       "     basis matrix for representing the family of piecewise polynomials\n",
       "     with the specified interior knots and degree, evaluated at the\n",
       "     values of 'x'.  A primary use is in modeling formulas to directly\n",
       "     specify a piecewise polynomial term in a model.\n",
       "\n",
       "     When 'Boundary.knots' are set _inside_ 'range(x)', 'bs()' now uses\n",
       "     a 'pivot' inside the respective boundary knot which is important\n",
       "     for derivative evaluation.  In R versions <= 3.2.2, the boundary\n",
       "     knot itself had been used as pivot, which lead to somewhat wrong\n",
       "     extrapolations.\n",
       "\n",
       "_\bV_\ba_\bl_\bu_\be:\n",
       "\n",
       "     A matrix of dimension 'c(length(x), df)', where either 'df' was\n",
       "     supplied or if 'knots' were supplied, 'df = length(knots) +\n",
       "     degree' plus one if there is an intercept.  Attributes are\n",
       "     returned that correspond to the arguments to 'bs', and explicitly\n",
       "     give the 'knots', 'Boundary.knots' etc for use by 'predict.bs()'.\n",
       "\n",
       "_\bA_\bu_\bt_\bh_\bo_\br(_\bs):\n",
       "\n",
       "     Douglas Bates and Bill Venables.  Tweaks by R Core, and a patch\n",
       "     fixing extrapolation \"outside\" 'Boundary.knots' by Trevor Hastie.\n",
       "\n",
       "_\bR_\be_\bf_\be_\br_\be_\bn_\bc_\be_\bs:\n",
       "\n",
       "     Hastie, T. J. (1992) Generalized additive models.  Chapter 7 of\n",
       "     _Statistical Models in S_ eds J. M. Chambers and T. J. Hastie,\n",
       "     Wadsworth & Brooks/Cole.\n",
       "\n",
       "_\bS_\be_\be _\bA_\bl_\bs_\bo:\n",
       "\n",
       "     'ns', 'poly', 'smooth.spline', 'predict.bs', 'SafePrediction'\n",
       "\n",
       "_\bE_\bx_\ba_\bm_\bp_\bl_\be_\bs:\n",
       "\n",
       "     require(stats); require(graphics)\n",
       "     bs(women$height, df = 5)\n",
       "     summary(fm1 <- lm(weight ~ bs(height, df = 5), data = women))\n",
       "     \n",
       "     ## example of safe prediction\n",
       "     plot(women, xlab = \"Height (in)\", ylab = \"Weight (lb)\")\n",
       "     ht <- seq(57, 73, length.out = 200)\n",
       "     lines(ht, predict(fm1, data.frame(height = ht)))\n",
       "     "
      ]
     },
     "metadata": {},
     "output_type": "display_data"
    }
   ],
   "source": [
    "help(\"bs\",try.all.package=TRUE)"
   ]
  }
 ],
 "metadata": {
  "kernelspec": {
   "display_name": "R",
   "language": "R",
   "name": "ir"
  },
  "language_info": {
   "codemirror_mode": "r",
   "file_extension": ".r",
   "mimetype": "text/x-r-source",
   "name": "R",
   "pygments_lexer": "r",
   "version": "4.2.1"
  }
 },
 "nbformat": 4,
 "nbformat_minor": 5
}
