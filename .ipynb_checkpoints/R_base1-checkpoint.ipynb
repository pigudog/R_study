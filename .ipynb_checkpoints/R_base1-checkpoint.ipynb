{
 "cells": [
  {
   "cell_type": "markdown",
   "id": "4176ec5f-1f53-4613-9067-85d7fea25f9f",
   "metadata": {},
   "source": [
    "3种复制方式"
   ]
  },
  {
   "cell_type": "code",
   "execution_count": 2,
   "id": "8d4d5dfa-8aa2-4540-b947-6fc7ada5abdc",
   "metadata": {},
   "outputs": [
    {
     "data": {
      "text/html": [
       "10"
      ],
      "text/latex": [
       "10"
      ],
      "text/markdown": [
       "10"
      ],
      "text/plain": [
       "[1] 10"
      ]
     },
     "metadata": {},
     "output_type": "display_data"
    }
   ],
   "source": [
    "n = 10\n",
    "n"
   ]
  },
  {
   "cell_type": "code",
   "execution_count": 4,
   "id": "b93408f2-348c-47f4-8b45-04b124eaf7a8",
   "metadata": {},
   "outputs": [
    {
     "data": {
      "text/html": [
       "10"
      ],
      "text/latex": [
       "10"
      ],
      "text/markdown": [
       "10"
      ],
      "text/plain": [
       "[1] 10"
      ]
     },
     "metadata": {},
     "output_type": "display_data"
    }
   ],
   "source": [
    "n <- 10\n",
    "n"
   ]
  },
  {
   "cell_type": "code",
   "execution_count": 6,
   "id": "a8f23425-3fb3-4c80-8ddd-d207c4f6b268",
   "metadata": {},
   "outputs": [
    {
     "data": {
      "text/html": [
       "9"
      ],
      "text/latex": [
       "9"
      ],
      "text/markdown": [
       "9"
      ],
      "text/plain": [
       "[1] 9"
      ]
     },
     "metadata": {},
     "output_type": "display_data"
    }
   ],
   "source": [
    "# reverse\n",
    "9 -> n\n",
    "n"
   ]
  },
  {
   "cell_type": "code",
   "execution_count": 9,
   "id": "010ce452-6d5f-4e6e-8754-071a0405c841",
   "metadata": {},
   "outputs": [
    {
     "data": {
      "text/html": [
       "8"
      ],
      "text/latex": [
       "8"
      ],
      "text/markdown": [
       "8"
      ],
      "text/plain": [
       "[1] 8"
      ]
     },
     "metadata": {},
     "output_type": "display_data"
    }
   ],
   "source": [
    "assign('n',8)\n",
    "n"
   ]
  },
  {
   "cell_type": "markdown",
   "id": "da27be3a-a75a-41b1-9835-bffc9c58d418",
   "metadata": {},
   "source": [
    "R的运算符号：加减乘除、乘方、开放、指数"
   ]
  },
  {
   "cell_type": "code",
   "execution_count": null,
   "id": "ca91b7ad-6374-45a6-b4b5-7d6d2367b61d",
   "metadata": {},
   "outputs": [],
   "source": []
  }
 ],
 "metadata": {
  "kernelspec": {
   "display_name": "R",
   "language": "R",
   "name": "ir"
  },
  "language_info": {
   "codemirror_mode": "r",
   "file_extension": ".r",
   "mimetype": "text/x-r-source",
   "name": "R",
   "pygments_lexer": "r",
   "version": "4.2.1"
  }
 },
 "nbformat": 4,
 "nbformat_minor": 5
}
