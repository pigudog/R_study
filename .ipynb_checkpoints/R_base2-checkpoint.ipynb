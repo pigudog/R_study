{
 "cells": [
  {
   "cell_type": "markdown",
   "id": "4ae41f41-f3eb-4f3b-b409-8935bbcbaade",
   "metadata": {},
   "source": [
    "# Intro-base2\n",
    "- 数据库存储盒读取\n",
    "- R基本绘图\n",
    "- R编程"
   ]
  },
  {
   "cell_type": "markdown",
   "id": "e81e342b-e832-4bcb-8bec-fc1fefe707e7",
   "metadata": {},
   "source": [
    "# 1.数据库存储和读取\n",
    "命令getwd()获得工作目录，setwd()设置工作目录。\n",
    "\n",
    "R命令中目录的分隔符使用正斜杠“/”或两个反斜杠“\\”。\n",
    "\n",
    "## 数据的存储\n",
    "\n",
    "使用函数write.table()或save()在文件中写入一个对象。下面以数据框为例"
   ]
  },
  {
   "cell_type": "code",
   "execution_count": null,
   "id": "bd69274a-5377-46fa-ab2d-5a34881249f3",
   "metadata": {},
   "outputs": [],
   "source": []
  }
 ],
 "metadata": {
  "kernelspec": {
   "display_name": "R",
   "language": "R",
   "name": "ir"
  },
  "language_info": {
   "codemirror_mode": "r",
   "file_extension": ".r",
   "mimetype": "text/x-r-source",
   "name": "R",
   "pygments_lexer": "r",
   "version": "4.2.1"
  }
 },
 "nbformat": 4,
 "nbformat_minor": 5
}
